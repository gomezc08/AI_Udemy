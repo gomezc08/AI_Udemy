{
  "cells": [
    {
      "cell_type": "markdown",
      "metadata": {
        "id": "view-in-github",
        "colab_type": "text"
      },
      "source": [
        "<a href=\"https://colab.research.google.com/github/gomezc08/AI_Udemy/blob/main/Deep_Q_Learning_Lunar_Landing.ipynb\" target=\"_parent\"><img src=\"https://colab.research.google.com/assets/colab-badge.svg\" alt=\"Open In Colab\"/></a>"
      ]
    },
    {
      "cell_type": "markdown",
      "metadata": {
        "id": "LbZcI9ZXHl3a"
      },
      "source": [
        "# Deep Q-Learning for Lunar Landing"
      ]
    },
    {
      "cell_type": "markdown",
      "metadata": {
        "id": "E8yPRjteXgPb"
      },
      "source": [
        "## Part 0 - Installing the required packages and importing the libraries"
      ]
    },
    {
      "cell_type": "markdown",
      "metadata": {
        "id": "slEm5teGWjWU"
      },
      "source": [
        "### Installing Gymnasium"
      ]
    },
    {
      "cell_type": "code",
      "execution_count": null,
      "metadata": {
        "id": "dbnq3XpoKa_7",
        "colab": {
          "base_uri": "https://localhost:8080/"
        },
        "outputId": "9746b5b9-cbbe-45bc-cee6-2333d0c2add7"
      },
      "outputs": [
        {
          "output_type": "stream",
          "name": "stdout",
          "text": [
            "Requirement already satisfied: gymnasium in /usr/local/lib/python3.11/dist-packages (1.1.1)\n",
            "Requirement already satisfied: numpy>=1.21.0 in /usr/local/lib/python3.11/dist-packages (from gymnasium) (1.26.4)\n",
            "Requirement already satisfied: cloudpickle>=1.2.0 in /usr/local/lib/python3.11/dist-packages (from gymnasium) (3.1.1)\n",
            "Requirement already satisfied: typing-extensions>=4.3.0 in /usr/local/lib/python3.11/dist-packages (from gymnasium) (4.12.2)\n",
            "Requirement already satisfied: farama-notifications>=0.0.1 in /usr/local/lib/python3.11/dist-packages (from gymnasium) (0.0.4)\n",
            "Requirement already satisfied: gymnasium[accept-rom-license,atari] in /usr/local/lib/python3.11/dist-packages (1.1.1)\n",
            "\u001b[33mWARNING: gymnasium 1.1.1 does not provide the extra 'accept-rom-license'\u001b[0m\u001b[33m\n",
            "\u001b[0mRequirement already satisfied: numpy>=1.21.0 in /usr/local/lib/python3.11/dist-packages (from gymnasium[accept-rom-license,atari]) (1.26.4)\n",
            "Requirement already satisfied: cloudpickle>=1.2.0 in /usr/local/lib/python3.11/dist-packages (from gymnasium[accept-rom-license,atari]) (3.1.1)\n",
            "Requirement already satisfied: typing-extensions>=4.3.0 in /usr/local/lib/python3.11/dist-packages (from gymnasium[accept-rom-license,atari]) (4.12.2)\n",
            "Requirement already satisfied: farama-notifications>=0.0.1 in /usr/local/lib/python3.11/dist-packages (from gymnasium[accept-rom-license,atari]) (0.0.4)\n",
            "Requirement already satisfied: ale_py>=0.9 in /usr/local/lib/python3.11/dist-packages (from gymnasium[accept-rom-license,atari]) (0.10.2)\n",
            "Reading package lists... Done\n",
            "Building dependency tree... Done\n",
            "Reading state information... Done\n",
            "The following additional packages will be installed:\n",
            "  swig4.0\n",
            "Suggested packages:\n",
            "  swig-doc swig-examples swig4.0-examples swig4.0-doc\n",
            "The following NEW packages will be installed:\n",
            "  swig swig4.0\n",
            "0 upgraded, 2 newly installed, 0 to remove and 29 not upgraded.\n",
            "Need to get 1,116 kB of archives.\n",
            "After this operation, 5,542 kB of additional disk space will be used.\n",
            "Get:1 http://archive.ubuntu.com/ubuntu jammy/universe amd64 swig4.0 amd64 4.0.2-1ubuntu1 [1,110 kB]\n",
            "Get:2 http://archive.ubuntu.com/ubuntu jammy/universe amd64 swig all 4.0.2-1ubuntu1 [5,632 B]\n",
            "Fetched 1,116 kB in 2s (516 kB/s)\n",
            "Selecting previously unselected package swig4.0.\n",
            "(Reading database ... 124947 files and directories currently installed.)\n",
            "Preparing to unpack .../swig4.0_4.0.2-1ubuntu1_amd64.deb ...\n",
            "Unpacking swig4.0 (4.0.2-1ubuntu1) ...\n",
            "Selecting previously unselected package swig.\n",
            "Preparing to unpack .../swig_4.0.2-1ubuntu1_all.deb ...\n",
            "Unpacking swig (4.0.2-1ubuntu1) ...\n",
            "Setting up swig4.0 (4.0.2-1ubuntu1) ...\n",
            "Setting up swig (4.0.2-1ubuntu1) ...\n",
            "Processing triggers for man-db (2.10.2-1) ...\n",
            "Requirement already satisfied: gymnasium[box2d] in /usr/local/lib/python3.11/dist-packages (1.1.1)\n",
            "Requirement already satisfied: numpy>=1.21.0 in /usr/local/lib/python3.11/dist-packages (from gymnasium[box2d]) (1.26.4)\n",
            "Requirement already satisfied: cloudpickle>=1.2.0 in /usr/local/lib/python3.11/dist-packages (from gymnasium[box2d]) (3.1.1)\n",
            "Requirement already satisfied: typing-extensions>=4.3.0 in /usr/local/lib/python3.11/dist-packages (from gymnasium[box2d]) (4.12.2)\n",
            "Requirement already satisfied: farama-notifications>=0.0.1 in /usr/local/lib/python3.11/dist-packages (from gymnasium[box2d]) (0.0.4)\n",
            "Collecting box2d-py==2.3.5 (from gymnasium[box2d])\n",
            "  Downloading box2d-py-2.3.5.tar.gz (374 kB)\n",
            "\u001b[2K     \u001b[90m━━━━━━━━━━━━━━━━━━━━━━━━━━━━━━━━━━━━━━━━\u001b[0m \u001b[32m374.4/374.4 kB\u001b[0m \u001b[31m25.2 MB/s\u001b[0m eta \u001b[36m0:00:00\u001b[0m\n",
            "\u001b[?25h  Preparing metadata (setup.py) ... \u001b[?25l\u001b[?25hdone\n",
            "Requirement already satisfied: pygame>=2.1.3 in /usr/local/lib/python3.11/dist-packages (from gymnasium[box2d]) (2.6.1)\n",
            "Collecting swig==4.* (from gymnasium[box2d])\n",
            "  Downloading swig-4.3.0-py2.py3-none-manylinux_2_5_x86_64.manylinux1_x86_64.whl.metadata (3.5 kB)\n",
            "Downloading swig-4.3.0-py2.py3-none-manylinux_2_5_x86_64.manylinux1_x86_64.whl (1.9 MB)\n",
            "\u001b[2K   \u001b[90m━━━━━━━━━━━━━━━━━━━━━━━━━━━━━━━━━━━━━━━━\u001b[0m \u001b[32m1.9/1.9 MB\u001b[0m \u001b[31m64.0 MB/s\u001b[0m eta \u001b[36m0:00:00\u001b[0m\n",
            "\u001b[?25hBuilding wheels for collected packages: box2d-py\n",
            "  Building wheel for box2d-py (setup.py) ... \u001b[?25l\u001b[?25hdone\n",
            "  Created wheel for box2d-py: filename=box2d_py-2.3.5-cp311-cp311-linux_x86_64.whl size=2351174 sha256=9a219747c39a272b135b4c90a4485b4ef565ba134cb7cd4a4116c1058bdbf17c\n",
            "  Stored in directory: /root/.cache/pip/wheels/ab/f1/0c/d56f4a2bdd12bae0a0693ec33f2f0daadb5eb9753c78fa5308\n",
            "Successfully built box2d-py\n",
            "Installing collected packages: swig, box2d-py\n",
            "Successfully installed box2d-py-2.3.5 swig-4.3.0\n"
          ]
        }
      ],
      "source": [
        "!pip install gymnasium\n",
        "!pip install \"gymnasium[atari, accept-rom-license]\"\n",
        "!apt-get install -y swig\n",
        "!pip install gymnasium[box2d]"
      ]
    },
    {
      "cell_type": "markdown",
      "metadata": {
        "id": "brqiMN3UW9T9"
      },
      "source": [
        "### Importing the libraries"
      ]
    },
    {
      "cell_type": "code",
      "execution_count": null,
      "metadata": {
        "id": "mZaKXP_aMl9O"
      },
      "outputs": [],
      "source": [
        "import os\n",
        "import random\n",
        "import numpy as np\n",
        "import torch\n",
        "import torch.nn as nn\n",
        "import torch.optim as optim\n",
        "import torch.nn.functional as F\n",
        "import torch.autograd as autograd\n",
        "from torch.autograd import Variable\n",
        "from collections import deque, namedtuple"
      ]
    },
    {
      "cell_type": "markdown",
      "metadata": {
        "id": "EzlDKXvkXzGI"
      },
      "source": [
        "## Part 1 - Building the AI"
      ]
    },
    {
      "cell_type": "markdown",
      "metadata": {
        "id": "UtG6Zc83YYy3"
      },
      "source": [
        "### Creating the architecture of the Neural Network"
      ]
    },
    {
      "cell_type": "code",
      "source": [
        "class Network(nn.Module):\n",
        "  def __init__(self, state_size, action_size, seed=42):   # 8 observation states in a vector: agent's current x,y, angular velocity, ..., 4 actions\n",
        "     super(Network, self).__init__()\n",
        "     self.seed = torch.manual_seed(seed)\n",
        "     self.fc1 = nn.Linear(state_size, 64)\n",
        "     self.fc2 = nn.Linear(64, 64)\n",
        "     self.fc3 = nn.Linear(64, action_size)\n",
        "\n",
        "  def forward(self, initial_state):\n",
        "    x = self.fc1(initial_state)\n",
        "    x = F.relu(x)\n",
        "    x = self.fc2(x)\n",
        "    x = F.relu(x)\n",
        "    return self.fc3(x)"
      ],
      "metadata": {
        "id": "Bi67wpGUMtRz"
      },
      "execution_count": null,
      "outputs": []
    },
    {
      "cell_type": "markdown",
      "metadata": {
        "id": "UxVrBnFWZKb1"
      },
      "source": [
        "## Part 2 - Training the AI"
      ]
    },
    {
      "cell_type": "markdown",
      "metadata": {
        "id": "T364fz9qZb2j"
      },
      "source": [
        "### Setting up the environment"
      ]
    },
    {
      "cell_type": "markdown",
      "source": [
        "$TD(s, a) = R(s, a) + \\gamma \\cdot \\max_{a'} \\left(Q(s', a') - Q_{t-1}(s, a)\\right)$"
      ],
      "metadata": {
        "id": "kArLaWPiF9Cr"
      }
    },
    {
      "cell_type": "markdown",
      "source": [
        "$Q_t = Q_{t-1}(s,a) + \\alpha \\cdot TD_t(s,a)$"
      ],
      "metadata": {
        "id": "wrbuoHcAGzYm"
      }
    },
    {
      "cell_type": "code",
      "source": [
        "import gymnasium as gym\n",
        "\n",
        "env = gym.make('LunarLander-v3') # making the lunar landar enviornment\n",
        "\n",
        "# grab parameters for later.\n",
        "#state_shape = env.observation_space.shape   # the state is the 8 data vector of observation space\n",
        "state_size = env.observation_space.shape[0]\n",
        "number_actions = env.action_space.n\n",
        "#print('State shape: ', state_shape)\n",
        "print('State size: ', state_size)\n",
        "print('Number of actions: ', number_actions)"
      ],
      "metadata": {
        "id": "41sgnpCwtd5f",
        "colab": {
          "base_uri": "https://localhost:8080/"
        },
        "outputId": "e15beeb6-18ae-4f80-90c2-5ce5d3dc4389"
      },
      "execution_count": null,
      "outputs": [
        {
          "output_type": "stream",
          "name": "stdout",
          "text": [
            "State size:  8\n",
            "Number of actions:  4\n"
          ]
        }
      ]
    },
    {
      "cell_type": "markdown",
      "metadata": {
        "id": "c_dZmOIvZgj-"
      },
      "source": [
        "### Initializing the hyperparameters"
      ]
    },
    {
      "cell_type": "code",
      "source": [
        "alpha = 5e-4                # learning rate: how much model updates parameter (gradient descent step size)\n",
        "batch_size = 100            # updating parameters in batches of 100\n",
        "gamma = 0.99                # discount factor: how to reward agent; [0,1] -> [immediate reward, future rewards]\n",
        "replay_buffer_size = 100000\n",
        "tau = 1e-3                  # interpolation parameter: balances making safe vs aggressive future moves; [0,1] -> [conservative, aggressive]. value of 0.001 = conservative."
      ],
      "metadata": {
        "id": "3_NjZcyZAjfB"
      },
      "execution_count": null,
      "outputs": []
    },
    {
      "cell_type": "markdown",
      "metadata": {
        "id": "8hD_Vs-bYnip"
      },
      "source": [
        "### Implementing Experience Replay"
      ]
    },
    {
      "cell_type": "code",
      "source": [
        "import random\n",
        "\n",
        "# gathers experiences into a data structure.\n",
        "# push - adds an experience.\n",
        "# sample - grabs random batches of memories to learn from (not just one); IMPT.\n",
        "\n",
        "class ReplayMemory(object):\n",
        "  # capacity - max size of the reply memory buffer.\n",
        "  # memory_buffer - list of experiences: state, action, reward, next states, done or not.\n",
        "  def __init__(self, capacity):\n",
        "     self.device = torch.device(\"cuda:0\" if torch.cuda.is_available() else \"cpu\")       # using gpu.\n",
        "     self.capacity = capacity\n",
        "     self.memory_buffer = []\n",
        "\n",
        "  # adding experience to memory buffer.\n",
        "  # event: [state, action, reward, next_states, done]\n",
        "  def push(self, event):\n",
        "    self.memory_buffer.append(event)\n",
        "    if len(self.memory_buffer) > replay_buffer_size:\n",
        "      del self.memory_buffer[0]\n",
        "\n",
        "  # grab random batch of experiences from memory_buffer.\n",
        "  def sample(self, batch_size):\n",
        "    experiences = random.sample(self.memory_buffer, k=batch_size)\n",
        "    states = torch.from_numpy(np.vstack([e[0] for e in experiences if e is not None])).float().to(self.device)\n",
        "    actions = torch.from_numpy(np.vstack([e[1] for e in experiences if e is not None])).long().to(self.device)\n",
        "    rewards = torch.from_numpy(np.vstack([e[2] for e in experiences if e is not None])).float().to(self.device)\n",
        "    next_states = torch.from_numpy(np.vstack([e[3] for e in experiences if e is not None])).float().to(self.device)\n",
        "    dones = torch.from_numpy(np.vstack([e[4] for e in experiences if e is not None])).to(torch.uint8).float().to(self.device)\n",
        "    return states, next_states, actions, rewards, dones"
      ],
      "metadata": {
        "id": "DPHpm45EN9G0"
      },
      "execution_count": null,
      "outputs": []
    },
    {
      "cell_type": "markdown",
      "metadata": {
        "id": "JmEkbFbUY6Jt"
      },
      "source": [
        "### Implementing the DQN class"
      ]
    },
    {
      "cell_type": "code",
      "source": [
        "import random\n",
        "\n",
        "# Agent - defines behaviour of our agent as it interacts with the enviornment.\n",
        "# act - selects an action based on q-value from network while taking into account epsilon (go through network and get q-value).\n",
        "# learn - calculates target and expected q-value (using equation) and learns because we wanna minimize our loss function.\n",
        "# step -  store experiences and decide when to learn from them (every 4 steps).\n",
        "\n",
        "class Agent():\n",
        "  # local_qnetwork - the network we are actually doing training on (where we are grabbing our q-values from and teaching agent to move).\n",
        "  # target_qnetwork - used for computing the loss (actual q-value).\n",
        "\n",
        "  def __init__(self, state_size, action_size):\n",
        "     self.device = torch.device(\"cuda:0\" if torch.cuda.is_available() else \"cpu\")       # using gpu.\n",
        "     self.state_size = state_size\n",
        "     self.action_size = action_size\n",
        "     self.local_qnetwork = Network(state_size, action_size).to(self.device)\n",
        "     self.target_qnetwork = Network(state_size, action_size).to(self.device)\n",
        "     self.optimizer = optim.Adam(self.local_qnetwork.parameters(), lr = alpha)\n",
        "     self.memory = ReplayMemory(replay_buffer_size)\n",
        "     self.timestep = 0\n",
        "\n",
        "  # selecting an action (highest q value) based on the current state + epsilon.\n",
        "  def act(self, state, epsilon = 0.):\n",
        "    state = torch.from_numpy(state).float().unsqueeze(0).to(self.device)      # adding a batch to the state to show which batch the state belongs to.\n",
        "    self.local_qnetwork.eval()    # going from training mode -> evaluation mode (kinda like an isoloated evaluation environment).\n",
        "\n",
        "    # ensure we are using evaluation mode before grabbing our predicted q values.\n",
        "    with torch.no_grad():\n",
        "      action_values = self.local_qnetwork(state)\n",
        "\n",
        "    self.local_qnetwork.train()  # going from evaluation mode -> training mode.\n",
        "    if random.random() > epsilon:\n",
        "      return np.argmax(action_values.cpu().data.numpy())\n",
        "\n",
        "    return random.choice(np.arange(self.action_size))\n",
        "\n",
        "  # updating q-values from our local network to better match those of the target network.\n",
        "  def learn(self, experiences, discount_factor):\n",
        "    # unpack our experiences.\n",
        "    states, next_states, actions, rewards, dones = experiences\n",
        "    Q_target_next = self.target_qnetwork(next_states).detach().max(1)[0].unsqueeze(1)\n",
        "    Q_target = rewards + (discount_factor * Q_target_next * (1 - dones))    # Q_t equation.\n",
        "    Q_expected = self.local_qnetwork(states).gather(1, actions)\n",
        "    loss = F.mse_loss(Q_expected, Q_target)\n",
        "    self.optimizer.zero_grad()\n",
        "    loss.backward()   # back propogates.\n",
        "    self.optimizer.step()                                             # updates local model's parameters.\n",
        "    self.soft_update(self.local_qnetwork, self.target_qnetwork, tau)  # updates target model's parameters.\n",
        "\n",
        "  # store experiences and decide when to learn from them (every 4 steps).\n",
        "  def step(self, state, action, reward, next_state, done_status):\n",
        "    self.memory.push((state, action, reward, next_state, done_status))\n",
        "    self.timestep = (self.timestep + 1) % 4\n",
        "    if self.timestep == 0:\n",
        "      # ensure we have enough to make batches of memory.\n",
        "      if len(self.memory.memory_buffer) > batch_size:\n",
        "        experience_batch = self.memory.sample(100)\n",
        "        self.learn(experience_batch, gamma)\n",
        "\n",
        "  # updating target model's parameters.\n",
        "  def soft_update(self, local_model, target_model, interpolation_parameter):\n",
        "    for target_param, local_param in zip(target_model.parameters(), local_model.parameters()):\n",
        "      target_param.data.copy_(interpolation_parameter * local_param.data + (1.0 - interpolation_parameter) * target_param.data)"
      ],
      "metadata": {
        "id": "SMmhbyXeGgyT"
      },
      "execution_count": null,
      "outputs": []
    },
    {
      "cell_type": "markdown",
      "metadata": {
        "id": "o1tZElccZmf6"
      },
      "source": [
        "### Initializing the DQN agent"
      ]
    },
    {
      "cell_type": "code",
      "source": [
        "agent = Agent(state_size=state_size, action_size=number_actions)"
      ],
      "metadata": {
        "id": "vHbALudWnpFn"
      },
      "execution_count": null,
      "outputs": []
    },
    {
      "cell_type": "markdown",
      "metadata": {
        "id": "E8v0PtUfaVQp"
      },
      "source": [
        "### Initialize hyperparameters for the DQN agent"
      ]
    },
    {
      "cell_type": "code",
      "source": [
        "epochs = 2000\n",
        "maximum_number_timesteps_per_episode = 1000    # max number of steps for the rocket to reach surface (dont want AI to train too hard).\n",
        "# epsilon = exploitation vs exploration; 1 = exploration, 0 = exploitation.\n",
        "epsilon_starting_value = 1.0\n",
        "epsilon_ending_value = 0.01\n",
        "epsilon_decay_value = 0.995\n",
        "epsilon = epsilon_starting_value\n",
        "scores_100_episodes = deque(maxlen=100)   # window that keeps track of the scores of last 100 episodes."
      ],
      "metadata": {
        "id": "oTyfYIhpBWN_"
      },
      "execution_count": null,
      "outputs": []
    },
    {
      "cell_type": "markdown",
      "source": [
        "### Training the DQN agent"
      ],
      "metadata": {
        "id": "k1QAGL4_JAnW"
      }
    },
    {
      "cell_type": "code",
      "source": [
        "for epoch in range(1, epochs + 1):\n",
        "  state, _ = env.reset()    # since we are starting a new episode, we gotta reset the env everytime (reset rocket ship). _ ensures we dont care abt any return value.\n",
        "  score = 0   # cummulative reward for entire episode (wanna maximize this).\n",
        "\n",
        "  for t in range(1, maximum_number_timesteps_per_episode + 1):\n",
        "    action = agent.act(state, epsilon=epsilon)\n",
        "    next_state, reward, done, _, _ = env.step(action)   # built in.\n",
        "    agent.step(state, action, reward, next_state, done)\n",
        "    state = next_state\n",
        "    score += reward\n",
        "\n",
        "    # check if episode is done or not.\n",
        "    if done:\n",
        "      break\n",
        "\n",
        "  scores_100_episodes.append(score)\n",
        "  epsilon = max(epsilon_ending_value, epsilon * epsilon_decay_value)\n",
        "  print('\\rEpoch {}\\tAverage Score: {:.2f}'.format(epoch, np.mean(scores_100_episodes)), end = \"\")\n",
        "  if epoch % 100 == 0:\n",
        "    print('\\rEpoch {}\\tAverage Score: {:.2f}'.format(epoch, np.mean(scores_100_episodes)), end = \"\")\n",
        "    if np.mean(scores_100_episodes) >= 200.0:\n",
        "      print('\\nEnviornment solved in {:d}\\tAverage Score: {:.2f}'.format(epoch, np.mean(scores_100_episodes)), end = \"\")\n",
        "      torch.save(agent.local_qnetwork.state_dict(), 'checkpoint.pth')\n",
        "      break"
      ],
      "metadata": {
        "colab": {
          "base_uri": "https://localhost:8080/"
        },
        "id": "-oAEAcs9I-NI",
        "outputId": "6f205008-0c3a-4cb1-82db-c61098be84a7"
      },
      "execution_count": null,
      "outputs": [
        {
          "output_type": "stream",
          "name": "stdout",
          "text": [
            "Epoch 1000\tAverage Score: 206.58\n",
            "Enviornment solved in 1000\tAverage Score: 206.58"
          ]
        }
      ]
    },
    {
      "cell_type": "markdown",
      "metadata": {
        "id": "O8CNwdOTcCoP"
      },
      "source": [
        "## Part 3 - Visualizing the results"
      ]
    },
    {
      "cell_type": "code",
      "execution_count": null,
      "metadata": {
        "id": "cb9nVvU2Okhk",
        "colab": {
          "base_uri": "https://localhost:8080/",
          "height": 458
        },
        "outputId": "9a67fd0f-f57a-4464-f525-c810d3a6381e"
      },
      "outputs": [
        {
          "output_type": "stream",
          "name": "stderr",
          "text": [
            "WARNING:imageio_ffmpeg:IMAGEIO FFMPEG_WRITER WARNING: input image is not divisible by macro_block_size=16, resizing from (600, 400) to (608, 400) to ensure video compatibility with most codecs and players. To prevent resizing, make your input image divisible by the macro_block_size or set the macro_block_size to 1 (risking incompatibility).\n"
          ]
        },
        {
          "output_type": "display_data",
          "data": {
            "text/plain": [
              "<IPython.core.display.HTML object>"
            ],
            "text/html": [
              "<video alt=\"test\" autoplay\n",
              "                loop controls style=\"height: 400px;\">\n",
              "                <source src=\"data:video/mp4;base64,AAAAIGZ0eXBpc29tAAACAGlzb21pc28yYXZjMW1wNDEAAAAIZnJlZQAA/kFtZGF0AAACrgYF//+q3EXpvebZSLeWLNgg2SPu73gyNjQgLSBjb3JlIDE2NCByMzE5MSA0NjEzYWMzIC0gSC4yNjQvTVBFRy00IEFWQyBjb2RlYyAtIENvcHlsZWZ0IDIwMDMtMjAyNCAtIGh0dHA6Ly93d3cudmlkZW9sYW4ub3JnL3gyNjQuaHRtbCAtIG9wdGlvbnM6IGNhYmFjPTEgcmVmPTMgZGVibG9jaz0xOjA6MCBhbmFseXNlPTB4MzoweDExMyBtZT1oZXggc3VibWU9NyBwc3k9MSBwc3lfcmQ9MS4wMDowLjAwIG1peGVkX3JlZj0xIG1lX3JhbmdlPTE2IGNocm9tYV9tZT0xIHRyZWxsaXM9MSA4eDhkY3Q9MSBjcW09MCBkZWFkem9uZT0yMSwxMSBmYXN0X3Bza2lwPTEgY2hyb21hX3FwX29mZnNldD0tMiB0aHJlYWRzPTMgbG9va2FoZWFkX3RocmVhZHM9MSBzbGljZWRfdGhyZWFkcz0wIG5yPTAgZGVjaW1hdGU9MSBpbnRlcmxhY2VkPTAgYmx1cmF5X2NvbXBhdD0wIGNvbnN0cmFpbmVkX2ludHJhPTAgYmZyYW1lcz0zIGJfcHlyYW1pZD0yIGJfYWRhcHQ9MSBiX2JpYXM9MCBkaXJlY3Q9MSB3ZWlnaHRiPTEgb3Blbl9nb3A9MCB3ZWlnaHRwPTIga2V5aW50PTI1MCBrZXlpbnRfbWluPTI1IHNjZW5lY3V0PTQwIGludHJhX3JlZnJlc2g9MCByY19sb29rYWhlYWQ9NDAgcmM9Y3JmIG1idHJlZT0xIGNyZj0yMy4wIHFjb21wPTAuNjAgcXBtaW49MCBxcG1heD02OSBxcHN0ZXA9NCBpcF9yYXRpbz0xLjQwIGFxPTE6MS4wMACAAAAHO2WIhAA3//728P4FNlYEUJcRzeidMx+/Fbi6NDe90qvEZseDHz6KT44d7JRfwwAlbdTFGgOEIMfPKy2XZ4F1aXmtAnmJJ32COHeladWKkDpUsbJ1jQ3KMNcm6BPoRR4fibQXR8WEOmyn5C3OGYpfRqF2VRBU7O+9Umq5MkabcL7TKm3YMH5LvRA0j1XpzO/i2fj3xRqxex3/bFWa19L8LI5E10l5/ujSm1kKaz+s1nDgTVaTQcPCoI2aoVo1dR0eCbjFqRypf/214EpeJJt/Q2+J4R5CRG8O2G/0Kn9floO0yY6uLnpvXzBTJMmxhgAAAwAAuiGeV8zx4xvWIf/m7ofLpTAAG1B71xhlxQRWhzCOD2G8OUbpDi6AvDk5014z4tGcWTnOnap+QLN+YkNh0iS19cyiGnkDrV++3KJmIesSgN1pypOOylgXQ4rrv3QDg0xxqIyw45okaImPOsVMVteHgmxc2TowiionNUjTklg1xT7oh9b4mHMCvS58Pbvvit3s9ZmLJOKxLdXgCfSL3cAiPMy2NpXrz+skSZGooafOCpI+sMig9apT+30RQRz23nIQYqkLPMd1nvarW6PtG6eqEdtqYQhpABzBly5n86p+USYkClYt4N4MmS+0y8yoyrg4Pca7zNmxl2YlRhzgn9SL6LKNdMUD05p/Fc0h2jMKG92AxG32BeVZJAK/hC9up6h52H+Zmt6fd9/ahVzX1ReoZOtfhdXeBXYTVzyARO8+JV2MSJBaa86j12CtC5aCMI9N1Fz6lJ8t7JdpAZiJ90Px9EwLGgejdNt62AWao4PIgIeo+NK1dPMRQz0t3Em/w2Yx8g/bv4EgYD9dkUzNADYDsOQlR/2zMpVvkoRqOkAcwNaGieZE1k0FfEwyYCfnbEGnZ7TNv28rYAQX/RYkWG7OR9ukL+FzgjAhAlUaP/bVKKhe0WeYrd9xH3hMH3vsrBEZCBYBgsWUFUs1CKmlcuxmYYsDyAUVtq7h5oH0cte0NCCca3mzLAgmNI8H2O6N51lNerZxTLBGiGrCtNIegp6fhuLoAZ376k9hAJvAM+8MHmnhcrOrgL0XRNvO484S4BDZvw7e1PYnPBYdWkOJgHA7fIIclehgFpgwcr8DaZe7qgD1SyrwruTwIn8m2jQLkYJ22D3EVBbyZpbFt7ojWfV4he6yuy9vUgecKf97iWQI5A2wu8YuIZ3fwVIgKnFJWZ3lF93C+GuxprBrQST79rUnYb4mIHOlxGw2wToRrGHo+PQi4iQkvNv8S05UanV5xrBs6WRGFcIAyKgT+tMqu7MoB20WkTVXP0u5vPfM6Idcl9PGJPqKcOP9wA7JXJiDN/YqoyBWtYOSKYSCBarVo4jJFpeWbdzaV2JE6Cnfn4rraQZ2L5JNcd7MsI8Wy1MlXg0LAHMRDcAwHOGDhpOmWKfFJfSFnjIskTnKtWxyThOJ4Kgv8ehftHL65kTPpfxtBzaf3UZTzeriosm4N5ylENsblhOB2C80sFIIIozDVY2UKHPfFqBVkLaEo3UpJCSsAxMjAZm4s5wAVZ5Znz6jFJz8/geED1vRmCAWBb3WffsZctB3qK5rue/OGj5O/b2jOOMFo8wl85TZJYQasXK9GUCW7/yAna3OZJgNdAoQyG5i8YF5hiTpNx2uAATevRmQ4QjYNothkVA0Q0z+9ym0jXybS9X4e5+vkjDCMOakKa2Z/eW3zKETjfD0xXJXIDfuxDV6S7tL0xvvhFM3mTdyAD4LPvAsaYgDx+H39HhghNNQjwvYKb6bhh6sq5oyHNCnnNISij8kqHzumPyK+x+WirRX7T22Tn2uBsFa0WeJW+3nNmSxO8vrUmPXTzv6AwP6zJioFh9V9RLbdbk+6B7s9CI8EgqntancZFGZmwx0FplsJytUUEGWQIYOZG2KiXg7kTJAThT4N+2qVRR+12GqzlWezj/CpGsSp3UIjVFw0VKSQyer4bGuR3sIhudxGBjoekBu3lzSe9rdV/0ZL/Q20iDPYJz4x5FwuW48CO7mcncHlHV2ckfa3aR6YNX/6NjSypT2/LhhK/6ZDTRbzGwJpStmqo7XRma2R2hlXsSYMidbCTYp5FtgbpxjJsU5+PkgjUDT9hBeXMm7WIBcEoBARTNkVfIhoiSwUvnAXrgC9rzAq0ZHvg1h8v/n098ng7hu0lNSuGwLifwgTR+KJirrt683UnJfns5yVd7qxq0m4VEdu6BW2k1VKU2qlh+3B9Uo6LxzdtpVw3OI8RHdbrb7hZIRfl3YVq6vyJVrEPRLTghN07SJSWKE1jWFkPnSlEp0NVFFZXkcnpFQiWAkT0WQLKmOcntb+mSnRqXXXrMgABL2wADdK0GbPZPGYS1OG8Br8kqYDsGBrdRYp6QtjIBc6JBqkJ2JY3ATHGx5r9hewgAge4r79ccbV0Cs/uGC+ySZl25A3wlp1sYcjFmump5IVPNAAAADAe4ALUASEQAAARFBmiRsQ3/+p49wn+421A5WveGlSx2RRUAH9AAfBsYSxiUSQ+nv6IhKxZUd410bEXSXf0S0+bUQoBRm7DLwkp0BJJ+VocSzh7AStYtKM7MLlUAAAAr9au7WpVH41X9u8h3nz/yu+rtIAhnl/Kse6i06zfX0y+RfvgUH0Rvi6RfmtnbMoeo6x6NQDWHHKV3P9I6449OmOag/ij7WrBvQTfEwbryKyPMwYhBWe4C3x66R8nJyUWwGQEDXHzGDUTVDb4LMOubnMYRC0GGAjf06KDJhR1ojSf8kot7rY7o2D/cjHUy5fY5nvMuvyg3RCWIDqpe/FNt0ikTaug2hOhbCygrORDJP3PJQFlqyZx13qKBIwggAAABGQZ5CeIV/C+qxU0jODktfZAC2n+5cGM3Xh/lLMur1EaKhAoR/tN4LxIqvhpP6ABvQwExfq0KZT1zsFw1Q55dZUQSQjigesQAAADEBnmF0Qn8N3b83z23O4/ggNkV6GUAgmHAAWrHl5wBcK7K6V+JoWYIGT7ttDdjJgOOAAAAAMQGeY2pCfwuVV2accs/Lx4Sbz1NuExcebUAAmr9zjqi1Sh02+w9+jvhyTL5h+zkgIOEAAACqQZpoSahBaJlMCG///qeKfIXBfQdvSAEFvWh+CwlumVeiF0CrDBU2xvUjXSYGfCs5ihy/4eCg7+pON9QG5ZWEhD9Ug0vQewN6xS/C1yGPZSm46BRnrZiaJCEvo/Wr5gAAAwAePfdtUy3eiJ3pOoeBZCERHJ8IFi1AyX3V6YNMfXE2LZ2RkFA3/A1sDbO5VbfUF1vyHtrZ6Ab3Bi654Pf0hlxoIJkhHGGmCYEAAABIQZ6GRREsK/8Kbd1QetXdgpP+AEndBoF9ijxfJIpynFtcbzCzRkCW4xqV8NF2wkdvEDuBgAENbuKpyo/Bzhbh0AYtrDAl6R3RAAAAIwGepXRCfwxIKyPANrQEgZvz4uJewAAR3HeqLGlg0UQL58ltAAAAHwGep2pCfwxKHHA1Q1kcbWK0AAElWE5DWxEL2a8cxYAAAADBQZqsSahBbJlMCG///qeLIOLsU9kChdA9oZhRW9TLoZElSuqnRxL+QwlPekfjRYiqb2aYSPLlgILPOOikwIOsumU1AifHc+Aibq931f+R22WgSsdbkxOXiF1cxhdDV6hk+eZijzWPV0WNKbB7FZqOfg6+0AfmMCldgyQrZ4AAAFGT3u2qZbu5eBp01vP5VqVDuBlLwi0bZYu11rUo6SIwgKbUb0H2mBmMms/3456LMN6wcvF7qSYMAJ5L1UhCt1+z5QAAAEJBnspFFSwr/wqESCbXU0LNqTUgBtfWwSx2qoxG8Id3tTekFAAD9D5/HbGajELtEjF4cBzZk3is7rNiWlL+TKY+mBkAAAAhAZ7pdEJ/DH7dWUohM+bsqXkhqEAAlwK/eDMKVQZ4TwHTAAAAKgGe62pCfwxN1dhDfVLdzqjhL2m3G95gAbool4aHIlRuKy7x20dtmgDjgAAAAMhBmvBJqEFsmUwIb//+p4tun/LJH9xB3hCfHjmABtLkARLCIQ5Ho9F8bTqKP6q2SmYmYC5Dl8coeYPRtN/7WBzabVuvCvD5y39U+AOkFC+QB1yaIVim5FGKUwFO6NjXIyKj5cJaTz4KyiyM81cCnntiuAAAAwB3tBu7bUqoMEGSoEhCT0Iw66DcG3ZfTFWZWl67qQ5BFUfZGKxT5kjd9AJIF2Vl4nvot8mLV2qyv3xOQKTY3tdCsm98Cih6UWUWWwl5WJRErvIugQAAAEdBnw5FFSwr/wqLzqPEdYT4QAPoiGQB8XUbSwtSJXMRp2zOSLY82OB4HaMEvAAB/IBgnkwZaeoMB8W5DMOszutyYpWwKRQB4QAAADIBny10Qn8MZzZP+JW7aJABMl20j8CQgGZS67jp9x6ZAA7b6zRRrOKZFqLwnAyVtkBiwQAAAC8Bny9qQn8LHksUfqB4LFWeIcFjTJ1QAUcI/IswgaDba7SIEYQLs7uSWYgIjYBZQAAAAL5BmzJJqEFsmUwUTDf//qeIq/mXEERykAFrLhJAy3pC7h3izOJP5UmCI5OVa8+wyqi7tLMeOFeSc8Wqr8RqKjncGkRqVk23q25lRk5NIrnXhvDEE86++LpW9W2uWQDFniKF32H16phLfuFugHfClUyZNRbiZM3Kve+dBAAACsXxn5VbcVLpvKaExKTl1AdTfb07fdtUzgvTd9edAp+R8I/suiBrSwaIE127ZeoiCyqR76yT5Wi+NPeYI7UdzrTQAAAAMgGfUWpCfwsuOj2xwAmXoEvO2OgMpES35Os5t4AM42h/y+vh2E6nVNMtBEpILjPmdAdNAAABbEGbVknhClJlMCG//qeIy2CLOJv3iIAbHb1HHx1G8WBfGAebECaBwapalVG7+LaLjfKRBXIErSv9mEf5M5e62Ldw2nlHHvW6p3aFdB1D2n8+pn/wKS2BTTx4sxUuqx9lpi115exOFGiVY64SgSJCsLZgGqhDcvmCrVJsf/+/uUNiFiY6gBN3oyy4cnV7MqDn5sZoJKhaYiKsAAAOzMhKQHI02ddVaOSaC0PutHNUHrwLEQ0ab4qyhU1n0ZrEsi+GKjvGa1aRKPzNZZVZ+uyFUofe7apoPL+FXySUmRhe9gn9gv3Yvxkwp9iamIqyaYSJ5E/HGAMCxpBWDqRuXw8yNHUuB2ec9NhWC6jZJ1NhQ9ThuL3uwe9aBtQ/Z5H5ikH8TU9ATXKHkiti6NuRPtZYimA9BkQSMNum02WqMgxwfygBV2ZL8U6S9/+f7KnejkmLiCoOZESTgfFlaj3bx3QVOVvnMB6mu4QmNFf3O8AAAACNQZ90RTRMK/8Jb1sua0dJGwwXIwAeYKV72a/jOtO9tJh8kEhwzHIUTNvDzd2+7gs6i6CNDNwM+cjP9E/Gl4KovhEeuAtXJUSoO9viTR63LaymHF8zlKofJ4FLyLpNj3duAkFs7PkBIreV13rRGSqZStwXNOocRTlYgg99vdi8k71knZ9y4yW3ZBYyUAGzAAAAXAGfk3RCfws/AWR4YhBcDQAeXYQsvqrkRQNjZj2TfR0Hl+J1FOo0+p9f4DKu7ZuFfQ05tv8O5pXvyfx7qXG3ZVpv1DBKTDgEsd5M+ekeYbkCn9huEnOWz8bTyaETAAAAjAGflWpCfwsuOjsaT2RgSK7DYgAnWapV0YRMML7PbwU8mg029k3xQaf/3ZIN/O4n4WQgag2/loP9g18XDz7h3rK9Fu2G2atJelftqc/pijsq921MhNhclWdQjTaN+dLYcBc1/769G3JcQxBtO+FvpMuN2Nji8XlN3hVxOTbDM2ytGw8gCNVSIl/D/JFTAAABN0GbmkmoQWiZTAhv//6niNNP+WCGI0zcvQJQAkdPjLEKMc/OebKW+AxvneDYgiZSxyuxlplVXlEMh6Qi9b9i5Y3iH3+QJt158tqC0AiEoKJT2oLaZbYsycIn0OOmyfZSlS45zHiTpC898Y2wtb7Wp0RZenzDIavpLA26VpGUKSdog9CpI0lA20cgAan/GUrAADvHkFVy3ffxfhVTe04ZnkiCuJ1sweqitV733a1Kx3rVOJBxWRaPnChfZ6aPZIceXtWODUi2FFKBvYPEsupbZ2/pju4KzovuzGOp98jc6rsvDYR+MUxk8cO5yuu4QDz/Q9neXORqkyKyRuGUrSx2N5Oela0EGkR5uYSJAhMLuUmvH5WW2903+xIkuBjMphcoKNy18+CTd28xjfihXiyoXmwEdAYjcIOBAAAAskGfuEURLCv/CXT9G4OmESOMc7wPJ2qUAN2Af1yg3QPxu2P/Dxcwj3KR2zSQ45CUgy9DzUYOKvSBXWQcQwpf8u27Et00S8BqJWXwM7UZQE43RT/oY0zS00qnsTgj2IUXEAAffwnR9cNhTEZBvksEnji40HU2WWxMaPP2lyT/V4M+6V7n3vEV19+dcDpQ4bT+YN4oIEMHnBUeI3ywuQRFrpxBDXmUFAX1V45fM5X8w5uTZakAAACTAZ/XdEJ/Cwvy9Hinsjhl893ACaY93A650MGPJz9B/fp16C0+sGLR4+4ITKtyHJhkRXCLBtNeyIZDu2ACkt9BYz/Fhr61FLJrNn5giHjVLbGjjdj4rSr8O7E3aYgIzUz5CIwG9VhJf2EFwwIKfWmezdIy8g2ycKKAYHzrSM2Ek7o5cax0Mpu7x9WzHtiAwkHG0O6AAAAAjAGf2WpCfwoD7ifdacNAw9nh5/6RX1m5JgAsPlXTA4snw/BJHrwNqxwW1efsN9qVIAllS2pfMGgCAz+wzeS+vNL04ANsjEFeLfUNW2zV8dcpYzGXwgUy6wuDNCrcVbD+kJnSsjNOsfwzNUhcWyxL7GY93bkfzsL/34kZXaW/ZSaPv3sx8lEt2uev1wHzAAABFUGb3kmoQWyZTAhv//6nipm6bACwuEpGK8da0tv2oBNUujSUN+IPMkZpAO+NF90Ezbq79lv0VjRnAEpuJbQSMm2E4t8w2jDTP1SlSbKzJvsqLcNjvHhVpwUK2KIjb1IkqvSfQWBpvx9dXHap9nQXScB5yt5cCfCRZcmNKvgKzjy4reDza1L4AAfj66raBhf61ylAC9MlC/6oSs9HTI4eBp8EQYpyX3u1oy5eWK3uvCUFyHpVgvDk989zxP5U4AaJAJZye5My82ziae8evyIrSD+m+JKNBzfUXsuinLjyw/yJC2Hxu/mspJV38EcTOxtWSJ3bO7uKSNR2+Aelef1DB9GYO64/tCkmYPKUVN4yit3aIsRSS8AAAACpQZ/8RRUsK/8Kll+4iakYl7sMALCGKGBeKF6+97ZZYvmzGV1aQuSwlSGm+kOEld8UVeIyGlhjj6iymk5O/hxgJJsOwKysSy1ZFaUCqFqx6iNtf+8+uzQoSjAXud0GxEFtT3Vk1sIZBLStSJfr84JC+6ck1C0WRAiZX0wGpsN7F41B8O58aXvosA8E0o2hN73GNHB7wJEWhMhiWHMV7wAMGkydSULfMzoI2QAAALQBnht0Qn8JhubSqwlzRSAAmUMDH4ka5ZmH7+uQ0pTGN9eDj4tm2JBGbqGIAAowJR1K026BSzJcYlg0zoJd7BLAu8MykdqwS/iZph/OTSu74Cy1E8mM7acZ/EW4lHN0nOh/jAG1GiKqPqP47JIIFCYCBWZaYVDamaPUk1AjGfodT1GbwA05E3Zd49MoqoDxlIO2U9aH544Ox+JiIaLiR+WRclV+g/a0RQw293AOBBMziMIYclcAAACAAZ4dakJ/DH9VbYj6YvACW6oHY6HhD7bny2yewbcpUOEokdLj1xJxeFpysg/MWWTJmBZh+D6fPwSNKqXobWLP6Sv6OUNshK4iRUsvJHbPq5S7Z1u3q3Vk3ndD9f4S2Fsh+jBQ3/ch//ugxrU9wZPyL3S4JOWsxi6BZu/3B5rWY5YAAAFKQZoCSahBbJlMCG///qegc5DgBLGq3W/uM6o5Jt/S2FAbVBEd7K4H1bpyUInVozJWKdEp+sev1OyQDPZw+TqsU2Dmw/w+Z7oeOu5hycIfsCxieGiRBbCUIrFX0RyGwHT6m5g9b4Rz5O9IYUhR6PQLUtQa8JjaRmA3RdtYu4EnzctL9o0idsdZctgAAAMAJzocRGpJJqE3hz2x/+7+lxwRJFwZd+RAdmTcKUrbp5BN7Q6dBXmPZcgCKvzSX6QsIMlO9qwgk1pWHgLQSdHwZTnh+xhXe1TLIcSXLpvFLTuVZfDzHCXkRm6cNGvq3gxB8Ppm6usFS0hx81Rxw/0VMVVi94sUXoRll6GcqFY7OUtU6KnFz9mp+f9QKvP3RWXo+NQ5eDsh39D4Ak/60wKFbADOY5VQNDTWjwoaowgjvZRNBVyzMc3436lpNxlQAAAAuEGeIEUVLCv/Dy7BaYYAHHsjd3hk2gmHq8yMqni4kgDfofM1j3FH+ZKNW9KRFTBoAmo4iA+oC1xFZ08CR8DZ9s52RYP0Trrg7gEfab74hJZoThimxXz9OsVFfksZqXVQ2GdpghdzMiJhLDH6973vk+KwphLHFJ9M3bcW3CtwphBs0qrZAeHDc7SaLUdSHF1G8ztm1XysZUuvtKDy/Vw87AgGga5OWgINZQaMiJae7YvtBN+ufaO0I+EAAACmAZ5fdEJ/D6MQ38tmAJyo++qAjbzVojSIqDmGK26zGk3pfWRcCa5u6qMCcKLji7otvkllZzt1EWhRTBooUm6Kh26Hkmqc0jh1sl5L6+ayPnpBOO3uwjJ3gQGCO9rJMajrWCfFWe00O86XX6LqKnsu3txHdYPuM7V7c7ktc5qSwBrtFxaIEf3fLwBtCp3am06bYjr1ARJjwaDtdsjlltrE94vcezoKqAAAAJ4BnkFqQn8QmS439JAwADleeJ2YwgxOPkQnXQpj4MGc6LseLc1WG1WkmtApBOVxh3s3o5nTleDC0Zdj7hM110v0D8mDWqcWx/N8X6yW0v1OCRbMbVAK3P6C4iSFTFN+foO7+Lu6UcudFJ1kInWyPt1cTm5GXwC1KCPTrefKbhIgofCvRmkcbRkS2WKNyact8ZhQhEv2UKKWOMC895KxswAAAOVBmkVJqEFsmUwIb//+p6TsvznwASu4gPsCGbQoouDCuqzyiTVH0/2PLWavlxsGDjh29De7M3vd0q3cwuq9Wqu9KMTdqqA3wGe46JrB2ODW7Hi77gO+p0knqjbIAAFCahVb3cn9NjkAaF67EME2XsKP9tqlVWzy023o8tt75j2FWI+1b5WgLomZvNSdMHGlla+JUBFIkGxuDb3dekWFRs7xY9CBecG8gxONNudULp+Ydu3rWwAIVe/bSB17TLBV2wRjlsr8zYaAZv+as3dcRbyhJAXsPbXZrT3i62fSIkjLjfqvDaFbAAAAuUGeY0UVLCv/DzoNMSBmTFjIg3v9AZvqRz0sgCNSW+B8uYWiyconsLsYQ9TMWDGUq9LSSEYQyeoTNnNYAas94sTqY81QG0agKwcEn7HaHslyNJ+ZwZKpcjcwFnpGAmyxc1s/zrxMl8bF8t2evHPqYg3zdAH0cPmb0guUjJVV8+WQtPxps7uBGTvGIw0MUcvvwX077MGQ40fio8KKnuXsFBEGw9DjCLHfCmarSiM+w5ZUbZFoS8mC6KW1AAAAiAGehGpCfxQg5vS/BACpEcZTEwlrA+iKA0P4AjWxv4hXzeaRpL7YF9fIR9FJJreOIawlUrNnardeMKnau1Rjr0tefpb+ur0TIWnYpXiAlIumefbC5UEmdojgiAePD51wlLpGbijUs4anseGbI3VwPVu/w6eKRKzVtHuNaUfCAL/CA2/95HwAb8EAAAEOQZqJSahBbJlMCG///qegsLLM+QALpOX6sa6/m+dsY3NAWfiaA5Te/ccpq1yG1g9zlge94/yN3OkViyDjNTyX2xif4zw20ai4cT/ImA3Zwc8vROf/yQ1Z4Om+x21UrTYMit4z2qyIhRSzSpCu+4AAAAMACLJGZYbUPmSCGXV5n+fg1KqwyXiTzDUFS8YgRepUOoYXt5USwm9tTw0FLN225ywhioTH/p2UzXMqgIuhOFtYDwsa1DFpVgFL0RhENM1oX9siqLyc1yzegJIVakXNu6UAe6rowAIDwUVobTf9gITq3va8xd8RfuuBzf1llHhDltuCVEPdxl+aM93vm/CUNaVd7qcLmnEkKCjouWfBAAAAjEGep0UVLCv/DyAAe9ErdgBF/XkCbDYOrhT4bNZf4xdPp8hwf7jq8iqGmaausfadLxGfIGdI6KRGpMheWHO8UTIDX3DyG5SZtvOnIZs8PxzGutlDoXyDpkkI8BpRzS2xsVfV4mAq027BOltdwocj2y9+bnqviVGls+NmStbV+NppHDBcJF5AXcTu5kHpAAAAuwGexnRCfxLJ7HP46tgB0sMiEakwGbxT8UjaDQdrfh4O3lun+emlWe1YZAARllj16QF4LtZUvSOCWeqNXSN+3oBtCm0YqgLEWoAB/cS/KqBWyhcxNa4aCpTXNcwQqwErIdejQc+roMTPlCRph+43hicSfjZkIi2qukdX1isZ4tGDvvbpg8ywL/wIekbDatCLqQinUJJZsTT1espXd9kdsyeWQqrX0eqcIeizdXK6ot73+4IMgALkM8dwZ8AAAACLAZ7IakJ/D5oLXa4AVy9zElZ6Gweq1BrtVl1ayVTuxdM89WUfRZ4NvHdv7JDDNhK5tlIv+uqHng0l3FPQS9jFso8bvV7ADaivk+IZMRPyr4kcGrAC0+a+NBM9Yx1dHi800zZC3Sp4LDVeqEpBOOeHK89rdoQkgBrhmxl3PoZ/2aISWhMdgLhlUZQg4AAAAOtBmstJqEFsmUwUTDf//qeWcGqAI4QiCeLRLUPPQ0l1YmhOgPrAbJwhyzSoyBaNdpPxOHyZ1jL8QASqbratsOWmjMZFKEVi2YdSIPsb4a8QP27negsAAAMACIf9O1puG9GXQ31+/wA+dnHlztHGyumFUyxrxhYcSAFS0WqP5m3yd9R+saKtziypKiGejrXe7WjOerhAw/AAHpSxkXcp0RFXP+Q0nD4+MJ7C8FmzySsKoXiC6m8u+536xsVIq9c0+mC0u2/zfUi4QXS6FDFHZzH0OZJUqB8sTRnei6nCb0iGUp1X7Ifjz3ag7iRtAAAAnAGe6mpCfw+m/jgYBQT94mOC7GGIzCrCtplBjjWadI2RW8oVumq4SEDb2qZKYWQt6W4/QaJDUz4WtUSTx/rq6TkSsBSHEqQi2T12vjtXMQGTnlxLLPmJAIHmdJYHRLf6+iQANqc325sfA/esWjkwaIVtqkl210PU8tmyX4ZMHv4V0RiFEcD7lOEGjHb8UV7DKOv7AHoZYTo9wOBWwAAAARRBmu9J4QpSZTAhv/6nlntZz988AH5aSmTF+cbdY+CZfUfomcCyBDoDGktn2eeHnGgxuLAIgwYqie5bDyD4ZDwQki41Cy1bmDhTvodSDENd0/26KB0H/aAnAdaGdUPyXT4QlMb3e7GxKm98MPVkz4jFxUPMSDRyEDAyAADYeehIMnfaqL+CMtcSxS6MIKFcWMwsS4dlc4K4cEqR2dsQbIQmsHAcPISuyCCNt2gRa/EDD8zJnr21StvXVM5X3+2oVPqdj6nu9LEV4SEj4ljY//uq2ZyaADFTihQlFOqi9mXre+0pkQvZKrbxZat1pCoDMMQcXo+PTMpxwmuEau1S0PsJ+7JGH172wkZ5kaIV2qYkgr1EKmAAAADUQZ8NRTRMK/8RvSiATXzRuwEAR+a+Of+BgeQ2Qu+/ErULP1bRnQ6FbnXupQa0+tf84hvk3lkfiGsTZakXiHHTPFj/XENapb+NyFPwyalA0HymbnkjvLUnMtdTPh2YktP+8v8djGFd6WE8jaXdrqhu7VSCQhsIDlUo/9owOXWXHbvNDf74pz1gLAN23lcna1gHxPR+oA41nAaDtRq0Ofb4aQu71cUJkgZo95i7e5/jQHaBLtuQ76QvSqYHSdIHmR5L10GfqjqW5DknSYKhrmjVoJAQAosAAACZAZ8sdEJ/FEhmkXgDiXh24Vz4dg8JbtiXAAJXeUcH+NDBZSsln2gomdT0QQw4ORLuG0Q8XNJbwtE8yv8ZFnbWy9W9gJnXwzlBAL+Qk4pnIkHk6B6UJU5zjb/84dCOQxmWsKpRhwq1rK9Tri9tUt71lyL9t0WemWUXRE099lQ4qhXS66Zqpgu9fF8HhhMBRrRQMLIECAFCUYE3AAAAiQGfLmpCfxQhESM1abloFEAORNPQ2TakpAknMGmCHd+P3MiZ0T+yFvFlXNHNxP0iX6KqTKGItwstiXAouazUcedr794T/GDChG5qPL2Vg/R8DL25IaDzytsdXr9BOjY/zlJC/Oe7dbXAGhyeTD2WWs+1V/f/mA4llTisp5XUnNSFp+8YAGDF0onBAAAA80GbM0moQWiZTAhv//6njlwvecJNpBDzqkko56i4zfSgZKT29aIkuS4WjXiW2kXo/BkgHGAtq+qY6FGDwd3LRMsNsld6nzGtTZJNeYKxh/cjFhFKAZpX3QriHQAAAwCWhYzCcymML0KFfyq2Pnb037ztWBdAVQlZ+XZecEXwA0e57Wl+B9SiPXvdrRqAlhZ8RbpyiCdvxDbMeQwGHqJmVgAolWW6aSptb2KNvXT60ApbNeqF+5UcL2v/F/wOHe8kcBO7qhWGBvuPH5pCi9MYIdalir9oUo3F1hDO0BW5xD9bT+NnEJ57UOnJwF9ngVDESqGCIAAAAHFBn1FFESwr/wvqxHDLEqAKoywk5v8NABCLeC8ZOVcjL13nbRTLNJGyeBp10zIsAMXgEEZTt03GfIJzIsGJSxIKgCKSVdiJVLCPrmY4ONpGaYL8fWCmQsM/sLqrtkYbyw2U6YbtRnjnUUogBjR2idQRcAAAAI8Bn3B0Qn8P3igAHQKqrKZq30URR0LZxD+P0KdcOfOypLvDbKaXQYDoN49vB7gA+Q/9677bh9YCDMR9xXMoqVcVzNLyPtd1No8S4kTdQXXR1I0Fc7Sbu3ZjNd5mYMuZwfLy+G75ZWU9OIV5te4erAfZPsCHvDjiqgeHgMN8LviPRUZDTnCzDwYgN8d0IgACmwAAAIYBn3JqQn8JG2iAPM1C8lK61+NXcsAFy6LqXoepXOrIIvfXLvXujz7zm0T+MJRTg6eUSw4I7WbH4A7xDVjLce69chk1wapXtKsRJuzEn1XZgF2zjLsIXEucTFPiqTd3gnvJeiRGIIBv4Cfai04ntXTuy7AVSnyRRVuZ8u6xHKzjkn0C4AAW0AAAAOtBm3dJqEFsmUwIb//+p4c7ZBolGr4fgBaqqpAa1BADn+quIovU8Wg0WyyQdiWE/fjJGTqMjOv8A7RQimCONySo+K5ahWzeb0sgBLCdU1BAJZ/RfwTX+gP3PW+A7N+54etoADYSTWjdtTnUpDjxPj5CDZCu36XQEeOkVMbIpMifcE9ynmcu+CfHmFlNtNUmdqELQPvtuJcteiI5kSMl92tSwc71djLhHZOoQQHp2se2r9eM03K+oDCErUjhVlmTilxaPmzxmjDISb1d759xYFJAB4LRESsooR2KWTDWyVk8WarkJ6wYb1nCaDegAAAAe0GflUUVLCv/B03IxP3v/oICI9KpFFdBvbl1R3kqbWB8EymL9fU8gBpfssn1EAoOO39CdJpAieBJlNirMVT77+3PMDdzCut2ma/HBD347swBOqrixwOxLSyIPSBCoJeZk7wDP1LTs/RsMj0crJoPSm9Gpos5bdlzUPtxwQAAAHUBn7R0Qn8IePhuTSnZfCFf7/+MMA84ARpHzX9s4CH7Su2JD1HUG8EcfC434z7LYJjLwbVJScX0faQzquhn6QEfRBZOi3KgcMmig5Rv38G/AGcEOXfQ/uigC7I9sWLAygRRH/5gxyjm7XX3TwIPY0ZIAQt+kUUAAACJAZ+2akJ/CHRrngBNM5xh7yn8OOXOgvSVA2q6+e4l/wxPJMHZPZE0EsY0yVy2jvEQxHfyv+vcYghDes8Xgu79yBg5O+1PFiwEcCHaQJx+dw+alZFZy5myLDxYGLe1OdGjuxwU0b4TLgwgaigRjgYWnslVtyc4LW+a3niFLV+H1jPqawBC1fTADpkAAAD7QZu7SahBbJlMCG///qeHDAFycEuydKSJ2lpgBrGJoyJ8/gREXHTUtXAo6oCnE/1gVuTStu1UQg70Qv0j67yopMBF3f+1nFmrV41+HsKG5gQPxI4JUIaXnSi1sezM3Q5cdiWnmgAAFVL+oqbDKPKEi6XgO3H7bVJ+WiY/V71c96CISNmtN/9HJfSYGq787fdtTihMADaBbQmpTvCqbdyH1FJMJU7HBHsXAdYmN9ohg2jmOXi9gib1ZFz2Zy4QWfkD+T0oVzq49Ho7jHgFM5WMhnJKxoz3yHnUh6NWpGB1FLYr7XGlWMN7jc+uaObKwfsKEyWV7IWiZd5cBN0AAACJQZ/ZRRUsK/8IGYMGjXeKYATLhzdgS85HjuPxelpeyjYSMFIQIdiF6vMp58q4kqasqvs5oLtrVOQbeBF2Sy1mkFMNKw1eiMhwQUs5QxwTL9Ha1L2osrCp30lvGKXywBPhOhUI65IypTxQQEIbJe04WhFblGnh24esRUxCR6IHGWgBOnQ9Fkf0ybgAAAB3AZ/4dEJ/Cjyek8FJVf1X5xpvhBKFWAmjKdOUbLXzXtycEAFgfiiPokanxhVbvJdsP5o7CAtKf2O/sfGAFp/0cwhGXWZLrMyRvj5yQdaQeslF5+eBSqosRnqblG6h+sqfGJHQfTVzHUcTi8K52RD8lgFOG1Ahh00AAABvAZ/6akJ/CgzzfotVa9W/UwgIEJ/G4lQAfPAI4Ag7WMhewtuTfhAY0g2H064l44lXLGwNLVqhlkkmt5n0Sib0KsgNn8Bhe5glgsmCkMhEP6bSVJ7RdrR5H7sXNp0rGfaQSNPFYgGurUNk4VxNwDLgAAAA1kGb/0moQWyZTAhv//6nhhKZqErbubCUACHyqFR7dHpPAkgmwJxNXiHJx+RCUfXZbEcuyA32o2EwVuijsLhe1caSbun3oxRFk9k8oM0WzJJJquSMQOtkmudM4On9IELVAtB+ShrBHHv21S4n2q6t2DTaSHLp9WZgeBkmoPfdrUrUuv81ezyRG194GSi4sxMMLFqFQFuF7XXuRa6HB9wGAAu7nLSCVhikLXx6XBAtKE8tCYZrvV8JBzdK6Ok7w/XP3NOxHKpZMbnITctuysGIHgpdBh4oBL0AAABWQZ4dRRUsK/8HTcDalnDkVTQEeLvY6nHOs+kZX3EJ3AuFdUU5OGdmfFG9ACrbIshc1U+g0A/rUW9jxVhSss3j5wO5m5WTvh8HQnP6tlcpW0cmRfmjRU0AAACEAZ48dEJ/CUWkjROcPVLVc57gbEjMANtU2UWHmD+eBKf8NBIf/uptr4kuStoZD5OK+8mzLmXS152SqoO83AnvKvhfasmF5nFZcQEArSdtP+9R7KLyBk3SDaZ+7o5AJHo7mY6zb8w0WEeeUuds2aGd1wcdpj6U/GenKgMGy9CV+eXikMKAAAAAbwGePmpCfwi8ddj9n1IQ0SgA9kXKMOQe67/mobfk/TbYr7qilHcnmogPgtu7sItAnqCiwarG8cJK5s12wC9IZWrdCa1J2NGEtFDtOKxhaNi0SgrY8ejDYq4hJjOFzVbhNWY4hRIfph+yBCnr92+bMAAAANVBmiNJqEFsmUwIb//+p5RvcOAEy2so9EaHM7fc6RjMykBiRSamuZAoT/6ypDJpe1VfscE+EHWZ1meQYdWl2SXHW0aLv9qnQoY9Pa/6pwv3ZPZ0PJ00ZbTSvp02yzBUjMx8w8VJoIMD4sbltUarIX1XzskcAAwbGNrutJQgMAg21TNI0PPRbGPq52l15JJ43jD/s93aBNcaIimOf+GP9vLV/GhbY6aYHT11GxUB+zSzv64pBxn1iWi1kV0qC6rGWNLmDSFD/OigLz88iEj6akTIov0jkfMAAAB1QZ5BRRUsK/8NdV4Xp2/J83VaqIK8Uf2ACx2gBovJqrbx11mKQ/1uWl2mHl/eNSfnbb9AVtaj+BnIlYPWIdM1y8u8VQIPwzsH6NhLNJAsWbEn4O6X4EUpapB//A6ij9gSc1ILbBS0aBKBXdZJFSqVdcDjumNAAAAAYwGeYHRCfwmq5ms+ds9S9pDr0PE3HroALUVOh14lXL/G2KgYxzNX9XyZZVqVso40CQsoHeh1bavsem7iHz1Fo03Hstd/eUYiHwagvDVZVoOFT0tXVuQVofm8WgyKcWijpACpgQAAAIQBnmJqQn8PmhhYOsAk0dlsqmgAnd+0y9ckDOnCv/P3nKpQtyqqVGkaUUNAO64pc+WSmHdxnv6mM6W4q99A8hqpBeNFTVQvsTZh6d+BBowrWZk+mOXAwaPQ8OsGSVowx843Mpq7vLb0kCRmyBzma6rjKNOOVoaUCXlBkeBNKAG5lpzMxDwAAADXQZpnSahBbJlMCG///qeUkFllbQ8wC3lK8vADjw3NINmeHG1c4ZzCh/9GBKmLpMLndt1oc58XfW+Z1Ck4dMd11+haHGrDJbEm6Fgh4+kYqOEvOlw7jyfbW0pYPH7yAVclwkQfDDbdBr7KfxH+yStWGhO46gbYyUNOqWdLE3FdnmeDiGrOpG/WVTVZrCga42CnE9ttu1HXlb6BN0t9aWDgFYoPxm4O75fpNIrXYkCca+Ui5Hkyou39brXQAGl4H6hj/+PsWvfx7fSuXBEruPm2ga5AwD3DWVsAAACAQZ6FRRUsK/8RqtQAsE4Z8FWdgqgIx+mdsfeTZkst7qhmXQMcfoCw4cHqd0KlmrIJZP1IiDQeNOVybb2E0VphALVP4Q6ZfrBXCOpD91O1Avq+09am//x90vhWQENC+tjunvlPQrQ3IUBa1c+603egBhh94yzQALN1w01NUayflbEAAABzAZ6kdEJ/FEhltQAI1SZUZ8egaffPXAEsKbRoz8K246IHIbvBV8B/odRqOSfX1pJZyioE3clPJxngVCU3UpWf/W66Je7KxhyfEyQT/+uyYcMwqEp0HzKHkdhqnIuamGB6mtfgKybd4+FD0ABVrfuouNQPSQAAAGIBnqZqQn8UIQWxrvvjjE75XuyFGW+XVZq10PdR0ITwBDDqVe4LaVKOjpTq8SrUrZdui8sTZuy2OlSmnk0UquMP5QrkMcZd5CVvoqDP/DBtn9KoEd28PnpBYPADQh/GNdPEnQAAAPZBmqtJqEFsmUwIb//+p4dXNnDx3oQDI2DRY7X6AC47WRyKbkj3dP7TqzIBbCYybXuf0314HIySYa/bhfuXACnS9M8QSrOQEnOFGWre7H4YAAADAAQwbH9XGMXXE2yKX4SVErOROKcErK7JHCpAEPZj/x+kYy+dGEF2/BVETFZz0cyzsInSJwlX50Ib/Ee+7amlujKDITqq+QWfYcotjGAI0z5tKypcM0+Km/VfGvWVCjnJQne3mSIK8iGd0FYfURbDu9aeajnGDm64+RpNdV/GZ0VJsaoQSqaZttAv3iDPCdx/kNZavyBC/blVsGoSBC+6px0wsoAAAABlQZ7JRRUsK/8IjP5iAzb7fD6aJln/yIQEjgVk/abdRhZYL4wxAvyaPVcFCoB8ALZ3U38SxWx2xPASTt7tbrEijq1sU4BDtaN9GszL+iam/xfe3yjhTDMeG+1t3B7CQYK6A8/sCTgAAABXAZ7odEJ/CiaGPgh8QuKPZddZ4mTGp3M4ALQm3gfyWfdG5D2kIfwA/iuRnID1gbvFSFsP/Ehh5G9hGHh0479FhvbRopNgi/N5YQG0uNi4qFFOQDGcgE0xAAAAaAGe6mpCfwk6m21F5W6pJsN7UkZT8NKGsQAqQfuUAhWaDEk/LAeDMx7DLjiFNL3DcP3mGnX9dVqrgEsqEI3OHo6W81/+bk/LB4vQaeFsZu6VlbLWx2FnYzbecIc/e+4xHUABXR5jnxrQAAAA2kGa70moQWyZTAhv//6nh1Lun+469wAF80aWhCUCbSaClmfJU89oQ7sMOBu2sO/rYnu0ei82ZCQrH0ic1fg1XqlNm4k43BLpHXVx0v+fGYFpMuQD5iDDzvGy2kLAXFvBp/5IcWC/7GmdlNswDzfZpwJjTMUMwSKv/IgAA20zuvB++b/R4ztDHHKmJ+weKM/bssKj+Y9921Rj691PQsWg6PBGKUd3iPLPUy7NuQkIL/piH3+smPGk/9vHau9TRzcnumTb3rfCpzHCh0L/AvDX3cvuK/lnFIumOAu4AAAAbUGfDUUVLCv/CJRc68srv2NztCl3uy6wjXGGRBdWCuVgCBhquKWOC6QEADg526xZwNVivp6g++CZpvERMbjz7mrqwCJJFRrkfFdE3io1cBzHN6vdIEAtnQkYXKt7Uj7JiExJxoZSoDJPoA0Uf4EAAABiAZ8sdEJ/CTLoBSACDCKG3/jx90Obg7iFkAG19vA/L6iz/rNP9fVujP+NmImwaeae8bX4iOOnMpCT4oGFj/rZ89Iy5FQeYEVrMXW10XadIm1aC0tgwMFuHCOc3sh2bb7Af4EAAABYAZ8uakJ/Cjc4CUAg709Pmpuy+2I2OApTx+3Pc0ugNDwB89vSvJasACH7HNA/XrjHAcjhgfoAbWX6zl/KnC2W0PCPLfo58iKM9qPtE41BZ6To4FnJVRbyMQAAAUFBmzNJqEFsmUwIb//+p5RtGPgA/etcaUp6xUQcq/Dg9Ruj/FXHu87xThVshKb8KsUxB5tnahg/lzGAbNFf9Tc66nRTCFiOPdmiSddK5NBn8ly11BaR6nB68ZNz4NA4zZbSn/Cv7Z950D835Na9zBtAEP6AvpwETt4k9QugAAADAAYhS/uxbpCVAo/BmyHR+ECYbT09J09woiEIF5P0E1HeRj8jRrI+ek4Q1ET5qchwfxxStlEJ/JvGyN8VJqNyxtAy0L86rPdDRkWMz92FtnHOq6OB7taNAR/bp8E3UDGimYaobylO/zV+lcwaZ2hRt8/eTETU1KaBPMVvcxs507Ro2vczniwKCFksAPkDK/jwRaoCmDv7spubDNyltuO2FG6wkXrBn6VnoAdVxeOmD2tCzigGVGBx4+b+uCGDYHwgH+AAAAChQZ9RRRUsK/8NdV/u5FABxuL7KEpAudyzWUUoGBJWiqXVWSCuZpKNBHVTuK+4N//T2DzfENEIoYdo5GdbFwQZSogQz+P0q1uB+futmzHGYQKIP3YITHEmz4YP1ysYOiZcqyJn/A7e7Q3fPW+CvLz5NFY6UeBo7r9RY3wx7ZTm9qg/OGRhVdB6hMJbtxM8Q7yebskcIonhX/cBcYX+F6cQlYAAAAB4AZ9wdEJ/DIUYp2wvs5swA3OtCzybPhgvSXyleGWJ5zIvX/JFgjz8QZ1B3h58JslEnPFqo4N/YFH/b510OFvtWdx7tchHNHY8CNwfyoJRcV0IyFu8JMv2cR19iyVkdJffQIBs6AVGC0InBP4UOuiOsFGdbACZx4QdAAAAfwGfcmpCfw+Z8KgUS5XjUwBXB5h3g06jeNPKvm0Qk3pQP04kvmBIkM7UTm7FZGFojm2daCLTemO2tnEacgo5Y2p3Asp+EF1exMTgmfi2mMxsUZkpqfDVBaPTFCt1Rjvv/G41u25IZy6Sz4xtB+mL0zKjZQRt5s80wdNgCc44PmAAAAElQZt3SahBbJlMCG///qeUkF7VcUsFcxNH9k1XFQHyPqlwEd2GAoAN52bflhoVVCYpL6+KgBLDucAAGIUf5JOCZlfWmqGfilE5ZxRTTmVTuuDSqRaTcm+I8zUFamtiaFa/r+X8dg10veCfEGzt4FDn0lNld/xWe21Svam3ZMUYcYtTX0rv8Qw4A7kM+CZBHmXtWr1jaRN1XZHU/IyH5IqmxgN6S3vu/Ere3Yj0t8Xw4l2i30W53HUpsy40RFbo0uuiCCuliBfE0oyYDUvEJrXotY+8DAkxCveyhr/qc2ktCxeqyin7JttqgpzG2I096hjEVRuIkZUOAAoxBka48Z6aBiTpqEGzoITe063l8PxN+MkfoyxTM67lBjYOP2GXG/UhgUegEq4AAACnQZ+VRRUsK/8PNDELDKOcpW9bucQi3FjI9tE/QkrzskDKJABadhppBa7UvCALNtEtbZw4GY8AC3XpLetdFq8/ZRwm+eNqp1bIz2tKYcHSmUf2t+CCsMcDqfr41IzAxq4XdcfEF6cY8It74C23zM0w27qr7TuQ5y8gjXYzt5CiqKimks0AGxUMf650Vl8OFn+53j5x6JaXxkHNxZEZjBll1cn9qurTK8kAAACLAZ+0dEJ/FKxQAGvHd7F5UNAHZew1pnHDRSlULu8WYWbu3n1DL2w6rhDdH9n7WD99sVrcPaHIorMndI2s/sY23clyAaQ393Xrfb1Ad4X8z+Sy4JW6bYdHGV3hPgw86SaxxwQiaUx1hPUpzy4uk7vUl511gMMXt3gLrOqg3+x5UpmlMhcZphPIlAAqYAAAAHwBn7ZqQn8JKI+DOH7P7sqw8Lkp/LxSJuPTKZU/hnIy5YgdnhzPQoiADg5vu2sMV+tC/ukM21iGBgw/eYab6eOpBeuvxCf5KfE12AzTSKUCotLimevEMS4WsyHYOcBwivP2XzhnQpimpdcqvq3iBd2koJOmXdPmio4XmTeRAAABIUGbu0moQWyZTAhv//6nhhoq4k1EANvPWn8gDrcJEdE5gziLAIwV+657zHYnForXxO0jaqcjwA21NVDksu/QAACqE0ximABh+h+xMJbxNSXHLHslSlCXWgCBOecUzCl2EIHrEx6GwdrxoPEDTUlGXb4HrOL97tqjX9rFoLzTbOD9Ukn9Nh6uU2rCjQQmzv6npYIsZ+O7raVzMAj5KCz5gOOUWzj2iqDK+qH1KCD5GNE9UBqhARmtEoEx9YZu9W6nU0H0cranxZG2R9wRsgj25Zx6UA9RNfwgQthmtJ9fL8gXYOLG2WzmVJJHs3S4cNWfBOET3BGk5cQLfNJQf/j3/bgmlfMnd+vtOIeZGjKKh3llivEBbOrSBLIQM4j6QLaxxSUAAAB1QZ/ZRRUsK/8POg7c9AaGr81ljceXU/wgOUAEtXCPBdN/ZJ6v1ax+KrglX3LyxLBt8XHQeaOnLBtKTQZoEpPW9nVk/GVVn2fI+SPPfkUEZV9jfQ5aji2hZI5aZHDqby7ZbFfOuAjRv1V3SK+JDuKLgd/+4FTAAAAAlAGf+HRCfwk0b3EYKTNcmp7u6KgNJIAWcye7INjMQxNuJJjl5StR1/LWeogJUmwd4eCkx9G6+o8EOu5RhY6Wm+0ivpqrWO6jq4NaP8d1njoeNgzeZeUzmvfjnuRnlRwJxEUxURAYpJW1vxjSyb90cGnhar7EJiAX4oFrkQtwG2zsOiEOqZ0lTgqT6dmwwhAhKv4ABQUAAABwAZ/6akJ/CTqbY3NJetJfc55jXsilz0o5j20eAE0tfNbpQvwlQA2qHY+Is94P72BIIUo9GSD3fviejenmrhKsAAKq6DOkMYorIFOHYLqnJL6H6JttivIUiYsKJhy8dgQiDFdmA1xXZ5X4BKzGtj8/MAAAAW5Bm/9JqEFsmUwIb//+p4ZNp/0sHLo1Bj5W6OeMxD31tmNqE8TRbhxvJR9Dzdj7i1nO2MsPrbBnwPmzByZLFc9y0wwzFtHPc7X5cM4cqiUZY8xM4eXlnzR3B3K6peYGTnnAMA6aTX+0EcIXuMb29s7xbZwA1Nza82J7mkXFpMMIfHJHXHjfA4V9lj0Ug5uMeD5LX+lMdMbQGDsrimrZ0CJWYN2COMSm5kcU4onxzkdxnnWV9WEqstyb2j5UV18/ir7KiS9TyR1I+ZO8ajoTvvgXH1HXFWFjsujsU+XUeQdI7OQE/womItvKNoTt+mlvQVJLGj3V1d8RdwC7msdCIhAr2ef+WPzBSSY78XUskl1xZw6s94YKLzNiZc935BMx80W0TggpD6TCP6JKT07khOIt2Y0R01ONO++R4/ur56uoIWhs3DT1k925aO4IWHsEA0yLGFKzT4tZYJIXWhwgBYYtCDgxCh7XQ8bifM7Kg+cAAACQQZ4dRRUsK/8POg7cX4jzJ37YAWCdX2PBg9GCfOcMiuHk6OW3OW5bBSpJsrDv/hgqIqpwF9E3R9dSliVtSpBwHCyAJmnrqmQkeqfjnH2E3x/q8x4wArrfQqx5lWY8Ow+zg81DcReaKZ+4cVKgtshuo/Bpajre+YCvskZXjShXbJNYnmlTmHw9cJdKrnIrmmVBAAAAvAGePHRCfwk6lgU/0ANyPwgBGR02iHxE67cBI98MvHk7jB4LjgzRUL/OFXKQ2YYrG7qRW0DN9qna/qprASPMQnMN559PaIBHk7FCbncem1LN3ycePo5OTyPMF/auca64zFcBNytn5s6cFsLKSuHhCH9MrnYHW7ag+qnuwQW4vOEY30gUekNrPraD/pawOQjQHo13T7Qh3MYx0P9ZUzqRxg/knJ9uyZGk1kjeAyyCkRM3jBw3fOk4egQ64PSAAAAAtwGePmpCfwk4V2M4lPrAAX+CsBj/mDM0hFTJvpsH7jdx3FjofOuaMbvC/QtT58Py5fLpxVGx9kT9rS2Gg+GtK6MW2SFteBKPuzehpGdbspxIff3fGEVDwQmCq3cwX2OVYIni/MaVN7BIV5jY/F2OMWKFqyHHWVso/y3gXgPogtBnrLn9ezjOXFKsKCB+pXMNIoUq7xDt+9NabfF5fdfA8MKY2t4n4/yx0ooXy1Ey5+hAub7KZx8BLwAAATVBmiNJqEFsmUwIb//+p4Wjo8TAQ2toeLAC6T++Um+9QGMOx2NKdF/zI92nABh0qsIUGkx6Uts3rzA6jPDq0lzpD5vXo98155mznKNu1I1nmLoueSFVJE1e/6IzHt45Vz20wLPSH4iXVCrxLjiqqtOloOFTpCogwMLxr4Padl2dVlqYwOVQ0Cn5XSwZ8jlzXd1qKVu6x+e994LZeMooXj7SMUPVRtqH7b3l8j75GxLblZE6vZXECTEHG63lmOavMm3gjq4z6H1NuCX5hmvdqMq6vuUytuTaxQBxItbks0VKaMZF5/CbLzBXChqgsoZr/+iw4JapEWCfsba2eh1CGeRzkplYDqIrYUu0iol1ISWmftIJIGwFvOoBKUfSohSHz+BlsZoMvHmdJJ7wwntedm4AIsjAD/EAAADAQZ5BRRUsK/8POg7cafeRgAoBNPlcYVxD5mzll8HmaxPMV9QxDY9PCJ8vDSwSH2pA5vNnuMSi3jL7bc3j29e6GvN9usWUEkqXaeVmL7cWacqz117iBkYF5mWPKoOY23SQ1IqoxnOQYJRH+nq13QTBc6gPJJNtgMWhHRe2JrMEonIIspZXio/UvUuvukpAkFt42ogf8SYJ8o9yRBERuGCmOlpU+eJEaAhxpNnypfo+3Mmqkn8iXzBVw/7M4oblGKT4AAAArQGeYHRCfwhvLrdF4BppFWuPmcdPlzXHJISB4iiARJmqbDzvguaP860YWN3HcWOh865oxu8L9C1Pnw/Ll8um0lbHLH20oWfjSlBz9I/5jBebtW1XZ9NYVqx3OBWFddm5kIBOuERQ3GFuZq3dAlIpEUccp+n3gunPYETTGERAi527nUN4dkyd0HzeCDWIxIpPuBvapRPCQP3x9hfcVWlyHEkGyIDQ5eAFNi5SFJeBAAAAnAGeYmpCfwY2La7XAFAJvurTcEFuN828Tgwid7GL0BcjqINj34O7OrjmHudt3JhW6VMv/SvMxaPcoskRY/tIOHFuWSBKUKZ8FURXFFk3lVRiVsSGpIHhWCdBnDt2rTiiaedwXZzR08mMEZEfr2gMw0dipMBEEBxwO3s9OBWRFyqqJfq8c79GesmaVwMgFymWPopBaBEAHj4G7P8xYAAAATtBmmdJqEFsmUwIb//+p4RLdHhKNXx3Z5EHZFyMYZ17n4UPlUDqP6zFEm9NJOyT7j+pjta/G60Xb0TpzgB8zRYXsFUiJFI9gSP0sy7tQp5Lk+27Qk6XmuDWmf5ZSvkSdbKoBpQvxGwYK8UlKnOpd54Za5DunP26MS4SXzxPN3hj+cc9gtACDudLilR9MJRheiWswnOkjysYfu+QxUpHSMZ1ipFpavQwrpmiCQ6a13DyfMZHlpRSCPi0MzgYOh8C+AVoF3gMS8PmyVgqT56+/HEHInJgkEO0uekHt3cgTLOgILaFUj6gWO6DNgQBxeYfOQny62Jc0objDfnTOqOulvNwBdUhAuW2SV3Te1IswUt+PJN6N5tc8odoa2FYbrEXJWH1MDBcRd8NjHCjk1wxmoq2l9xfZBtwjDLqkvEAAADxQZ6FRRUsK/8POg5OLkJp9EAIqO4mbUyXvh2XHNBuokZGL/s8aU1y/X51lPudbRah4IyDYInES+3cS2l1p5HM7wtvIbe8vmSLG31Bn6uBrqR/kz1yheN/JU1MD6uzxT/lhMo18wQcOhv/7NuKqqzr4BDMuMmIOMDSbSGeF1hRyhmgekqZvMasoh+pj+nx1HFDXZPPeKS/GlB2GnFCUrzgswsQ64Kik2cOPNc38RqKSht1wb6LZ8Ho/iT+rqwrukAdggMa+XzbscS/jdfGRHP3QFntEI7WpVh1UCILSQIGeyogjZbRv9JrHKN+SYdv1U5ugQAAAMEBnqR0Qn8Fm06gjQgGr2+l58JhBx3t8vMQ0e9NOrhttRaT3UhoyRwJv6+nKENjS8xqrVm8/1bXgtiIxDLctUl+7BrcAqfPgqqvEOImwpx5q7vhl/DZ8uXz3I5WvQ5s4+8VcPfZGp5SWtkhs6iNP5k0h8BPomcIGJDuCntRkEjCmUAnYH3+hPl0KWx1c83YNtPRwk2CKrZdKt52oTR40z1MWMBZnJ1wzUGrqTOyrzYcLQ9BAQAhmU7VSoNw4+tPQz4nAAAA0QGepmpCfwH7XoAPSnSqdeQ1BLBUe23tEtID5p/dLAJe6M/1WmFDJF9vlM4K95bSMNBBi1JLUgxpkZSfuaErBADNiliGWd/4aEyKsARg30Kb6WxIfTEIPUjwVHY4RFD7DdC57NSFoD67CF5p0N85uAWhCUBr55fb10QqIFPdvkdZuvNSe4ztP9ZWGQzV8xeH1eDyYvP82misISrrzQSgKuyeDKM+XbX6DYPXVX1lQOuliaae6/hGNt7ah4EFLtLFmRmC5qYOP+oM1PHuVyCUGumBAAABLEGaqkmoQWyZTAhv//6nhAGC8jYMol9gBdVTcDT2r8dhW3f6zYPLDd21S4bYQ8pazSySMhxh9gDVcKhkSu/6kBm0znSbTYP45//sKHBaqcywrwftafM/yOtm7DB5Q4heiZT7hyDKmk4qWiNbIMc+AMFnRnfCQvni6cuZq2lEkbD4wsWl3K9WXvTFwfDq1MzjGiYOIiQtEZBZ2ex5WiRvlAShEwkpEI+rhXZdmRzHNiF6aKQSsj6jyga1Z4m7Ms+NlkjQxiyrYLAa9KbZe2VazFy9+07hCrB5ed5kyOdD3lvblIGfx1GA5drAEm3QjQ9SiqoZ509SuiRwj1y6LN1AHQQUvos2I8mS9nDwxIv9h5yo4aD1Jas3XbIRKxhcB3YImdlEhqW3mVrQ2621gQAAAL1BnshFFSwr/w86DdMC5UpOFJKAIR0iOU2uExAC8HCOuwK/irsA7dPwxr3O8zVK2CYrJ7a9Y13kwLR6ZUbJyZLDi5SR/Fmw8+Ap+kI8fKZVnoEXFIPlANJKNw8GDwl/BRBnJI2U6t5zdq3+DJ7eBLeJ8SLIaPMUPh6BOiNQAMLI4QT/ZB8sWVrZMwIB6Kg7x6GUuYJQOrc1oXL36RM3qNIKfk6Yhv8ifjzmWy03Y2oTusMCvMjg0XZznmTNTjAAAAC8AZ7pakJ/AaR5ulAiS2ANiIW0pods/L27Rdntcb4okZe+3IimxvTyHx6CQNQsx+wEIDf0w2Wf+YjkhSGjwFtixxITM/yJmJDEj/wNJVQYe+Cedc0r3JNpq0oaFHa9aNrpHJgAWqcPYhXjzmAHb1wtRzpuYQgOiVd37BlRnObcaaMuiBU8Ci0SrUHlZmGB2u9x5VVUeOMmlcFNkSyXP0tDvTpxYrrUH7kNysnN+CDQVCoEBfCh/eBgOAEzOTMAAAEpQZruSahBbJlMCG///qeEAL77wrH0F9vWpGxYrRun37Q4jhr17w9IHSEnc8qHAOno5RQ4LdTOc9Sb5h/oMLIoqC5cncE58di0f//FuoeqjH9cBaiBmHJmBV833zlVJfp5JNM/juA+r4fy0LTOwN/yHZI/I9LC4al2ADmS7kTF+OMQrkzwpYzHJvazGkNt39MoXBGJ2zeUTiPrObHcr9sClHycxNbtknSXQsJ7kFGEPg5vbZkcO7hJ4Hf2N/NeHTLvTuHCiQIpZ5auxhhL6XVtaZ7Tpiep4tmJqazFZTyomg1PtwYbRkWaMBLLzp4nOsM8RQWh/U2rgPMyIfVqUvZHXcVFBfuFpvqdMOUePnPAXGEcY4b63FMGOw2BZYe0FuQgA5ZXXy2ZZMGXAAAAzkGfDEUVLCv/DzoN0wLpO1HTFmsUmqOKc2gBGLeSfFHWtiVuVcpwVnPzTIUxGCiQ6Our4KSQL88VCMu3F4YLpko2YcJaP8sNHZfr/rip5uX2OIrUcaSWfcd/g4JJXWibc9+4YTFEfzDqTzW9kn1LcmFlvtdJJDTxmia+R02B75t9gR0OO4AZ9NPXHvOCoeoxpu2odJXTYKvOBgYBNRFI+LNxpabSuuwxRLg+sPRJBV1C8GMudfdJ+anTrvrJN4KnBoppziR2EQsEZ1DE0OXgAAAAoQGfK3RCfwGj86G2ANQjCqqewaABYJzcFs5kRQkb04hksGcXhd0lVCo0VDFKBvsolVPIeK4O4pr002HneZTZ7xkQV7da0fvWWJ5ADP2jLxrZ0hE419nzWLzhkteHPFs2mw3Z32i0YNwu1RD9LbLbhq9stLN1RJOARmK3ERlWOvEcixX1z5kUcVA2NojBSshaU0OSXh3PCBNRwr6aETCtZu2ZAAAA0AGfLWpCfwGkeOIldgDiGcmi7Q+jRJ/5uqpLcNfyd7rCyk2+wPjUAKpBkRvviE/VrjV2OsJUBQMcAJfwMEKQEYX8XkrOWVe9t5o59CfcaZutstfTyj5KF6FcEI3WMEEDkJHXnymb8DgLBgl0//BPeIk9/t0V0BdZgR4wSOU+VY+AQVsm9xZncVpwlc6m+FEMG7FtTwaX8L1HCFWIlWFWrz68tcfFGEAeg1/sxKdBIMDXR3Uwd5SWLUDMrCpEpF29N3w0KJANAAPGpnEBmPDIYsEAAAEMQZsySahBbJlMCG///qeEAD5a9+EYbfAA57budqAqp5uchJy1W1Zq2ZoeM/VNfHiv4nRMP7BOHLOuUZ2BlRbFWkZd6vNGRNsdg5FwSKBLN/UcUq0BKYy1gEwK6wApZI4wWo4BiajI5iZeoe56VZv83R0YFNhypD7u8LVOFquKlF8IhmcZFtZk8Wv8IZu4h7UbW92wUO+hnWZfJmTpTdXld2eVmWgDbdes1bYh1Ye5W7bRMhZxseOvhGGeUnsBttgWMkWNa9sqaU5LfqS2xlmsBxGrq5aqXv9KaLUaGpFak+OvbyiXuNB2gbBOJ1cFjg9ObW5Zkva69KS70lN575lCPPqVeeKQN2y8vQA6YQAAAJVBn1BFFSwr/w86DdMC53FiflRLcE8UCnvB2VyTlWpHCvzBIYd5CsyvLHRFBCzTl36AD14MEcdy2vfGjr8qN81t3ddJbhZdKCqwf+nu9ab4NcFJyev+DFdGniDrlf3M9VAjEsbT8RP+UIOeI7rN4VLz6pRoQycMfjvIOj2esGsj+RjuoB7PpXqCcaOYtnKy1LGshDwBwAAAANQBn290Qn8Bo/OXtqjEpomQStgAIaQDKS5ervIAOLOKWH7e8P4PUe2gIdbakWFuVrSmuvUqW4AHfw3xPzVO+ZeUs/Gc36Yxaeaz1W5QVD5Qkv62dEyDizEds2S3s91fIdWxResG7DQn07/+CbERQz1kkagTDblFtusuefYPCDBIT1fAdIfdSJ+4eBdakhjbvf/yBU2sQQSzKrloDsZfHhoId9J0tpvfbMZWzXEApyY7q4XJZfB3c8j6gBwQiP89P3uPJHgMTEPTiPGT/KapRLWOfn28WAAAALEBn3FqQn8BpHjX3WjLV6MOObeYj9r3X9JoApYOVgt8akxrQoQA2nnYbW+HpON3hNaBzo8/iz58F5tcWuqmQY5aaWJ9IZtBY8aXTtd9eV6vlJSm2zNTNLMDqr+SiRyLtX42mGoS4LnOEGyS7duBxUiH36Z8uyh85x4/oh86Aykzya57yUcfgBI+6+SfHV4GkSTWfpeUMCU4NVMJRQMT4OJBgh5eAzVk5iho9ACcs1FdCFkAAAFyQZt2SahBbJlMCG///qeEAEVMoiACdaeirGvXiXKvC50ms5lWnyqDJ+f4Z0/Cq8z92caJpZ/KrGpACwVECWonXq2B9dnAsFRvDNslQeiPzqKdO5j+X/X9B/50KerYFa397Jt1ZyLqIxzcH63emlxWzO+sDyO4CbR8a1XHoUMIzgbU1LKI32leVsOi/AXgKQWWFNZ3bmWIxSANtxgn+aXcu7ucxecF4jOO9nY5B1OXltF4lzatyouOXTL/5XLyHCwy5400att/q8WQl3OCwIVYQj0++LQLal2MDEvUUoTXOujvlqqTljNf7DdMMc7Hx6Q36m29S6rL/serWyt50lUEhTXxSV4YudLxFX0XYAsPDKShe26vsAMepPxiia9Yc+oYDtETQOuQjxxz8iZb4xqc4K7xBpo77eR7DI1iLvogot9qFFeR6f5UecWRILFcvMgYcImuaGW70p2AlUNsbrnNp2mkZq+dpzCj/sMerTuusQiBAwAAAPBBn5RFFSwr/w86DdMC53FiwjI4AqgauOTrVHVAA4s9TIUSm+ucM0RlUsUMhXPdxSQHNZW5KySUVFKk8acxjqPzALZFBzcf+XVUQdAtBVUNcK5+BgxqUweWvaJRqHDPJx7JrOdVZ14mhW0XHUeNhPw5W79Z2PzsE6CT9zgetKci6T8uGRaFmlo+hIdqiNIVIF01HrzCZZsdosmE9d9UlZ7doEeBGX57N/LCxLwjol2N3nuAfFYd73Ynku8qyboUuVBRCvMJQ33z63sebfEHzPoeeI8geJGq/UMkB6TwmJ3TQMpGS1yigQ1+i+RN/p0Q+YAAAADPAZ+zdEJ/AaPzl7aoxKunT7LMhVUQAHFnTw39xkH1Jn6O3zs6qEm6riGCam9ExSFLku3TBYDyeMGMqTG9kRYAFbzGhGxTfJF/84SaFKG1o8kH+hjdpFYdXobTuPwoE12PpLMVuIPAiE7ZtiL89Y1T/V5FPCeq7xbyFrjGhd8rTyy5elyS9mU7UF5HPs13kT+tHGR8jCp6StzKKJp+5Hk3SvJr9PcLH5cngcLV08R5/tQQeA/cF/9i6kYU9G+Pz38SuhmpG2NTxEFq1iwAAOOBAAAArwGftWpCfwGkeNfdaMsni1yQAsEuXjvY3tjV7tQwok+vL9Pm6Ie/PTSsUDUL4RGedGLgiUadQ/mnewyO2RhQbJOANQJeBjLPuJVEY3mwTGFMGhOPz7+rhJomsGqo2Z9rcosmbmifHrGMHzHzlC5Mo7z7uTGrygPLtww2/KJf+RVpXOwJbLW4Dse3YKuba+9yU/efX1GnW1YY05x4k/B7xlNl+TyXbCcChUbjX64AD5gAAADSQZu6SahBbJlMCG///qeEAEW+RtR6+sHNVVqWnci0bHgPcfx8jY98DVMzlw/O/unaGyVq0u3b4ei1nK2hQheYyru7urUpmYv4N+YOfe/Sf6+cPcnI55uXYMJVmd6BXikayt/dsTSX8IaIb/gsCXSN3fdqi/QEZprYqT/c+/Sco4Vha7XD4LxPZswk5yTRumdLtP42LPboIFvktV53ExM6aMbxIuttyXZ/FSnQET2m+I0InGcnhfXOVklDEM1FZy1hmNUd1p1Avl7GyquxCr1LgIGBAAAA5kGf2EUVLCv/DzoN0wLncWLCMjgKoIlG/4ZWgVogBKYuHGZDMSDx6uyClJGa7yeNI7eqJZ+4JjbMUvlxoSjyWGeLfHrmQcY2B2SWPvmXciwb3deEZqusiMqgIBsfj/Wk9GafmXN54cu4mEpx6D2X6/Vc4/d+o4F6ur0KjCociUDtIFpmp5tLG6VYPttI+w4oPXRuyW5fnl0Xs2jkhVfI8KznZqo4ccjwxMAYBJtgV4UCwK1Fy+fSCeTj4i3bNxt70cbWxkfJCLG39F8WtLDBulI6vYMdD8QDBRXXBuM4A93em4gmUhCxAAAA4gGf93RCfwGj85e2qNewaAOYRt4H8Q/r4JL3M85rUMwOOuY1QRJiwdjQtCRSD43seG174je42taeQa6Z83sajFF48jsrqP8N+0F8uW/AIYQPEWwxeYljh+rxrAU3Yp0nwwUBVwUeI6g1e+VltA3q5c8unL5f5tVsa3lMCf+G4zu4+HvjsKl2o2MUMGrfiAvXL1FsXB4KFO3g8RZN3rvhdD9KzRDPyX+0rBWjY2lwkdQJo50T3e1X9RTlJeByHQrJF5lvFkBNZCFi8gw1y2e/LJhAA2cZGWxZnzmKE9NUXZ9OARsAAACYAZ/5akJ/AaR4191oy1arMhM3LOGewBvQF9woAF5j5OmLiYhxIGlI4DWicLxYZA6D4KSTTeJA/DTvZW9Xw7yWr0iz5kElz6S4v1BNBvazk54z58s1L2VD7Iu6AGJeP67e2g54E7JAZIvo9/5beVQLwEAacI6MX+BhH2E7g55AY4LcbF0EaGl6nCkIEblZWKq5iw5Y9w3AE3EAAAElQZv+SahBbJlMCG///qeEABc/QU/ZAHI6tazeYi0vgnUGcb0sFmmcfVur1ZKQyUD9r4v7AOjdP2l6swO+GGiFIHb65JeRGv8+8pJTzKhW+Mg7uxkcgWhGCWSuJZ+Ewk6cOUH+95Bz8ZBcqJRNx8ccCzSaQOK8+OhqVByVnSgC1hjdtCbSihpxtjIu/JVLMlnLmMA8oWmieVlV/L7vFvf5HBRnX6ojpaBLP+MEYtY+Es7S5JMsSuo0U1o203uCgxivStxKZbv/8EH0m4mVURwKtiWGV9aXOrFjpn+cDaK95MyImbaJe2eCR2csu+kmzMhBjRb/mnRmxhrE1ra8ziJnwWkmLJdO+xvj6nosPqEdnp/HKLnSetq6nTlRbHAkq8LTx870n+AAAACSQZ4cRRUsK/8POg3TAudxYsIyOEMVkDRbvJeR1wpSLneedgCH6XnS6/OgpXxBOBXdpGZkNyrBEoDD/aoegBaPx9tfSgN7rMDruy6LFvTq6qQuizG9gqFniWFe/rhKvqqsEgyXbonTXVajF11EQir+OSLykq6LGbx6qAXKA9uYW7rMmDrjR+lMx9JCo5vQwitIy4EAAACgAZ47dEJ/AaPzl7aoxJmfKiLaEsA5Yf0SankwJq6rgAIC8KhkV1F6CGYquUKTIO0vfGnK5ocHsi7OEiHZzHFfzA/k3/FIWOiS+AwMGPUWxyi5Mfe1W+P4A06sbDvB66b6v+Mz37/1P7r0Js+rDC3LguHMncFGLufYxHb9+T60AvSnX3TL1+dP6jXPGvKVfh03Dab/S/V3zP0mJxlsq0BjwQAAAI4Bnj1qQn8BpHjX3WjLTZvP5/QAcbQoAPhCSYmOhk/2N/A1QLQzOBDN50tL8Y/FN2eUwpqNFq2yVupUSZPsRG1qnHLlNJzhLl5h2U7ncc5FIFF37Y7jjqw6vPQBUrf4w5V7J+mos1gJ3vyk58SETD9er0OPc4LV+4cM0E0BxJJQYcHlrHCjQCZNEBVnwMCAAAAA5UGaIkmoQWyZTAhv//6nhAAXXmXaOXD8GfhLdm79ACt/E96qemZFKnR7GGMx5t9CYDltq2haUiPcikZHkf5LOTwBC4WZyAzEbARS0WwXxyl5sTmqyXSkbtTIVTwtp3f0BNxoQ059F5bofm+9ieLB+7FVMlOpmGiZLUBllXAOoxZDGRoYSd3tbuikF+2cuBxEVYcAFVkL8bJPIOJ/Ki8mGLUWnTJcDtk74gGXg68WwsyHybB9vCJGEAf5YpGlr8ncxLrRWk2wY2whSsVH6gqmcAKJ7CGgmBn1O9Vk0PzBqdY7+4b8aVsAAACoQZ5ARRUsK/8POg3TAudxYsIyOEMVRFVOjFAv64xOJhADRmwuEPJxnOyHesD4fzK0SD1swDeQU5YHVYi16OshkD+irWDHn8Nk6E72A0dk4eRyC4pkiXLQV6nHGQW3L+2fpJyWZRQ4tmgksBkKfqmWQB5qxXipS9uRHhNA6qSEKWWOHLz5H/QCZ4p+wsxleGi5kOk+17JcDy/vsO8efoJADpqEK02oQUGtAAAAuAGef3RCfwGj85e2qMSZoK737RM3IAtEw+wXOIlXJ5ptrDMaHz5/YCOa3Mz8X0IbOxfKeenvHVYJ3stgcm79mq9sVBm3D7tM6rX1ppo876Apy3oxrD6Y4eM7CnSyJSXR3HKZW+ECEXQ5NJ/LKMnJPvIbhZEygwQxK8xmpXguDDHm/wQkkL7bW+Z1XC5Uw/e1PQ1IYgG1KBv855EgRFwZ/dALE/TgMQOXfl1M/NhYcg/b9j9IATd3HHAAAAB/AZ5hakJ/AaR4191oy0zFWtF+ID4R9geTPgBGcKIchLRU3c1QAFomhie223VPJbYsuSgzwnJZvud1t6l1Iykj+A7ghXUwzSH3JxINeXx6gmTZ5jF3yi67LeM///I3K9T3BcuYYjwAsGN27vkn3nqyE7DSFoh77RLIYE0j6Dwi4QAAAP9BmmZJqEFsmUwIb//+p4QACKn+3/SAK0uOU7rWNiVZt04YQhcqX34X+ORx/1qe6411lGP6J+FklmbHbxnXPbIn0gScEMnRKqq1k3o3JRnHUwX95XjSp206nQcEM+Q3O7k86Ytau1I+3xY6N5ZqY3asmy0AaNORbO2vjIwYKT228tIKmLsYM3/ijScdV4Q65K6W2JDqlxfOL6TTMF7CK9gutHhXpAxU7iIUTFXqjnNXlp1PGEsJhEy1oxKbWJiXLwX87OMVz6+bnDqprLMpDNrnCiIkHMB8Hu1yIb049NpU6MaHhvskhtLI7WDqA8YNagg4qS/sBXG1oAJ62LNlYi4AAACGQZ6ERRUsK/8POg3TAudxYsIyOELv4kAhP/ut2TD26AD8mBFrUPh+2CBASG8JOmn+IPiE1lreHpqJQJY+TEPzcRKF7iUVVWW65/Qx4faFqbwX/w7C7/2eHGzEcPQoOsFrgavuVrzfpagmXX7lBJApbsF/MvhL4lyyL37tXzRrRTC/FidCRsEAAACEAZ6jdEJ/AaPzl7aoxJhztcM4glFeaRtbzknk5xcbJb+MAJbYWWk4P1x3f+4im3dXeDgVXwPyftOcFduiL7T/yotnCt1OH18dbE9VkdBNKIIOWbIlkqUGMCAY3GxkvenCw0tKK0dYtJ0ebIKET4e9HYp6ZYZHpG6EISDkY9HM4tR90gGpAAAAmAGepWpCfwGkeNfdaMtMw/q4oHTMwfc5zzJZPz2XxjEu8aWJBACavTqev2aH7AqjN2Fft0Zc4dtozOEKQhY0OWT296ErjQ/zg82Tk20HHNqVvjTa+lS969BHkPgMBOEgVxuiGCS2/79fYV9iBFmHjcTQ37OR/wAnT8mTm7AafNYbLUF8K7UvhyTUTFacGR+e8me5X6j74CphAAABHUGaqkmoQWyZTAhv//6nhAAIt/dIg5sOlgUAthg+Gk/ZoqJpFo+g1rp5xWbdF6TDVWrL9cVekt+hXZCXFMrLaykPPkWDxYrhWOKcxky65Q8WADyF+kHSajs448A/eD7RtDdwA6CJyw2yPqsgGlRgLncwkcZ53bOsCCu+eGJQAFwhfCzD9pybwYVNKC5kpGopyCmd77pgIIGSiD0G7k2W1aKXF3lTYx7nct/zYb/ftVlgRHp28P3yOxuXAHiE50BwfIKBNyMps/pS+ZNqhA0bvZ8As+EsIyqZo3DDGJQVp+hL9oDzzgm089ktIiORKbH+BJNdDIyyxCW4p2mW8M8pY9Iis+0CozVzMb1kikZKY5EHaaXbBBFBHaecH8n5iwAAAKBBnshFFSwr/w86DdMC53FiwjI4Qu/iUH6ZjFiTG76zkZdcBEp22k8V55aCAzXMlxo5W6ngbOKCap/gfATo7vJ422CzpZQyXyng8NPCeU6D3pXq3rSaztchcxA/NvEVnYrZCHR/T1Zy+Vd24sf8PPZnxEgfMHrR+XSZOhG8fC9a2w3yahP2A5yH6tbQFYKbIjYpixYCuwSQBnWho2UDQJUwAAAArwGe53RCfwGj85e2qMSYc4cfYkn+l4mTPu7vVES2VjwGnZKdAB6WXOVhr36FEL4+LzpvUGPTzmeCBNpWjFf9NVPpQSAHpFV7LH1b1ZKNSeyDZThYGmUJm7m//6bEOaVpQm41JERO1nGE4wmq3I3BoKfqXmYrGZjPJYWgC1Pw0FhqwogGYt2vHPwxGO0JYAPrAvx1gtjZuEdY8IJdTl9jP2pAkzol2dxuWJRMW0wMDjgAAABpAZ7pakJ/AaR4191oy0zFG02+qEOa4aVvrGHzDMM7w4UP2ufo2/cK+g/MnhHz/9EeiJfuwPqy+0A7ZACttOLnTCuCRUWpACw9r6UNRsgew2y+TygKTmUNHYjPu+hoGn9MVRdt9cgOSCyhAAAA+EGa7kmoQWyZTAhv//6nhAAId03tRBH3KImGbZUC/4VezTcd4ARIAvIAx2x9QqOvEjaX+ZCqfsQFXqJngU/Pvh2rEAxQ7laB1QhrDgqu1kr/ZRRlVKn9Je6ro1rX2jKyvB3GVsCKRVyM22S06+foQ/r6drd7MFyeUiv7SrIvig6Sgw5bnmXuuUKwRKVMI+kO+dnZ54Tx1gC/3Z2xxB1ZxNYCVO8wE9p1dvmfAJrgDhevxNyG99M/H+AdbveUWEWhU71vy3W6KbMFqhPvQnPwld6MPH1fo6cIrispTwTe+qtAZxga3YCfoaLyzz6NYVRNC678dpI/SnpAAAAA3UGfDEUVLCv/DzoN0wLncWLCMjhC7+JQaQCZboIhYC+3MZFFzF1K9q2AFuE1r8jHDc+wBqDUn9ICbuMLbhCuGPltyu87TGCCjWLFl06gOTcctBu7zrgJm/mLndP+9Vmn9BnkrMgzvF3BzNfBFE+BZjL04pM96MTduCWLADWzaG3a6v/RcsW3x9RayevQW3s2jbjM2hpruGf6ec0z8EcD4gOYwtCuXv1D7bcBay8wg4MwaFui+dan1dtkAsLg9rgOCnMdNGESbWqXVtySL5X12CH5BolimN9e8igU3hqQAAAAfQGfK3RCfwGj85e2qMSYZbtUwqC0wzqFBbYFaV6rQhuXeG43I+cBjuc+Y3TSAATr9rs531mks5/UhcR+pXnsSf93aAp+08TAxFmJBHfCl1Kvm8n7mbJz1BB6q6ysceX4YIQbNySnhofymsf/cWeMjdEDqKZ7VyPbuHaBQJuBAAAAuAGfLWpCfwGkeNfdaMtMvUJaCCxlzZPZuEJvYoARkdMWkSoXlKvLmuMaNvehQ33a+0fDt9UsAdXMrkicQ4mOneiefqcvx+JxFJegc1IP37iVkKYPt9XB2n+vb8uhSX/XnSGiGu1akVRnRCu/9YYbV3LJ1mcEV78LBxPWfIh+5QfdfNpkUFQBcacC6QgZ138djF8xg1mi/ojfWKr/XLDaIoh1UVJY0cofQvZfoEufdocpTt8k4Fxw1IEAAAEZQZsySahBbJlMCG///qeEAANK8tdw5QAqm5Auxj9VAzFegOD4x9cgkX9UjiqY4p+l4O554cRBMIDfVO4rroxthuPP9IKPfIYXN/EI0WT/NCqV0vmqfYaWaG9qZl4V0DjgOPqVxejHRAW1UWmtWLtMOMA2RGk9CLsAvuAZac51xdq85YiJvbRVMH1zo6CSUTH+Mmu0bwvDsX5gSIWKkv/1gphRRXUeDQiUdVxknpRKiqbWHVqpb+7MoMPXK6kaCXGf9OAHx44ZpgUq/innv7otdryi9P2jRSxwyygpnnLByieJcRWd6OXTW3vbPa7UJZAsBOA9WFlYjwq3TxlvJbtZbJPyVjOq3I876KWPM+uChmxK5RD6Ldk8oVsAAAC3QZ9QRRUsK/8POg3TAudxYsIyOELv4lBpAJlsePml2sk1I2wdcHJ8Pa+AG00IR20iZuS8oQ5Ak/Ku0HoEQfDvvYOhktsC7NkISXeYb9yQlNTWkKc4Xk0uJOUahAEMMpZqmbzep4notOO9XBZ1xRSGZSq+YRhbzEmLslCV8wgDdDCvtnCZ8UMS/stLIkTUTQzSgHEHB63unLVojngHDhO6QDyHqwuzFRS41FMblOlhKgCI2LTbuiP8AAAAsgGfb3RCfwGj85e2qMSYZbtUwpooA7g7sRSXIKaAKWPeB+ebivdskCvp1xSf85KCQ2/q0iwlLyGD7im0d7i7+SP9ygEKy+CvfkPQNH5wmrFmWT0k1g9Tk56Xov811HyeA12yRkhVTXMmkQPgL8XLFRbvoAaOWinUD485vbdyD9Ts5bNCW2BABvNZzOloe0jMJcmKUhgT/KDrYg+hMHJjy0+yIqLqsObVRI9FHAiTU0QE6YAAAAC7AZ9xakJ/AaR4191oy0y9QloILGXNmdbhn/TiALd7S+tnkNCn8KAZFxZ9NPmWAExkrIsQO9HeNeoqIYvHKrldI8BoktFlwTtMi1L+eZ6uL2XwC3QJsNAtYfXYQbaQ+VcFTcu1YY0iJ2XHYMwssLW1wbQqYpmTRfrlu3jecUp8nKo5pQVfcxo5oH2fouGU+acfVPhC3FQyCKpG051hK4zBHYE1Ju2AyZLpSGYtlVvkwxGU0M7Q7Cqkw5YHpQAAATdBm3ZJqEFsmUwIb//+p4QAA0tjplOUgDFOxKHrH9E/e/s9pWNfLUOJzLvFx9TgRD28rI2tnZ47T3gwSWh76SU7yx2vSTiUwD9BlzaGDsAHPf2Bvp8AlBoI7KMuhUkxGFZ+1nRWKvhyUmBzr6gL+TVhJ/mcVOCLjM8TOEyIppX05O4/sGz6KqjMfu08XH4cikY2aDwD8Sd6fx4EUJdvI4H13bR4xL8meo6UAAcjltfr3SLn/AHoERwLqIIBq3TO9GV1OGzSM1wrJXuuazUrbXihT0bWM/BFwJVeFHhVkEopf12cUQxYPZKyAIzJMk6urQvlbhCbpWIuoGbKyty8UUUjCXgEawl1VJ2gB06PPS/LcDD+yDeZFKIlNU9PXHm2K4Zq7MIevBz4ivlLLeFoFf2z2ZpesyaCPgAAANVBn5RFFSwr/w86DdMC53FiwjI4Qu/iUGkAmW6HJQ8hiC3EPRLK+8nAf9ynyAAftw1LBDwBnyKD+FEK24LRHYpA2RNCHURRGyaRbwbnnOhKlwfJHv2DgrCfDJVsclHg45++bx+WDj1SWEBd2i8edsOrE6TEpNCYki813klLuQs6cILsNUfg3Ef0XeKB/QYAT5yCAKI4HVFcgOgIYzETi/pd6sl8xVZ2n/LYjqYBQZADm1fD2/B52fER7ptqoBLVadgrnicNUCnq9HH/fuWkDVOp0qzSaggAAACsAZ+zdEJ/AaPzl7aoxJhlu1TCnnQOgYA4cygn4LMDFntFIW9ZvOkST5ccAB/PK/Xj6nKSsVlautWD9KjwgBLoASSkXBjikxj6P4AjLtypa/MpOmT9TFGgvnbMIsbuO4rkvOuaMbvC9wO7sr+icjGRGeY728oSVBvNCx8bGIBRJOd8HsNmLUJUhp59II6Ti9IpeyPiHM0NPHXSpWTGnf7qiKRMiV1JlwroOMADewAAAJYBn7VqQn8BpHjX3WjLTL1CWlEimFxHZBegc0JUnb7Fn49iUz6pj/puUFh4bc3Z5+/zgBaKM8pmrHbtjcxWTPkL9orJ4POQv//9bzpJNC9A4aCynubaUq4gBSVwANJJxH9FoMZqK2e2DlihnAYaRd4/yqPo+vOOkkVDVEuspskGlbHm6BNZiiSgOk9ztKWpCKZWqetagS8AAAEHQZu6SahBbJlMCG///qeEAANPwnmawTJ+WpGLfKEAOMjoprtxPUZf4pVI7RA7pCnHD6OhkdgydNaDXAuYvSeshHEIbvaen9kTTXwvPzwdnFDR0rRGqwoJaUWK4rYoPlFoiJ6UHeo83FCDpNvDY8FVeTkYfXawdUGQ9qxGEd+xj9v0VMsb4T3tQEybXMIm6D3FwhMJ647h6K4qmKRS30Zlb5IbMT202tk7Ua26kTltDlfJgBBJpb2zCMn3xWBV3Oi7P0Lx56fd3mtbmGy05ifLeXRrm2JEoIeGjp33KILuCkSWUKykDzv3zEqaMs+KOiaaYy+jx9Wt2tE7V9KGMm63KH7FC6eOGxcAAADdQZ/YRRUsK/8POg3TAudxYsIyOELv4lBpAJluE398UpTmp4z1W3NH3oAV0IOgJ9uMCM99cePuCleFiZfsAWogIpdBBANZqZgHoDrNmLSC/JJS5Ne4yPk9hR9Knj8XYAkK9v50fRbDk7Cu8gAfTKGvvqQbeir/kt5Uqb4I9UlY4jnfLKciQRsjDbIva9yQhCnzYXcnh+pJRJNAk5pTevaO0NXwBBx6nviz6yY7vJqm7GitLw9CbJIZuAJAAszCy7uxIrnmmWh60GMbdsQMhBGtQRsG/zw9yj2pWZBMbMEAAAC4AZ/3dEJ/AaPzl7aoxJhlu1MvFza2aFLGWZfaH+ZgANFGArquTiv4Neuvokb26TMnAnJbzb1caNBYlUw/edOEmxZDcm5vXQClyPXcME9rybIM4COhUDEJpTURDpHQlEMf7LexC/c72L4XqGOcrr8yrQDb+ekDx6FFLTdphuXtAm10v1RpvEEd0Vwo/dJqcLMgPh+sc6cRkrM/3+tczNzNf8KPdjl//owcoGbdx6yb4SZsPllC+dIH3AAAAJwBn/lqQn8BpHjX3WjLTL1CHPNELe3uBAssJ7ux4AiPoho7Hvevc2Xl6i/uZUVh50wTvuYJZjC3gHJalrdF5ya6zAdDCb/8JipKbwfRWAobfEdSvoL5l0NekRPsTwI9ACYuLEbUq3sfMofEmPerInKMj7BEdVzs+0YI/dvRLmbBvdIm3T+sDqO2xM3jsQJHrExzmFGay56rG7ZA44EAAADTQZv+SahBbJlMCG///qeEAAE+kKtuko2AAhVwuwck6yovPWT550LiITJHGEjTaj4J1PL2NjYucUukJzXIGzpVzpIxHidsOjan9WkzFSylWZEvD5UezGP/rr3NigNeSP0atpmoHjaB0X/5krsuX7I3Kfub140AxGjqsqgd3FwjJF/8E7dNVHwBkN0+anvPFJ/JGMrd8FiKClqzrCZbcfTDmbKd2YddU4VFDejYjioc3DyxqI2pKz5gI37RoVK2hWiUr74M7vS+7uCDzDno/xalNCAG9AAAAJlBnhxFFSwr/w86DdMC53FiwjI4Qu/iUGkAmDM3aqpkydmTkUWUgHJlK5f+wYAWCed9qvHT0qnF2rCMjQuRXMg2CTo/ZzxB8WOH8MDUoL0qBvfG/AGk4dLj+Cec5ULNek6W7tDvCudM7DAe5yYw8xJ4GAEnOppgjkRF3ieNwXe7JAX+tjnGAeIEI+mm1+fCjg2Lm60YJjzE6YEAAABwAZ47dEJ/AaPzl7aoxJhlutnmublw3dhBpjA4GE81P/5aAFgmuvCZcPwxcwSQ43TKJih3NMECB/y+seLTPsxEr4s3mb0TOq8mu6UXc3MvIOlyuMqZf8H/utAx4K/f4QsvGWwZbywm7l2lN2QHk9wLaQAAAH8Bnj1qQn8BpHjX3WjLTL1CHPNyf12EAHsZu3CzhOBpVofx1Lg6AABZMn6mLUyDo7TwyZSiz5xOPKz3/NwrmDntvezSd+YLqoT1I+VpA68CnDWO19mVoeWt55xy2ftGsbFO1Qlcu6TVRW+CChpxXHK9VvtZ0SyiaTaD8c04CwEnAAABAkGaIkmoQWyZTAhv//6nhAABPYXfPlew3WlALCCFapKXr7TZ3QnGfIRUVRFmTE93/ahl2qKy2RQgZ4BG52OmSCGsFmRAUQuB+KEqDsh9aLS4EWtls2/T97P0Bb2MAqcKR5a9kP863faB/8m7W7+OomzX2mU5hi600Up+P4fZpbWGXfzPztoqbM9gxfHCJskwyZGHzUw91VBXafhmXXuS3pTn/Ns2nNv4H9a8H4bXCKeUF6bF2SiNdswt8aBmsls7Eb6WeGL5Ve3Lk9+IorQhcCcfr/8gV5WK64MnbsWwi8lxX1Csf4usR+Z963gF4dUN1B/6JNj1s8qS/On+lNAX2gMMKAAAAIhBnkBFFSwr/w86DdMC53FiwjI4Qu/iUGkAmDM337y33ajI3xjeonRMMnTflscAC0sGmivbIfT/Y5wcDPdeeU7NLkQkre+Co7haBeCpe3jFuwvsNwSDQ1+HyKa8lGc0xStgoMqyoR1Ilo2wVju6DyW9f39WvkQGNkZnemG2KUjZURBrCvcTmgH/AAAAkwGef3RCfwGj85e2qMSYZbrZ5zIeI4YOZPsZOblcRuG7y5URAA+xVbZpPLt9d0lTJ/U8RT9gO+9YkKmoxVQG8kDx0O+lx1cRkYn+pOGF4G3GXDM5G7hRUXEoTUQXLS5XuHvBcTgNo6nPK2Zxz0XbEmsAEKaHdMNsGiOrId8MJWiDP9InThGEI9TwlxQ9u3ogluobMAAAAHcBnmFqQn8BpHjX3WjLTL1CHPNyfjrIkLiAYfDGaRg1wAfdi07IxpxgDUm0U7eIjb+ILTM9aoh6uOGSnq4gH8AOmsfdtkD6KKd1CAn6qR7PseNts9vbnHfsDyWVHXwyVY2tFoQgS9eGSSp9qV8Chkawl3ENtsGH+QAAARtBmmZJqEFsmUwIb//+p4QAAT/mXaYJuFwy7fheGmt8sFvZwADjblfAjvMiSCYM0L5lSj8ogtxKBFSnsYLyIcbhaAFsBLC4drvGqmUqp43gzJ+Kn0DxGu7w0LzkVn6Hjrr4CSt7mEc7SrH6z0ZiaeqaqlLtnw4ADPgJfIx/TklveXicHPmB3asHtHTWcI9FSS/moWnqJ1vVIhvXdlagSUwBC2pZGbs1tO1boRhlE9aKyRuIjmAidO1yA9yFE5HwiT4B76F6Zl2pb37D+cXz08Xl10thMKq7mvjjbyswwI3i7tvu7NugMO/wsq2l4eTcm5CQtUxiPDCJFRWlJhSU+MSv5bSVn5ck6WWh3yEKPYzR/m8KRsFvrzyZ4GVAAAAAr0GehEUVLCv/DzoN0wLncWLCMjhC7+JQaQCYMzh5+idqGGeYiak3LpZA7QtYAWuA1SflZSDtNSUVMh+doCT+yzb7kqI1xzFEmYLtNGRA5VNJOew5I9Lf/uiYtsgdofmFzLUz2mSqaVtpHtZaUuSsf8Gbp3OgEiUiaQH1UvVTm4CkoCErjDb+IeT0+IDfNNwdyLZ+Gvnw4FJZALBpPpVLIv3h+5lxpGB6hzGrPiQ1EvEAAACkAZ6jdEJ/AaPzl7aoxJhlutnmdgqDJppH/+JQgnRtz/OlWunPmTYYCaBlDexZLt7Mjk4jmtngu8BgBaKp4hBu3PQSg662UXR1xGxsH1l91g5rF+ediVsdVoCfW/QmMLG7juLGX+DXNRNKQesHScPi/gKS8H1YgXEF/5H2+9a78shBo/AUQ/trRD4EvndpbaPr/fbcWKZDTJ+4dSSOmJuBSx/EBx0AAAC2AZ6lakJ/AaR4191oy0y9Qhz0BoNwr4ec23v42pNvAAFhfHtJvNcOngSh7hKMwKhByq4lqejRG4ZOB4BN5g6F2BQVrjateCLQgufdc/OXzvjmB8DSbmKvhIOPoB0ODNHMFWy9GW7QfiwtfMlwNiVcp9yS4lAPJuUKcqvUESV46mO4n8nOVxlFI9tiIxkHa6qBmtQLhKq954x5ssh0es0agstNKj2DYrf+WsWkyh9Lnr+wE2H5JoUAAADhQZqqSahBbJlMCG///qeEAAB/de/BNv7gBCB/67ucJ8cDTsetzKs7FR+0zTpEdGZF16Qr79lYJs+//LPTqw0Bvl0h9paxILvBFnmS+z9PfUiParXFqOBrv9F2d0qDZjVkQ8JTZd3Twu+JRO7XrRE8/aeQB3uPCBMp+9mq7sC9swY/oWrsLGbE0583GlyZh5MsE2swPqmEzCneulWMlljpYn2E7gui/Es2U7lNe+P0J4ZBARe3Z5fR7qZqQjw6oEIcX0pYEUwuRqJIPZcGjHWotNT5oets2C6i2cYp6YSoAIOBAAAAskGeyEUVLCv/DzoN0wLncWLCMjhC7+JQaQCYMzKs17Gnwa8w9rYAWTaOI5uPi1tRYYHtaVsXcp+ZH7uZMLyti2EG+p2I3bAPeXwdZTJFGo+htqSH2AaERXMupIFROtkApQMD5850IHptZpWZaRPebdTMd9RRBRoeGpiowA4voz9S1j0NRy9awh5myTCsNkJtmLYl2AZrKCLGnHTuGHqJvDVoNdLYq7e6rcG5FtySts/t/LwAAACXAZ7ndEJ/AaPzl7aoxJhlutno21MFJeB4zfRfIaYAWRpD4mHACZ3xpQv6p9ifocNk30v7DUyzggBqk0qGwOYg2yBVQdbdF/gs2oMBvB8wr8/GIWVAyfR5JUyE48i2H2dwnNdYghnedKMKvn9TiQP+PwKwagoX0z8mPx7WeA3DIiLXBHc0i3kkLTtlFeb1rpeGOTRrdcRasAAAAKQBnulqQn8BpHjX3WjLTL1CHPQ/ZVf98yADUjqIha7GB24Sckt/wqfwM9y36rOR7sfe1LPLQjRc+8a+gMlrTkz5pi6SuzcZz+55MC974HeZ8BqLSqrZsap26KwX5y+lcb+RzdL3eo75r4v4cp8leaVYv5WD1MsDcpaI/6QpP7e3HSJ1Wwxo9DYhEFj/qcySC5H4rkH4p73B5NZh4InV62PQYshBwQAAATBBmu5JqEFsmUwIb//+p4QAAH99lPwJewOAE7aaQaeWYVuuD5iqxxbZytoIVVVURYrYS9UP9wJWQQwDmUf4cBZovXrkxsHz4dF+bWDVDF0wyKjyT/iOKYSWPRnW7ELT5c5OI6hNjGgKP4Te5VR2yNhNgBVi/9GorV0quyB8WVSrD3/Zhb2HFBaphlUERVwIhK5hO9mPPfZDKgyMXDWqn2Nyg5+qx2xjgvfI19JATTIERBSfeazb9dDIEmDlVhZ8bcsyYv+rgsIzEaxh/wbfC4ApsxyeRS2SAjyGurY631Il3/uXwIvruAO+7WS1GW+mjRAhVSyY0u67flfixJUgNYllQxUtXETEyTBrksvDoQ+FMeVzyEMv6XA6RR6HjtiyR8e0T+C1uGNK/K7UFHKepvWAAAAA8UGfDEUVLCv/DzoN0wLncWLCMjhC7+JQaQCYMzK/7gYChnaptxxEenD112XkUlrGOGOqzECYaTyzr2zNxHbeaaMAS+z1TGcNBYdX48ItcJDeL4HnyphniuEuKCQ7CbhOT/3t+l92WCPG02adBrO2nBFlmS3SWnSOdgEmmM8va8TnZcyw0qMUZ4FdngjbjPMVoZrcVHf0aeqAA4EQNUzdbcGbuCUqgdk48wHPsySh1tj60zrchRVM+yePkNiY63wjXGKfU7CfIgmtvlNJPh8+IX0VOdGSdS+Wqa7hGnIc/q69htIZtzh5/gOs4BVDEBHH4P8AAACuAZ8rdEJ/AaPzl7aoxJhlutnpCNgZ4QBQa4x0RwrlEt4L5QUwqjOyh2oD3snk2Q6Rha/P35+HZHiy84juRLXTfoXcofr3cMjzRsUN7n/IX43JKFCnIA/viG17hzHrexP11gykFmXUT1jdMwGLxnAfGrSyIaQP7srCiohFb0dBSJk9q34NJF39KGqx2zmW2Nb2HiHiD9HwHSPK8P8gmTQy68b2lCVSWSwpN2oMnpZhAAAApQGfLWpCfwGkeNfdaMtMvUIc9ETLEwAbVLuYgg2tp8Lp869NDT+I3pmpHa8WAMxcxVwo3YpwRGwFYlFJ262FSTnfWhFyM97E13YODYTtj/64K+BTbKaqiE1Gmq0zFmame6qObZX+guBpNW/Z8p4A/5RdAfomkNwTHqdhWVE8N12xSMqImPqeWekvH1pm4Nbigzt8ARt718gk2EqCP0oezFUkmMB3QQAAAONBmzJJqEFsmUwIb//+p4QAAHlTxNR9C9xaSfJkNa8AIB3piEG2oeInFHYp/HdcE5ur/fvvgU/uSE0d+K6APPrpY3i/xgDqRE7+emVeb/aSz80PsDxaIYae4Xey+Vwh9QfeFYthvBjVroPnnBnH8V3qIconjNQavpFWGPOT2MgFEtsduAdfUsFeIgSd03ZzYhon6ODuUkXv6MoHf5/RPhh1vuLEodWMr4HJdHn6mUhwKnrbG9S7eU6CT89iTmqWszCWlN8Et42VKciGZuPBAigl6Hby06Pb1JVQBb5/n01HItaELQAAAOdBn1BFFSwr/w86DdMC53FiwjI4Qu/iUGkAmDMyrvaWAC/FQLReoVcpN6ebDHGsycss4D9YuvLZZHC6YkHTgnhJW7TqH3i699ruaae+Vt5P1LJlrlaoBCzkQ18/heiN/16lNkbpPka5BziIHNzBapq5GTdF5rxfp0Mk3Gacrymi/oqtPCzT/thXaSX8/ODUo1pRK32oEF6B7DJKVtBrOrFRePV3sgEVPWcrXd9f4gsVdEUp3XmYUYeI3+MSRRVvvh7fGjeYBduoiQzFJWpTfS4VQCcxAuhAVTuEC6x1SESZ9yWITpHyJeAAAAC3AZ9vdEJ/AaPzl7aoxJhlutnpANeNAsVIZ2wAX4nfrExbd3H7DDgg5GRCRQh0DHOF2BuPCusNsUQHSncgGlHAlhQRXug8S1yaR7QY9LKYUGIryhXol9XX0PK5PBwczCtMVqifB5RkgdVRnC/Rwi+TV1w+w5P+VswQ6+HcEhvjf0EDr7rNo27UA6y4cXXtz1pjCDGMXIUwDAjAnZWcihXOTI81k9ufttoNpnpXh6c6wBSlaDBDOhHdAAAAiAGfcWpCfwGkeNfdaMtMvUIc9EI/6zo7i0QlTwvACNF2UdJ7bLAAc5KNf62M/qgh0gEtHfkl/wrDjz5TmhU0NiZyDSfCHYZ1CO1Ndu8SWRGsOFvx/mNUbevaFWD5sRq8ZXWXJ4Lt+7q6dBCBJc7izrj8WYOr7ZiGKRJdLJXoEEkTgvid7zbg1YEAAADsQZt2SahBbJlMCG///qeEAAA0/sqV1wY9yyCVblQXm3D6AFc9GKCYZ6hWg2WBrT6WWG6U6vmDzhLnJaH9X7rjYkjrPT6Whj6eYvKW0dio+SgA9Z2B15DPKZRGwNTrYU5YQGC+nsqHp7xlRO8q/qfaxshXRqiNiDPoIshWvSO5eco46y+r9jvv0VWpWwQwAy0myssrYaQV8A//f7IztYrervfO5ceKjA/1NEcGisU8x80rBPj4YQMjEOBNlQIbbDcaiP086reVzyt6AEPh/qCd8sHZ0oEzF3zkWsD8g3QEAdhGwQv9Chu+heJfn1MAAADWQZ+URRUsK/8POg3TAudxYsIyOELv4lBpAJgzMh1XgJK6AtOol6olQKWaCM8zABYPBEdSSDQq/Xa6tsL66fYcTYxNH51iQLdgYeoSV5FR0gbj0Mn/ACQbwk9E2QBbGUEbsdOc/BTtuSiNpeu7ayhL/KfFX2AuT2ZdE9DfB8FPVBzlLU/1F0G9iDs8WjAvtMnfOZ9d0W9XNTM9PhTAjf+nZK0R5eV3MASippdOolAF1ev/9xopsADbreTQwIJM371ULnwKVecsbR2tCEIy6brwkXcJepI7oAAAAMgBn7N0Qn8Bo/OXtqjEmGW62ehm4L3jLQBZyjyILlp5qLqRFkdtHQYb6kQwtWrGGrLS2lIhnFfi98aEaRIwwoxExICnKYPjnVewmYzExqOXw9o0NHCap2+6StP9sKXCLXzSgRO6yse+Wa53UWEoYdWtc/OqRaVu8Etp4SEktLEcK1PjmY/TYeHmAr5MvJ+F3L6gYR7af0lV6NV3VMG6zxl4x7GgUdiqQwqEaHxDdGDrUm0Rsh+ZbIM+1hmVOKTQbU4IN1xgewmFbQAAAJ4Bn7VqQn8BpHjX3WjLTL1CHPP/38TIXhw+OqhTr97urgCgvpiUbU1pLiJikoVL0hGwvNo4+oszpwAtnldeIrPvzB5JVSBqc8uURXotPcYRQ/D/r2XimUW7AXfV5iXuyNukozkcnUF/ILTlFiDqqn2Zsc1F9opPc926jhpRnJQBVxElyvHhkPhXi7eSrhVo8W7qbsJAr8QPohk75zAiYAAAANJBm7lJqEFsmUwIb//+p4QAAC1ZQMO0QAVuEoKZ2SieJ3tDNyvZUMtmeVYICpn4wfwYyB/cuhQvIHqFOfPescNg14F3L3HHz3rabJZEdsYwqAiotIjksPPJ8iWmGpFTl77dArOTdBOAXdupxRPn1Ql41UhmcJSyfC30TrNi75tCPyBH6x+3PCGLpk2fizjb9LtXLb0qH7HwMnV6tM9FIpBDSMnYARj/LaBx4A/F57ahxGmBLyQyk65PbUtet3Q2vh3FGZ8yuJgJA+emIbJ7aEvuB/kAAADCQZ/XRRUsK/8POg3TAudxYsIyOELv4lBpAJgzMjSoEaojMZ8yXXHlz5mXalTdcN0XUWfYLhWsi9cAFw64e2VyKY0KCKBWFNt1DR0HWpF+fA2QDvNd/4gHAIGYHbeAvfLa9qmMVS7kGItk2FERSn5lRO3psrkcpS4oDhB2b9ykERHn4r2Uw0IpnUU5YD0kTPZDRpOhVwoU1WA/8R1zunshaJjHjmCl97/yn9QRZxz6suxxkGMswUkQl9sR8CcjwmMg6YEAAAChAZ/4akJ/AaR4191oy0y9Qhzz/9/EEklPgAuVSYTQkI3GRNR9WR6tDp68KzZLbOiZThnwEtGgHfGk9YSHyxuVDiEqUv8Y+zJt1/wgH4tj8e4WAOkxMnyu2mwZm0OI8nQtqk0iFZTlXkL5IECWWcnFXIKYTkd0RnxGXYfX+pOVUZP9YLHC17RVUjPwcotu6O9j7+4o3M8yBfEbk5QFllt0AmYAAAEEQZv9SahBbJlMCG///qeEAAAtWUDvrsgDmGGJbX8O+4E0aKydCnhRvT+m1YcoTK2fYIh0Hevu8WZlP9kwvjVeyd0GmhJJjUYrjNeliMgqanznJsiyXnPKPPNfuMm8/uSdH4qbrDQP1O0Hhbr6BEhHJoRnzhaPA56loT+hMt59J9djrJF9Z5ZDX3vlTpvE5ZJfqVX5Se7wq+QcBsGNzxOFJhmV25NtfGl5KDOnYNrTE1kgZjH1UA5mu1ts57g6DZSS6XmwIPxGNyM9zITpZTJOcZT+5up8JjZFYGz/7sjkHlxfgaxqYAKraX0K0gvG40qwlYy/U9GOpEmSDlWkiXfGRwhwxcEAAACsQZ4bRRUsK/8POg3TAudxYsIyOELv4lBpAJgzMh1WvHbVlWh305pzQ/ShtbCPGJ7w4L4fJGQBVKc+yzk2lYg/iH8cGfIqK8Jr2cGNIIXJ0z8+oiD4lXupbs7oQJ0baB0KDGTto2+2pYk/kLBgp8H+nXlenwgSsdvaMHDmiyi2ohybQPn0xF04+i/z2ZwZ9gKVh9OgVpA6YEkijHfthtlRohirjh616egRnS+FbAAAAHQBnjp0Qn8Bo/OXtqjEmGW62ehm4EQWtltJ5bBbe9GMiwZQDVkIaWABM8OEUk7Yz3dRaWWRgyumSXAbo3OO/YB2UMzA7NMgGyCrIFhxjenjYvPut0OOAhuRv81aMtiNnY/3t/234DJ7dGglJondRvEpSZbl7QAAAJMBnjxqQn8BpHjX3WjLTL1CHPP/38PqJIHNeKT6K6M6GwGdr1h38ACY2vAYpjfMxC6wL5cH9S4ujqymIhGcHHDuBxYyJV0FDgWCXrnwsFtSyHMSS/jJBs+jzC1EkEAi+J7osIHz779rJTwgbIQ8gdf+mT0FLdQH+ojUyfd/5hCzhXT/Fc7/u3RnwYgpZN7rC54AxYEAAADtQZohSahBbJlMCG///qeEAAAtnMu0c3lD0I0REWtfTIns8AUkSCx1yYu7hlonQ7QA2lbFNNF6tRdh1ngbAlp/kgU8Jz3sHmhj+41piu9jSjbnUK8ac8SmtLeRCCkagLlcJF4a3CPraXTe39WCO/Rgti/udzQz3pqaBC+JOPUAmh2I7U6fKqYB4UKVDR6eH2QX8I4e9Pmzx3Yb0k/c8quOjvfk63x/JJ4qi0cxpZ5qtt4PeU9B8eZY7eZ5SUfpSgM4LcrqzBZoxJMFY5idKhbvRehrTZiMJxb3wcY9kJHjPMb0k3Fis7ubd4UBoHzAAAAAnkGeX0UVLCv/DzoN0wLncWLCMjhC7+JQaQCYMzIdVq/4fXMuBQl0niGcf5mrhX3DACZlO8t6HqFLqKdrf33YAE6qNxD7wbd8xGoxh8uQXRGhrCGPLhf4azt00yqJCdq4R4wx9WV8bhWolVOaN+Y4IVD+b4/St4YOZLsK/FD2gfPyhCLXAfh7Ivdp4OS4+7xlPFrT+F7w2fIISfWi8CDgAAAAkwGefnRCfwGj85e2qMSYZbrZ6GbgRBap5FddJuuS5F/vku5OnbvpEAHio4VOIbtrO9Wv4eZr9iK4/WOcPrT/GND4alEZrBa4qtbgppzwN90ZZhnRogrwign6I/WC5qD4oQ4TAoFxPNavBJG9p5j3VDGbzMF+s3nsXxo+ge1Y35wxtYUGQleFBWi2VBMxcK7brOoMqQAAAHwBnmBqQn8BpHjX3WjLTL1CHPP/37qFL8tRdd7GyaYzyXBSd/e90O4QAfh4S6hyfRIZL5Pow5uvrRsiX7dRp1z0IRS5Rc0xGoHmEj8UXta9hG69KWbHynac1H91cAR7z0aa4RYxk/VWPIRoip1FRkov0YjPrdpcaRm+5/PSAAABVEGaZUmoQWyZTAhv//6nhAAAENTBwAzlABcjIvGHG3hAQurVwJEdzPY9Pozen3JwXxtAFP7v+7GESzTD31sDEjCWMsf6fGcypGv3jNe/J1d9mqM/+UU2N/hXtFT6BjhicSTcmtvyDEQiDU75zjLmzPwv751Uvil6a38fC60ZoqniD+0ze9xQTOvz7aUIhPpFxsO4V6d43KtfS2k2l0LTCUF/fC6TYZeB8owurXxJCOBw5mPL+iHMSDpmO/teX5gyI61YT3jFkgdMCWvfHp6KGulwM0zJQTzga6qD6385VSoK2fkdgwk9tpcanxvxUrdPjGVp4Wq8wn7+jQA06w0cr5KKjoyh2o5/UybGnnOgdddVa2hzCJgvHU4wBFDqO+6OxVpN0h2AGFBvu3qNKr2kt/ZYaOkGmHhzeFA7CZG+1Pb0SepSD5Za2RL8ninwN3nkRO9fh6UAAADbQZ6DRRUsK/8POg3TAudxYsIyOELv4lBpAJgzMh1TJlzgXAWJWxtFsa4kLBHwBGEu1upUBNRVIO0uD8wch39iZkPottcxtDVvfsArusaVjKVzSvvhgAXQW44gWILvvusvItMC6bX/8HG2wT4zsAN99aX2VTITDDbICWpAAhT4G5ltXHamtuugwJcLQViOkq0speLfefQMzrjQeQBe4z3yBrHNDlHR5jhFPSV8WC7+lZaYSE5BuDYSdlzIAMSak3/iHDb1U9nUOOT8CKuv1vfbxaVHcNDVUCohiGNAAAAAhQGeonRCfwGj85e2qMSYZbrZ6GbeeuS5A3ec57ikpYwwPpjQA/87mdLJXJz/ZOwQFwX8EaaMydW4uuNgnExAx0jW29jqmU07gx3eGtLRenSGztmy42N/5NF+eClE8pS1mvhfwZJRzYBcAg6sbKperp6nYsr/vY2UJsfW1eZzYbRcMxNZBmUAAACcAZ6kakJ/AaR4191oy0y9Qhzz/98oCm4RUir1puJSRNLfiLXMYAbryuvNE1WnJGCqGenWy7zvDUB72+mvbjxW63lRn19rzRX47SqTn3GfhGWlGsss1UKgS/PKZyb737DI6tZjWDQAivrMr12Mxpto8VukqjM/hp4j0GvV4qWb87Eqs/UBawoD8y1XKghr2Qe/5gMW9ksh3sqsMYIvAAABPUGaqUmoQWyZTAhv//6nhAAAEm6b3J4AJQ+cEm9XpyPJ4PaWW4SrGodFw48KIqwbkOZ3EEwA2uf7xRqt4aPZ8JvpIMXoceG8riSsVnQPEISRObJXfEENc6Vys0+dFfuJIdslPk9hrrkx+b1KmSdIictfp9wMF7WBCPGZKFtQLrlkaMRq8TpVGZO6NZ7yyJKR/uL6Zqn0lWmN80Ny2G53nrbZF+v2ZX96+fUe5V1E8MHEb9B+5HdKuF1rGiCCm+BpBucu7/5R9zxvxBzD9zbTQ2pk6CUG2c70u+S8qrhUGD+jl13vaW4dpbme9btFjji80kZfI3XpAD2K76WAIf/GVsBIhhaJjTo+XN+jO6OOrh5L7mF7WU4UL30Myrs4KCYMsnLwtVBEtqebHBSLDl4pyIdvq/wv5yS78U9+WDPhAAAA2EGex0UVLCv/DzoN0wLncWLCMjhC7+JQaQCYMzIdUzp1nX8xABr6z/eUp8FsK4QYI/TA/TchAXDMiR70U7JcvXyQlN4pS2Ua3nq2X5bHogciAHp7q1XS7sm28z0AKxfj3Fd0ii9cQC79LCi/SnRkcv5ll7ooMmqqSpCp6M0sJ5lPrv6z1IpWO8aSPMu/u4etc2akN1xtroKj6QOsjiVQw2vjNMEUl0fGhnP98wAhwzwOGi3TvhzBpAlD/t1iX7cEJLhLr4F1wpLa4Cc+/VGjqhFWA4j98ODCgQAAAKsBnuZ0Qn8Bo/OXtqjEmGW62ehm3n2Y+UAGs3vEycfGHcpHgED/B8qVVEbzMbCJACnvenwAuKeM6dSucseXACSwgVS+hTNgwEqId7338wYROpMAOvo7jvcdTi0GafWE/9JhnwtIrG/QQhn7qE6FAjzgQ86QQypFNcpi+of8tYVZeyDYmhhZewgONNW9fKv97JKbYcsOZwFsYGLCkQm8WpH07kBpfU4GJK2fVP8AAACcAZ7oakJ/AaR4191oy0y9Qhzz/98rfjJlgAriSHv7ZwEP2ldsSHqOoN4Jbk77mPP23VlydPFb3pWGheEXhE44p5ev120itzHvYWdjG2zqOa1Kf4uqir0CQ967c3U9Wvq6H3bCFYN4omACsxLK4C/SBaGWhnh7a+St3Emq9HvV+6aH+p9t9ChVUdsJx38K37a0ThA8NOcmvMsXQM9IAAABCEGa7UmoQWyZTAhv//6nhAAAEm+RtjsPS009dcwBEzyIa3vo/5PXjkjfGfu56+n6pnnzvAnX2cOw7KDCiQc4PbFM/GF9Ld4h3uEWsF1m65vl+GVd4pwkILxPAT530PLRW93IbHGfexHJpDiCaS2hw63TyI9ukPDRKzazT6lZGrIZ9yFcZC9W003WY1SRoG7Q0nPOBmJpANR7Flq8m31BqNonNtMNG2+t6AfuAr361XcOEeEncbvv5zpF1mqzIaY5wRQMiZLeq9Wm4/HN9Tpn6gam+7IMjIl0cW0owmPG3cnEBPOPCSSoMBvbK2DOguh+WhbtlVzmRoW629BWnn/feqAjDY3RN0QTcQAAALRBnwtFFSwr/w86DdMC53FiwjI4Qu/iUGkAmDMyHVM7Oyui/snAPtpC+VNdFpAADl5uqXctz1PnvAxzAyEIIIxzw17AJOifjqZyp++qrsDgv8x052cuUpiJ4vFvd2xCMFECLj5HVv/ibhQvLwv4axhoC2WY10EnoktjAZG4UoWKPbrtutTKXm8V2K+lFTA9sazET+7bUHzCXx+ppHaAqjW7djVadgqm4cZ2WNjsNZiXKJu1BdwAAACvAZ8qdEJ/AaPzl7aoxJhlutnoZt6JcT4AcqpZfvPudfg1tXyrrGt6FdGGbwFxYeQABjo2XH7Kz+VDo7TtsGSMXb/8618BB5lKkmDtLiqCzIrBx4Ng43m+Bl/wiqlRAdi0s76MhhW+fLlgja1X2JIlKi5YBExyTv6i5Z6KdFe1ANY2kq20CR4gW3SEFoUBJDLCkyXLlEueCgwrQ2AY7UVAlUZ8NEPxoLv7e5l7Fv5FwAAAAIsBnyxqQn8BpHjX3WjLTL1CHPP/3ypbxG2iMx2/IsZOQqf6MVR+vdIADxjNFIVxqoRUnV5Wu/dk5PpNGqG1V3PKrWF2l4GaWcxgNEdhSfAt3EWMjAE16B0c1I3kdtuWWmJXiQoaoM8/DTJII40OBtJ4bbYUmNcdnJ7LHVKbYzw7rX4anCs5J8VT6BgRAAAA80GbMUmoQWyZTAhv//6nhAAAEG/ukQ3hd6Dc1FmVM9wnb25c/T2Wfg1K78KR8uIv+2Cu8Pz1uLvWFEYHyp18aZE/ZoQE1dY8rOv8/b2rNN9xOnOxchWNpU17lbC7BpsZ30fR/KHAizvTdXFLA+SigZ286uRfu8FnbmJ1MKbvMEk8XU5zWcTPEkjicXFl7S7VRPPonGPsIs5eNtCzE/WstQPlnZbPhGBJBQpnTLzGA3C71XJ8GMrqNH1BcE/0HCbN7Ubnl+OEA7vMdUb/bGx8LDLosXM8kMJfX8PlfBawtrJXW1FxfOGK8ULWenea/XqEVlfVgQAAALFBn09FFSwr/w86DdMC53FiwjI4Qu/iUGkAmDMyHVMxKjjrihviJ5NgkCrtHfzZF/hkANo79dYAouGQ+GvKRihcdew26EfhX63lOsXbzu9znxpyC9xZfHy+i4q5l5+UfTEeE+mbcEaWjMtzqLsDzM7Z/4o5olk2IoxBt5WTci91OEk0zqdfruG5aR/rkyuggoGvRv7xBXEZjsys3jJ9/x9AbPSUDZNX4/jxojnGDkYIpoEAAACbAZ9udEJ/AaPzl7aoxJhlutnoZt6AMFYE7HX6gAM16Xv8IhOsokVsYqTGgUpOgtpLgkAn+ABx7P8Tm1lp4Wxpa10K7UWGI79w9G1AAKPsACSybTGDttYXg0ecDaQcAemQu2IOkTiSdtnrTuPSsUK4Ijg0EbMpv7JVFfXK3XF5ybw3ExTiGujckLOOdpFOW1rwjVJNDcLec1GAN6AAAACYAZ9wakJ/AaR4191oy0y9Qhzz/98qW4ednqanLSc2r0y3SoD51SnOWFHATN5Z0UtHn22Appfee+mACnDOVifND2MI6gusRMZr1D8xDGfqLjwBBUeIcTzE0TCRVRtfvqr+P5tYc/tbHT7cCCnpQES5N7M8T0SeWYes3F3z+CwlrHbt5m6/FpTgvYvQ6gQgG7KXW4i7y4CfA+YAAAEsQZt1SahBbJlMCG///qeEAAAQbpvaOb238pyi8wKQhyt//fjCAFtBZlZ8C0E8t6G72qahd7XwVhHeiL0eR+8z2dpo38MfxrAAvOSOQfJtNesJ0qZsnj9+ZUZkzuuFQmZrBj6vUyw/Uw/Q8IoUS8gPODNyJeMLHOXE92Tt0cVslJuduqvkmfa7vc/pjagiddjM+UUZQV9Wxw3vOK/OZuwv2VVvAuo+eCBQuOnM3eHqkuADJQ4RZstgrs8WDGVRtythFz4lL3/3iUz8JtoPlLxR0f26D+WSCxsTcCKGrnvKcHFQWM1KvkWZW8SGL2LF74Dr+XgD1PBbR8KWY1LVxT7juzOtcBaKPwvCPkDJGcij45bdb3Hh8R2tcXRioNuq3939cQ6gtSWCdHEQYYqnAAAAlEGfk0UVLCv/DzoN0wLncWLCMjhC7+JQaQCYMzIdUzEqRPWOwx6DQWxvEpnV8VLjngAOAj5rcNqkjE4s3rIv9cXA3yWG+vh88kyQ9fGkX5a7CwBQJHhdlQkLx3f0yZ/dy0AZVfwPY/QNVtq77MshTEFggsK7nVmo2TAOAptpR7+WltfwMWoPScQaXuLMxXQHd8FgtoAAAACSAZ+ydEJ/AaPzl7aoxJhlutnoZt6AMCGw1Dpqqi1cwoT8IQ8E6VmP2ELCmSI57dHggkbmLL8x9XACrRozztXy/ol3pOjhcWhv7f5eSnVMkR/NDaA9ll22pPC3txZ2BB25GOmuwRPG/9r8Z+WOi24EmpLfbbgwr3UwO7pg/0AbkbIvP/tS8OMwxP1Yvlj/eMuSAb0AAAB+AZ+0akJ/AaR4191oy0y9Qhzz/98qWH3ShHBwj4xT4Vg3UkUbvVb26SdHE3+XO67eWABa6fFFWriPulGrqalOvBWIYunetidKbZmCGryu5rbSvS0AzFlahKCqhxmVlFkJV91vEjgDex/ptKYXvWkOxiS54+6b00KUKp6SvAb9AAAA0UGbuUmoQWyZTAhv//6nhAAABkyM2zpN/wAEHbrkxfruoRz/9MqPjLw5/nmwD+ikrUQpaKPoT6y+40hrzMpZmZnYEEfVWB2XlrDXzCrAfquToDQGPYlujs8qUbd/820aGU8XG0MnH2reyspKYkIE/Vp/ybz99WevzrZjktsNVl/eyWS2afOk/nec8RuKG+jWusqey7Xj843us5sjqGMNPIIhrmaB0Jge5La5v2pZaLeK8+57lWqW2Nmv63NH2qBOOlReG3+/4sJbfcbawtpPRWOkAAAAsEGf10UVLCv/DzoN0wLncWLCMjhC7+JQaQCYMzIdUzEH6/N5Bq5wVKSb9mf4ylabHVwmcALS1AUFTP4XhI+PHHz2iDevbUh0z5LmERxZXVmryZPGV7lden5gE0P71c5REnzQzknY3W6n7C27Lo6qkpIB6K/FIEPt37eP3HGv0C1dpAy/4mFSeoTwOtW4BMQcYZrwvbasJAkWnl2JYXXQO6gxBzY0jmTyiP3iWc2+EhBxAAAAfwGf9nRCfwGj85e2qMSYZbrZ6GbegCJGp0VZnL4ufGE7AC14J32B0VjAzFqz6qVkccGCE2VqjsPobkjGWqzAfu+oAnQt52B/RObLx7jRxMCIINgvMpCLbiTeVEZlh2jSFvPxFbLudVj2F6B9hX6Z7ctp33CqMrCoWul+haOKy0kAAACOAZ/4akJ/AaR4191oy0y9Qhzz/98qWIEzCzH0lFoPVwBX78ULBzaTJw61ejYkBU20AG3Ugk+E6u/I/xg8sDpZpX0xWdf7qNwyqlqze6BUX40fyR7/Qm6S01C6KdFydgKUurXQ0HIYNhdMKWRFtxi4jWuCyo0uR8hvEAfYyGlknljdOiZGuAwWPciKnVGD/AAAAQFBm/1JqEFsmUwIb//+p4QAAAZ3hPKGUdcV5R+fADdkJWMpry855G88sOnds4L4cGtQV4BEXz5xgQeUpbPagNGO0GnR/YLgGb1NkEzj9kLmj+iwv6IW4tziFncm4DUVKZer1K/Lru7e8Kx11g3ULb9KFg/l6uriJrnO02/iINJKiqdbvMcn6O2G9xpYo27G1ILIF3nqu4biuQsYH5WMw8gKTEnwtJ9P9mae7n1JSAXLBN0Qi512byvovAXbAOlGfkAiHta9Ftl7YAgyLQ8Sc0Oge9M+3sIAIgdLpodiGTVwFvX4MXytUq4pO9dWkSfScDwvX/yk65QOh7ZgHZhzn6CvpQAAAIpBnhtFFSwr/w86DdMC53FiwjI4Qu/iUGkAmDMyHVMxB/JK4reUp8AzpCkJRt/HjV0sF6WDw0gbKyqdFux0e5n9HzBH8yL0dL3oqVvTSOZgITJF3xQ7y4b2ikYZk4dYacAqIs4q2Gy7t6muSVxCe2pA5y3En+oSkXXswgSnjM1LDL/qlWXKfDTYI64AAAB4AZ46dEJ/AaPzl7aoxJhlutnoZt6AIlLXns90hAzp0MROOCCkNJG11AHN8/zTQV0hTwdEAH7plZyZfVc8kSpdlcSiaA3PyAiwZZlxVkXaRZDzYptw2XF0AZDQKZSO9tfpivh43UDqqtt5pNmn/q4b+HWSjwfnjBvRAAAAeQGePGpCfwGkeNfdaMtMvUIc8//fKlh9j6HLwydRKno7m7bveBlCGTYvQnYASsadIzbw2/7u/rhdy30xS/NPaR0w9ex/5kn/fCkLgX5FnTSvpZVpYvrLfxIBuaHjngMioUm8YVDO7mrayvP8CIqZuJDOgSACDjGwyoEAAADIQZohSahBbJlMCG///qeEAAAGSb7Dv26GQ1XADPHpE32aff9J6glLBoSACLq+rCvmBrK5uhK9gaWH1nezno8GLNVLopQch8cUap9emE4oieXAcCVnUycDD0wmC9sXsAwmsj0wS+bbEuXmFpAUnXDbeD3bvN3+3TBPzUcwy/Bpr/74444T0pZax8LITzvK6AJ3i/83EaHlOcQgmobtzghX403nHthr0YMZ5OLNYckOjLkWfN4f+SOiL+8h9TIKJPFxrzUt12qXABcAAACZQZ5fRRUsK/8POg3TAudxYsIyOELv4lBpAJgzMh1TMQfDF3Nv4NxXHysGPlsIL0cZGGiS/ggALEZoZiXio9GLwL1abeQC/Zvlbp3M4D3mKuz17jzN3hZLjrIcwpImYPCjRRup2Xk1BScihdIM1mOiFyq8GvaDFXp/oRkZDFT7HRfnIlELZpa/PWrZaRGINdXriglcLJO8zEnAAAAAgwGefnRCfwGj85e2qMSYZbrZ6GbegCJDimIpvBGXpRye863OUAHKlhU/ASNIm9e5Uvn3RACpB+5Q27tlXJs1HbzIfBTzDK5scI/WsvRBxNV8R2jIiOGZ2zCbeJjgveCt5ZKaL++bjzu+CChGpbAsrJnwiL34sRtJG0tJbO/WUMDzHrG9AAAAmAGeYGpCfwGkeNfdaMtMvUIc8//fKlh+WbNIGonpcxRNsGmZ8t4k9pjXUAH4hTACuQQEuwxnFXIL59MYVbnuBe7IqIMGQhWTy/1139oGuLAhg19lrTXp0dyisuB55dkbnfQ7h6z9TF6gi/D/Vt2eT9UhLBHF55Sj9DOHeugLhm9HX/y7EIbTRKg/EkhpVRaRSS4ZOib7kmfMAAABAEGaZUmoQWyZTAhv//6nhAAABk+E8mz7cBykJVNLm9aG5dD4AqAVUTT8sd/0O6C3eiRy/2Zt0UOOYOgPyLwVTPm2rBmjGKiVxu8rMs8qX8G22vmcEYKaI1U+Mcir2o095IofEWwLyM1J1y2o+caJ/7U7Cc021uqO657F+gi7YiniXMlJoxRiCtzfqEQjbrh1VODDKI/mXclHUCq6qY5FQXiiRf1L/VWMyNFJJrFGx62QygfZ/UnOUl8DbL/zl6bF4WeIER4FOi/DYTdpWUqD2z8G/Mh5Nou8TabbkfiS0LDSMC84R9BBOwweYyG9QXCH23/ao56ET8BnkXf+xaZUYx0AAAC0QZ6DRRUsK/8POg3TAudxYsIyOELv4lBpAJgzMh1TMQfEn68rI5WOPncejQex9H6pnrPMx3KQgvk6e5/VrssACaFzmneChXlyX0YjxdomNCjqDMcouzl4LHdh0LCEa4s0yOxFO3ZUjtJ1z0ckBtq3IgkaMAsDwQERYdogmIH0okhsY4LsTHLiQpnZ4IiqqCn9EtnvzG07iLzELSJbqNulQnITGO3MfYh4b97IUL6FX3nimhxwAAAAfwGeonRCfwGj85e2qMSYZbrZ6GbegCJGiNzRSeclhhXhp+NrFEfqKJXDw4APnJEGBwYmMxFLzOKR/4SQVXVaN1TxB4fYa6v/6sj0hSCCpQ8afAY8+X4a56cb26/uESclhxQl8yeZLFH9DMnHbJ79G+uXh23BVzkussLwFNSERMEAAAByAZ6kakJ/AaR4191oy0y9Qhzz/98qWH4stBhwUOX0QEVRTzN48Mp2YZi1witev4ABLvzVlJVeDu0aX0cv4lZYkaOYh35hO5+/i/ClsvRvL0hmLCX1+T0q1sh/w+IxzoOBAfTtFcoRMmqmObTNeWvm+wFxAAABNEGaqUmoQWyZTAhv//6nhAAABk+E8mH93sKII8cGB7oRLANEADmrQCmzDEMuyOW/7tQzkmxTvYTfgYpbQQPb8eXA1Uqh9Qk5NrSopes2OSOxRdkxpirzVS5CVpJ9yM2sXQxX3MRqBb1SfRCQU+QhGhEIXburRXEEghY/BzIZqQuJ1QhaHU3f0FWyXCqf2bsilXMDLaLocESDTd5YCu7vuIvruV//WGZKtBBXWI4OK2aDSYe2i6P9+0b7wfGkHUoAMZF61eBnmBJf+55ZkUv9m8pMtjxkGXlPOQYmgyjfGUt7bhyOBS3MJsksk+CUDoSMuY37+3C+5ZHU7gFe6vXtaNTmsRcEgcbWcOlbDKNdcElmpaZ5s1hpmGZEHRvtzGWZm8KpqwNxd79wRv9xwSbXvtRpSO0JAAAAukGex0UVLCv/DzoN0wLncWLCMjhC7+JQaQCYMzIdUzEHpZ+ISwQU5kHfWkfrMDXDZCAFjs2m0wRcDVvd2cf1CFM62giA9EqVsWwmBu8qQrzXyBwm+alGisIoN8ni5XJU1v7L87CqAix6j3XYDEwd7JPpyB10ocg6MjaazAqfqOoa9uXR3EyGB2mnOz/M2CmNqcczX5B4CM8qWMEjuyrOSKbcjdK7i14bhvKMyNQoOixynbvno7YHNCAIOQAAAHQBnuZ0Qn8Bo/OXtqjEmGW62ehm3oAiNWZMiEmY0+/bqfE69MW+Wx2Mom0597AATW/LLTFBDCidkVst6lE+VKiQifv+32J3uB59MQoJvU/3P+bGr5ZKdhwSkZaliZJP1LVDN+XUYs9vjaZLYgJzAppx8FxAwAAAAJ8BnuhqQn8BpHjX3WjLTL1CHPP/3ypYe6eXfBdl0IlvYvwOmmn4EDzK+uHcAJIpr7O4ei1kvjEDdxuELy9dWa5NFl/DF5R3vgMgm0Zm1SLIJTx5sWTopdaahp8SZBQrBstnWSu6PgOvN04et4oTzLXULjHmA9HEEdkU+j/WqBVvMEa5t5Z67IBXQZDwnHIn7hEFbBVk8eu9bOLyuoY4PSAAAADzQZrrSahBbJlMFEw3//6nhAAABif6HoyYfxLQUXkgGyN7AEMUAlE5P3zmsqpQi7pSx/dKtpwca4ATKcYWpTwP8r/gQXA6xfRlF0ByV72dH9Pv7FHtA5vAtQLfNx/6QMDRVKv4sTtzxG6OPpIAYa2pl6WEF0OpAkw6MWgLtklMP3LSWgxFbZa49LKeu3PFKlfbSftUDdM4SHwi8AhbTxzL7SCyuTP04pogRbQcfAxPf7cM5ATg7MgBjwnTtp34SP7Osy9mDlUmXTmRyk4n1K5+nArR8lJ3hHPTQ9zakx8pA+rxQSibGoLHlLGSXrfpjf3V2S8xAAAAeQGfCmpCfxGwzqYGUlmh9fKAK4bWVOOXqJXl4zRkHAHvRhcEB0FYtyJGNQMA6Rr8pXqzh8hukIAJ1mZxlL7tt6CGPP4iYelHXNNOOuHv2WFM3DGDVRnT70Y0y5PMgRXDWWKV9HwpsI4Zyx/qnL841a6aM1Qb7kBk1JAAAAEOQZsPSeEKUmUwIb/+p4QAAAMCXUYp5H9Aeea+PH24t0wpAIIdrhVPoRDTLHYeN/Wrop6CD4C0YVga/jcQJkvD7fdZw2BY4cnTFuCU49WpAwHjfJrOgiW4cbigK+Nadnr7dd7lwwcNXR2XrzYcBRF3r35lOjp8XuN1R9tRdykuQVl0hvUsS8axXHY3T4qGJYnDedNk9AJwqS0Kz9OJbzm42XyrwY/5u1B/K20XxIf3yvZYUX+cmnpMYAI4VypWXTa39zQwiRCgRaea/NoJaJdHA5dAT312qLWa6L2rKJTsPMnx5094Vo1uOZ3m80kFtzs3xRamr0XcKfniPgtMGv31HyKGD8MJpA5QdVH9aVBAAAAAqEGfLUU0TCv/DzQv0wJLdvJrNRwRbayeWd0KiJ4ZhrxAec1lVSh81Ttir6BSSGPsZtjf7E2ZBOu21mSIAg6naoevBgAB/Qm/v/h8igUKNz7ZA5AtJPPOOsjgeg1814ZaroRM8iT+Ism2PBuQ/BfJe3ZsDmhELSIFUUU5cDu9jH+PDWE4q+rRHcCw95FWXtltgfrzLFxTbXrJ3uMRAnxKhPPVnbaRvNIOqQAAAIUBn0x0Qn8Bo/OXtqjEmGW62ehm3oAg2zuKQIYheXmG456BB2xqO+VhPM4AH4pdeEy+q6bPaoouj4WK5gCn1zjlQ1eO9AP1pipFW4a/XDDCTdzgkohHWoF6um4yzrAhJ9QRvPBIjyiMxXc4+tWLVqvwcGbO6BSdkj78W5JiaRLRuvkGYPSBAAAAYwGfTmpCfwGkeNfdaMtMvUIc8//fKlgR1qetLFzZt55p7yWQ4Ot4AG0C/xzvMneQvatSramwszg/YORmXJOzUA4ASHUkY6gK4zsbbpjIWoTF/Ugr4ZuGsL0ZtcGMpkACq7iFgQAAAN1Bm1NJqEFomUwIb//+p4QAAAYnhPNFO4KdH6WABxq1XsBVtVEQVp6s6utCH5k8GnUHZ0utRHN8vXDD3oUK2nwy0K3sumQYwqu15+MQc5lSmDi/2+1zHGflWdu+msWSqn0JoqzxVcI09NT7dOY/yomNqlfbsrQ51BepxgPfdXyQD+i8l1GT4AO6qumXKySZve51lq4k7XzzZh2oKeX4nxNVjx/c2fIQKRM6cMcbcWDAA9oneyktKGY74y2n04irN1T/e+yscr6GDibXbKd9uvPJYm06pu+uBJMOBQt6QAAAAHxBn3FFESwr/w86DdMC53FiwjI4Qu/iUGkAmDMyHVMxB2d9XhbOnTRnjUelBOBrlJ4Kt4QAfGHSGkVvA9OMkgpI18xcL6xdTnFjRjH8VKgQmqnXK9N88eKuxLKi5pMtn/AHRbbbsdtc/XCkl0y+3AufB/ZIYW3BKi/YSwm4AAAAaAGfkHRCfwGj85e2qMSYZbrZ6GbegCIibuaWZA3ce/M+pRSCYy+XrYgAcAL+uiGOy/4XxgDL629W9JQpi4SFfYrkoVujNqSsvuMn1GoLRfGPKIosKfXQxvO2cDFUJVOeOz8fnUrINgfNAAAAbQGfkmpCfwGkeNfdaMtMvUIc8//fKlgwuz1KAuTLwgG4BdrqO4vAC3jplLNspMfyDbBiguQ23QMDgsQUJY+WAJa0s9R64dqwtdPp6QMw3vR4CQKesQPwhSqJuyaGg+dNBEDOBetwaDlwK54VHdAAAAD+QZuXSahBbJlMCG///qeEAAADAm3IP6mNzeAA1cafk3i24F2DKl+CtNSIz4s8y3zFUtu3BGVUFLFV4B7FvtNtPlbm/ygu7j3J24KpnMRsp2xCmRZN9NU6kH+5LbogIJhF0jDglld7PEfanbXaH9ilNnqPSGyGlNhnw4ntYHk4qoekzhIQfIv2fk2nHb7KOAC3cU48kGmFOVZehLzyJTSyG8JO+d1qXiD5U5dVnXzmVeVpSIK77U3fWtkAx7tjrkJ6J6PdXajI44IYMYeKgHxuIQhA25GqqPYqECeauI22jTvy7HZW9jwDAWCnGlqCnt4UUkkX0OY9zCpiJ/8BlKkAAABuQZ+1RRUsK/8POg3TAudxYsIyOELv4lBpAJgzMh1TMQMNyKtri2JO+kjwDKGombo0vJmKzO7c0BLfm15bvDe2iDraqo5trF7PuADajph2VZr4kyrGvjpcvepSfx337xQhCdIQXKXzDHRz1uoAOmEAAAB8AZ/UdEJ/AaPzl7aoxJhlutnoZt6AINrP+FzpAUfJ4N9T8gAnLAmrArREKxYQgUfWefCS+wk6XPOlLyRcMLA7XGlIkWrye3yXrZ5JAYDcMRaWrZxh2r1nlwpFWohPVfbRfNLntzQs3o0yhkOyuX/VbjrHdOgIew4IVVGDugAAAJYBn9ZqQn8BpHjX3WjLTL1CHPP/3ypYMdIrgYtTYAFonl+DXVvqJ7/24Hxuda5OGnbO3aD77Zq6mIttdlcJHA8A7NITh6LYp+HRpXe7TyUDhB7Wfgzmxag/pn7Bmy/Wy+E4qKgMwtIJnsiwCHPFcMmgj+Tm9OhxVC+Od/bZOFK1w4A4XdMxAW2f65R3u6zNxAlzlnrWYsEAAACtQZvZSahBbJlMFEwr//44QAAAJqI00AR2pJYldLXbdyIfAvyctimffaJzTQZRfC4I2UDC1UKkAjNEkbFVMwrbMox9JcX6vzqqHVwdDC2LsWiYaotutvJ5x+qC5BQ8CTCrDE5yQu9Uf5hO83hnz7fBYEDLBaoouCwjcxGyeboc/a6/tI7hhYSBLQbMmWRiEhxc0gF1FpiD3sdjzV1aS/26Hn9PeIXBgPaTUA4y4CEAAACXAZ/4akJ/EbDOpgZSWaH18oArhtZU45eoleXjNGQL/odLiAEZEPmyh+hP1yEuyAwQUR2Yyk5MCbydb5jfKPxmB63roOd4gynhJfoggdi5sFlyrWeOoRpjs3FH6XglAyihU2pQIg7UcgLg/E5iHsfqAD82j7VO09skAHGP7m1gVZeRYEneqTLXIIP5GDSFngEopoAKDy3BBwAACcpliIIABD/+94G/MstkP6rJcfnnfSyszzzkPHJdia640AAAAwAAAwABR4e1643dg1tJ0AAAGsADpB/BeRgx0CPj5HCOvoBMzMv/4LNUgHBqtALQMEfaWpKtHdSczKZrPyS8Lg2+6z1v8mESxwtmIOtNpXylCDKfomfkV+JDFm96KQVx7v7/gVmjZbjME9ixJ4L8ccP7vJrzfL89t2Fy1ZNsaWIV7V+G4ymeyexkct7+UHzVUEwNx0B9P70gcNGONI7v72UqSltj3oK3M2znzKDnOK85fJstVTJz0NqTxcbbBzMb5vkchRXEXopx/mjji+Pyk3Y67Zx2vNnCqMZIOrEBqg5DikjCNYBKZwKTNwuhDiY/h3V8k7V/tlvKpi9YNhtku1pS84v5N/RDRTU+IXZDhIbXFTamSzhPlBKrem/HyRqO/y+GkcpXWXoUec6R76+c4Tr8ovj81N/FxYOpEoBBFffOmGSMjugwtSrIlkL82NFWtya1+HbR88GGsXjje/i7F784foVpiAI09b80K+3zbe6MpVMjUnkOS+eYv/cainw9DA/YwRmhDv7oIzKny0TH4cFAJdasSlzi45ivAlPydQm13rVkREMl8Ehc29dl8JE+MwgHDFRIB5t69r41Nik0iep49gFfzp1QxptTr1E9asNSoId/acjxxzowF0zYGWUFv9QkuZh1Os37RiyVMud3cSxKHAFSPTc8XKn9vSeBrahL5p27laM2uH4QSzl82J7AH7V/vIaMfDz+8DTXRfY03lK+GYv394H1fFzi/EW6qs5vRnT8TszRWGjrZtfSHkT129mlRGeKnT1NLiHKCyoXXSUmhayuZm1UlGZ3nHALI1CS/Ajd6heA/VHuEXwytn+lhog6Jysd7vU7YYZzpSEjn9+8n88+9wa6ButVCY5x2BvEmDu+O7c4V/9fcb7qqPvcbGd976FxJbo/s9MCfMWGHhHb0I2CWp39sTIaNvn9Opd5PBUCdJZLUWLz51G3Sv0xjudq5siTef83ASxZpgQ/2Xq0bVAGwSeqynxgshNsR+hjQ0MUbwaq1WZ0k5SHG5ZUd9aJe3wrJ6PwUxe1lguvuLul0mRO7AAuw5dDYvkzcBaCVuTbDUHtxMn6PnHlDlV+ZBJCgAFpe5Cjl0vDzoRT/pYMuiPenFsutYjk2pg13hRJwrdQHCKOFyh2QfxL6nufaWlk/7xnv1A0z1mwv+XhsvPIZOH/IBNzqAVpMToiKhe+o2ECQnxnjhIn0Xd4IAK0rfgld/+aumC9kBJFxCCxmqm6tH/vtSyZk5shatbZxokWriFna33OPb6Wjksyh9WOZ5+SccyVcEsfHjUsRbvk5PEYiiPe/bP6uYc3j/SW5XOr5YcRQ73f6bd1bmR51DNLNZlT9pASQyy6okoq228OY9STR4hf+MElxeb5tSkouCYd4HWO5lnha3hihm8uA3QQvwluBs2wGQbbtz6HpLef2tv6HGCByQy1bf+vVJjwN226VvGgS+fweUNyNllFpZoHI37w/VjqPn5v7KZZVcUDCt3xC+3/17IXN4ERvxFBMaPM308NgDOsBcx4YTkrASyN87q1I5tKHMr+4ORBSd+AeZLdgoB0p0TrHfLIb6SMA7av9GlKzp5TDDxvHxFE3+6RPDxnn7KxNOwr5UICcCX98ikL39H4m0lKaa3jsfPd/AWdqeVfSySPFfNgPFdM8QxSfpInDYCcfgLc7PKGmrqR6S9jVwUw4af1mx/rLe7rbAEf1oR+muBtcqdd9ElsWwOXq6JVTVU1lTWdpww1+S+I0G+oSCBzGUYaNDSHN6z0nSRAgXN2+3RE+idCe/Id1pHy1YxfKBdfA6iRQYgNKWgMS4CI0QLXZj31dO91Vah4eekmST2vprF2OQ4BmfqTJFOvx60cuMtb2NIRV74D64nOIDPhufBz/C4uzdiTCb6wOQdtc/XCclnYJoSKCjBBwhLganSIQOf2uJClz+GSmJFizIYD6hAmWPEFeOw42040sJr2oE0wRq1NIKH1wi2Kg/E8Xs3NcIN9FDkNppURG+VDehuk9YRpW9u5acgtbBAW4lgPr6thK1pIUkcSs6ARSxFCay9btwn6vAOQvpFjPgAXA5rtir3ITyC2Y5FvRCjBa/sl3hqPp6awWuzkghBVJaa2igAw9E4z2EH9kaBjKR3Qyyzd+KPWtQrg7ZjluvMXyNmdD8M6jidMVwnJ78+TjHj3xHVmTY89GrkIP5fMdDv+EEyMRVk44moxD8DM5zEbObJGYdwdjPpKL+j8IqoqSYLlwAQrOa0mQq5EFamTKjCXmgVWJ459h99+/mLbNDPOGKKvhnig3E6TJ5HpByYhUfaOdYvkvm9SB1eDIBl1L+ZVtvQmpxIMA4Do+4sBE2q7Mv/7ZKQB+/FRwOfvMAUP+3VSaI+TulRWirFtlw9fXE/VGUMGmJhr2z6K4due3UI8xklueLopwE4CsffV/2/B9Zea/wn3wwlrEt8nB5FVvbOeHKyIBuGCtXAAE1JgWg2a1Q373wbuxX4m3onQdX7X3gMbsGIq9gABsMoy7nS6tph9muoOUNCHHt8nyGhooy1flBnJjGeCNlaxN6mAt8k8vv9l/UH+mjxmP23a0eMGQ9EYOIRZ2bo3/l/KfU7usQod34kjfIFknfQBw6BWD7qN2x71/nbnfwH71IvjydcUTdNUr6KT3GWbkQ2ClSiBlgJYZcBcgZAzYC14Lp6XcI/0KhMgc8FxDCTqR6s4dc48/jn8jN3yTWG1saI5RW6OYej1Dg+RUl+l6xvVqX+k+yvxXAR/JEhtDxN3tZUbFx1r+DuEMXq5AnNu7uf+xcFIQPCGHd8pONdc2EvSZ+vs4FFEANKjKJg4+6jQs3lm3GXoY15AyBEei29elJ9j50Y2JWnUWOyuZ6SDNGUSxbuQSsOxEnZyEDOlXm36T011jvmpBkW/k/pXmuaRbgBZUiYJKZzCsyO51YxImms+UGNUflZ3a0gwtCZZrn4BhQAdYJ3u0CyCAg0M0KP5RURi+Kf5rxAXqCCWHNiVNyBFtCN8qHVuCVthscmy/eHYUQNFfyY2J+S+6sZTlB9Ko6j2nda2jSQ/b3Zrl28jXQl5eUu+160w5QmTrfBSXuozRpXY5SSThO39UFxTUbbJHIpATBXuNvgq23bDKi0+Y0Z2i17iK4t2zSw4LA7FkUEF6jV6u/sIBSA70ZiWoIDI3CCCHX1DwlRG/NiQaGcInW1s5zTqUqGksYFpU77wqRaVdGggwWJx5oLuwPmCnxXcyj7AUhmZW8lurFwdG1UG4vF7ubAL2zytNFK0+bU5enif6Hbloipijk15gAAOYAG0AFVBAAABf0GaJGxDf/6nhAAAAwKj7wluuBcgBxveZytNTR1bLT7PjLP9Yl/9TgqjCCLJk4JcTsUWteIjfs9fG7uNhfVJYHai8kct/NqSXqMlKRfG8Hb0u1Qi7sZg2fU771jdURDS0lfkVIF781GifGXx9/cH6b9U+K1HSinoxXkoc2HLjC6iCZnnoYzN4cO71RSFvjn34iQFbElTYHPPV2lyK53aGfjDErTHeMVLNWayk67p3w0i/KuK8tQIqtq5e9mb1sbog5xFMfV9zTArLM4bmTy9z3GTYCoaZvfe8csk28wcEXPOrufHToy0dk5KnElmTGw+BH9RBD+oa5YLMiX5irrYadxDsg34vBeFKTnMD/IuPuCU80mxlInP9LhxpXmBdIK9wat94ZJwEJepm4Bw2ArN4Knspnj6k9JJnQGt7lv6d0PEoWMCvICW5zuPe4OXv1E9BXqi6WxdsyfZ2IN8i444FOWL6WeolV6ZxBK4nd0DerPWQHPb6X8qLexNrWgPcBJwAAAAtUGeQniFfwAAAwIbITqFTHduyfyEW2/rqbRiZER+IA4AWitdyB9RJxd8+hPUPHZlDJzaNZSwvrX8hJcssTneVebFWZNnXFFO7FpGlQluhMAH5ZVrKQ9vWAxh9VdeU/mLu/6UwRr9VKuRecd52nxiaY7O3STfVA3AB1BViKeMFA8JNZt44sk6mkKZTYBqgEDMwushYlUzBK60/nK/Qg7SLpImyVToRABVeHNmdkYqR87ISICuAi8AAACOAZ5hdEJ/AAADAsSK3WK4XnmbDlvwGb74hOmgC2XI7qMJWglNtwx8Rr+mmcI/DWJpYrWtbIU2OpGgJl3xmr4oTf7le7W29DN0daBX5GssNDuHwRy9jbldbi7QF9It7rLZhm1bvrw16O0/yQoDjQ0SX2KNPmls+eAZK5JYT0hHJXkRbaTjVJQkPfC+YIUh4QAAALsBnmNqQn8AAAMCsspkkXAxRSYAbmnf8vD1oeF8bNpodm25itqEkHCBtxxq/+y7WK3XWurbheduWaVTcPzfXmmPxW5cwc0j5i6ff0dSoKLzedZ1Fib+QH6haA1UvhNjZW7wjJAxKaKq/M3Q3KgcyhaJafSSq4awdiZJmffQLWh/OZTcWTwSgRvoJPqWvFFik7TJpm7GxTyKSS6DrLmHoYLaoObjdCIWKmInCYYg9fSmLDQPfyBDnhyvANmAAAAA6kGaaEmoQWiZTAhv//6nhAAAAwJ/7wluv7eiNF+WsgBxScuFFX2pFIw0aUoJ/wVnvrf2cpRrmzl4VLlld1lU7Ang/tVokZYb//lJC8KgGQ00uTqCSDyTrtYEGn+sTZGrcwyUvnpBc8pIQLyN/Dx7KHCOdGYF+fOuMAhWAlSXwT7p55LXn16HhRKpJfS5FTJj7BPMa6+mDYZeTarGCEy86fNyczb5AEiuByAjleRuTyWN2Tq0uSAx52k5W0a3/2D0R9yvQPZqWSF1ktYsnBgssQrT3OJCMX7Y8xot1t2gVP91ijqCkAEUaAAm4AAAAKtBnoZFESwr/wAAAwH8AdeE9gUf5nrRtSLsP5jOawo/f5gBwZb6L+1GJvmJjuJBnfIQoHFTpdkjJNSNgrekQL0GIXNzCo2rHs/x6IJHLKnYUW/hDflz76/FAUWYQdXhQXJz6bIpBR7I6OB9pXXSBW3iQ0xk5qhp3kQyFdziXFB2Oi77rclg29Ggt3J+WPQEDcGw12By/SCdFHzfEcrWJdtZNUd+Odlq/5PYMqEAAACCAZ6ldEJ/AAADArOjm2fvN5414U/uFIAX+htaH4h86OP79XH5q/tvJeWmd6CZ/ltfcY9GgLR9DduTGCl2McAI32K4AEiSOB5xq26kw+dPyu6G6f5nWpWyM+Q3lM+C0N9+Ymph/766lhozLK3neCAPDK1gPLdTCVFkXkvhMHJSDOzUgAAAAIwBnqdqQn8AAAMCstAgZYvBbFQdSZJwBWmv2tDoJsL0FymmGr1KK2OtHrdPSOTRn5z8roXZf3SOTf8HkUfBRpVLlHLmQn7w+avjh54CXiD3DfwE3Q5ZIEO5RPpduteQMl57BMhwmkTdPNx41dE4HeJumB/AZQDz0aqLfYM0TLj0MwD5FfocH6YKcOOd0QAAAQNBmqxJqEFsmUwIb//+p4QAAAMCWjg2M6FIAv8n0tuIZ5gyQbgnOGM1D3HxQ9lP/nnSEZwKh4OwqZTr5sTK3Jm3xJ/FyIvKUeGlzG5+bqPDE1hXN8Wpf6vdXsgzk7beTQauz62EFgGKmQSDDmHFY9W+OIW8aNH4vSFIHom36GO5A1Un8YDSfxZljzuECoUTpXhBSNyxWs5L7Ldd95I3MxPMpwl4I0er4dFgWGFz0tNMBpzTKrYWcPF9Ut7rx/16f2bgSiOW9T80DGH/v8YqOoeZM0voW6vlHq2XsbiWwBqpWjMgFPd66D8ga3+3RBAjmDcFw5mZ85YgGNDAXtGPxS0U0yW0AAAAqUGeykUVLCv/AAADAeC+XIzgKP6TMg13W2nyuyg+BeSyqcB2Aby1AB6iRDxlJTLFvFiexCq98v5y3Rz7rFquXwkbvhG76ssUcTMEw8mn7SyeCYj4/GifaT/USRfiouXTeZTnH7B4/mOp29yQBy4tZ8YRPl/OvR3qLHK4oCWmSvu5bvjlnFPa2m/iBQJMTR0ihrlxr43349EreMv/ca9i3hD/pROWiuXmD/EAAAB1AZ7pdEJ/AAADAnsI18neLTuGlWtzdS8YfM+6Ebytmh6q2HDTZwAP3AncEHJe0YwrdKmoN4j1RMkW2QAU8r+HpGXcqq35laO+KsQTDdH2/SO4JndBzn2UnjZbJKcp51wxd95+9LlHPnYADDb98qjNlzQsBwcdAAAAgQGe62pCfwAAAwJ9XuN33/2lJyCGyR/eknvR1DDi4gATp27DaEcyilxTwekYDG5uH4kpAufjF3W1sGM2STvLEXpVzD5X05QgclgqtY+5sWuxlz0KZvA75kc2G547t+X0wkVNnOYRP96HaNx9qN15Nz4FrjYGwuvgR4jhEv4NzpwpLwAAALxBmvBJqEFsmUwIb//+p4QAAAMCXdN6/Mxf4ivQHwFqC764tdpFCEzR2oW7MImUGKQqFFVzcx/5cUPLYCq5lyVAUJ6t9Yk8sk2dlzuUQc9ElpQaZAHjwB7aLZWYm0921kzxm7iIWBYPh9g/+Dhv8ARl+rCuldBG9SPLnZJ59YBcQ3rwxAXJlbQEDhJ5VNtT/8sgsJ0UQJAk4JTQ7u5mLyw9447i2FmDX4fzfekOPt1gvTnOqQxX1b5oSsukgQAAAKpBnw5FFSwr/wAAAwHmAi7sYFet4VURIAaRBlvUp+D3S2fmWIlpXBU7LAuvHcIiWmgxaLKejaMK5gfBeUrDeBaGB9ntikMJA63OWj051vezh8xytFzBT/GnqnQE5CpBuK43GcW2ZMo66M4/1f3nysUs7/YatxJ2YgfTUEvnXToRcgaJENanPzOCkGvKQwQUqgdwCrcP0eREm8y290nzBZBRKozFuqwEcPDGgAAAAHgBny10Qn8AAAMCfL9x8jg5cHuThfgHbiXun7MF7nAK+FxG9xxQiGkQ3/vMAD74up1yCD+Y2Cip8G1CzQVJmHidQhLuJg1gA1UCYtt7Pxplu1ssjse91Jo5b7VfMgtTLvRpc/oEVX6Q70kbiFdWroHe9APfAB8WD/AAAABoAZ8vakJ/AAADAmOJzRlAYM1W33xAX+jAIS6oXoqX2EucBmvqjJzNbCkYwt+ROGGzMsJrhj/rlR8mh97eiz4/MsyvAq3GZsV+68InRJkqxJfcmcyTpM3FCJJc3lQL3h3vbSUO+l3gakEAAADyQZs0SahBbJlMCG///qeEAAADAk3Te1EW9ZtrkAibgH0dR/UH6iP4ICABvZpUj+pjaXuhonWzAqIYP/bmManSiR89s6v3pIJ+k5WWrLGV8L5LkzxgJHPrONstbS7Xeg5zoVE/r9JIjOiilOXj63v/Xppz2rRla7lxXxWl+YrDBLx/farjBccvLF2dfypzEmi/HnVxD1e91JVNMTHHXeB6wKuXIqVny4KTN4hU09r6smFySnA4/x1oZ+f75sWVXgZDAf0ZckRJTqEtNDkEptPvNp88w3GcmzE5hQJrXQeY4S8Mnm7pjvzwMmyP0TAmO2Xhi4AAAACXQZ9SRRUsK/8AAAMAvofkYUeT/BaPf4sRmb+Yaj4F1laBTtxsqUIJWVj2yh6Y+E2IzIGwwmzKFsyLkoQancc3boCQnKoX4ON4ezlQxKuvB7Uo/oYtNAgBn8KNLYif/FbzqoyxSRh3gbgd1GZVE6+ZnEYK1kKDxdcnP+Bs/tyicIOeHrwuDOfk0d+GPPIXMGRnxFMDm2dQwAAAAHcBn3F0Qn8AAAMA8xy/Oeo3SSwftC75jugSY1fsAAsEkcoeQ71JEciIncAABFJ681Q8wFr8KDP18xW0Aa6dZnqnkgBxlq0N90wdHivAFiYuVmdvBUDYkONEIgSE8wx1FxxskOqUgMIVNrqTk28OZrZ3wfrSZd6fHQAAAH4Bn3NqQn8AAAMA80kCz1U0AH5E7oPfM5xzWbiVOdqDiYRq/wJ2fa+3+aah5b5DdhC5Nf5O1N8C41Hjg+7et7Cp7sgw4+hYCGOCVhfNPjCVfvyYgkskuDob7asutHD7vJQC9w7R9tksBbvDpG7PVARI1YfMGm3SbzntysxQ2ZkAAAEbQZt4SahBbJlMCG///qeEAAADAOej+wpejThJNHy+AEtSikwnVq2g5AdpCYFF9JW1zqwHdOw85f6EB6Qno9unXcv6hZnciowlFRsU1mHNmrnRXWDZPswRAgasg5qA+9VJr4EUTWnmeQ2KPbHjKgNbobuAVR8/6ooCQ8VZaJtd8R9Mlz6jkdoG6Js1eGhS4ukMlT2qwUNzu2R0B5LS1Th/051KY2E97Pp1KUztViTK5jDfI+iPRXi7u2QIR1zx0FxkDtEKKe5iJS+KHUM8aC+dQw1+t9nmABbbCR4qAOj7TksFks5NT3z6UcXXuu1rpOhmsZZZ3FITaqCwtSEizffr1jlkOWqqsnDD/z9szV9XKZN6mZ+yoJboWwM3QQAAAJZBn5ZFFSwr/wAAAwC/VuRM3YfZuEHyhl/VgckEKos+zA9cDfIhlAAtmuigy0T9nHtdL5f/LRTz0NtAc58o9cmKNrITughPObfnnb6NIqLUVQlVwkhTQUO2NiKMFXTkSYKWpcoo0lCIAA42dllC5TY7N33g7YprQgdfbYQ5KPrva+qp8oB0PwKN0NRnM1CmRHQi/UmcMXgAAACcAZ+1dEJ/AAADAPL+6sWczPu1QWsTo4+5qJN1Z0whm4YNwd3ACaGpy5ke1jkxY+CkB4hPaNWcdOxde0Lw72jm0JQD6ZFsDU+/veMNLjhCH7obv3SsgGAcdGTv/p+uJXMZ2p/kkP2R0TFhjS6y2wbYDzfbUaJb3vLr8o/dsjNp4EjkOJocIbRM3l+4Q49rueLSx9crFkYAOYBxGCXEAAAAhQGft2pCfwAAAwDy9PgJAAdD8cSC3RC5GLvb5yN3gjf5DTYH6V+2eeV5UsR15zT+yFzMp+otvLaIj3/l4a5Jp0VJjbj/pGCpgCAylsClUTGnWoTlsPTcKh+PAaoaS7bXZxuSQx4c5sSQAMsP/gmNlXkoDYmXNuUjpls+4T32YbWnqLFoS8EAAAEHQZu8SahBbJlMCG///qeEAAADAOjwnmSxDI++jBRNPu3NydPBkg0bqIAEUW4BIH8D41KxWvx1cZHAnHHf3o1A80IToHWGLAmZlekNNV/76krh+0NqQbcCArCwyIrY9DCk4ux0tFSIpIbAaGkxvprWzAxpp+IK9zLPiWcGq2Ag/igB8s4MilYIcOXYaMARdrPbvzqJhTsz6lnI6GoA4KcRSsuo0IMm0hLYhnp6Nx5qdjIUYtIWH4XjbaAFaeevkWfHwQytu+n2+IxjtVOrPdcL5rR823TjFITiCNiXgzgkqLn1j61cEC30+S2BXvNDK9G+0J28f5OYLZcID9b/nAyMj8iaFSQyZugAAAC7QZ/aRRUsK/8AAAMAvyybsBwkXpiKgAEQ2D5BbMZjiCP8gnvOs665Ix2JqKe/zLfeD9KHB//Fvgf6wTYmBtwZGDj7ClyW4Oioqa6PHLp/g4PykN537E68oTNZRj3CWytoSqQRtLbk/NkHlR4RNy9u1hYTFBJjIVBWHIKHgACVWezBat2Zy3o2V2CbqQu53+WTcLI9yaKiEMMAQzOCrSSFkh+Q9VIEx+zV+28o86eGAcsAaDgPZvdHpQA44AAAAJcBn/l0Qn8AAAMA82FsXZgYuSzCNqpWejWQzBb2/JGzuY4s5QYdfQAP3WsYJppeFtG1OUYWDXVXpRJV+w+9LAbqN/Mb2iO0B5LHZJfeT7K1VpdqNY5Wi8RbG6LJ5H5RThaJ/FzXYGVjP5oD8hOU49gK4FfgwH38mYf38zxMtIpAQS8jaRaUUpyhHuIeqDrvjtPyehfp1QfNAAAAfwGf+2pCfwAAAwDzA0dehP0hdO6gJhw8ETyetGZVBghGHC/SLwAD8wdfwm6Pf7Xy2UZNMdDCevR7rVbcDcFcO3uwk/g0V5BzAGZroZUf/wg6ahCpaCH8ujDwuNQtmgaqlwUNvGf7/88ghfYGkidEQnoaAH3tPAuoqNbkHZGLFJAAAAD1QZv+SahBbJlMFEw3//6nhAAAAwDd8J5oq84VCubTDiYz/druDpMwLybbrVNmo+WAA/ejLuBc5E0xx30rRJoyMLwXF12dK/ZlD9rAAve8spi5rASMJZAa9pCdVIAc2rXqFdQV3TIyW1na/y8AHX4nGEDjtqLpyc5yAS8QR255qZ/7SiUXb8udQrRGdFewyME3PSE6KPYcOidwzbMwpKKhHIo/lMQVZwGfTwECcv0SKyAJxpX0+mZ7G2kXmRDTbnZtX7CTbPGm0Z9u1J7dxe+JPurxSbkaQPpcUK5n/HXSaeYDRXU5ia3pMmTZmmjGTrLe/pChpVsAAACCAZ4dakJ/AAADAF0kJvNppPKliIxNAgzwkAHh4fNakrgO1WopIwI/fQNTavgHY5L2cjnYqlP0uvZDY6Irg7tHK4mWZViG8nlUaDWKioC24lNz3K7YUa6udW72y6cqJo4KuvVF1NasudbA+9KO3FYAQH5HzeTHypFQAPRHe/q3OSqimwAAATtBmgJJ4QpSZTAhv/6nhAAAAwBYf+z21HZAELQxQ4TgCcRdWzhRFcN+kZANFSGSKLD65Oe0TatbiW0ttcjDquVr16amDWUs+WlxiYPMDgWJQBRCBLhZPS7iyweGQy0+wCv0/uHZlFnGnCIG5CX68iuL/aZhCvPghU53w99Yh9FTuoS0rH0LfAL/6gEH3QwQr3DVYL6bQ0EvPECWnGuHJyZH/VS9F1VbYDPaufWchgKh+/vu2OgGNjrkRaAXYYNyvI4IUQHXYxHKfGLbgLhu7WWQA0lTy+baEqt+gr14n8a9aLr8/pCQQJP7o6HZijgXF7s938l7ty2om84VhIB4LN1hTWfj2uj4p7SOOSTRfoHM9+uUC4FeJHr/BFh3cHsqI+f1WX5yBYM5abw7KcHNW7yeoggLaaFSMQyVmhAAAAC/QZ4gRTRMK/8AAAMAR0Yv30ZSQmbxZExACZRW4l3npzXTjDdC02bleeASwD6bHVWZohIVvtHV/cvrtBeQuh6EhoGnMcgpq55Dn9D+BVEPTMuPj77urRI8DC9y7tTvuSaSUWxQcXUNKFMnv599KCK2MS1Kaku0p8qCtTJc0QgddNnbh4yrEHtWGjn2UE/zxQx2edJRL9Kh1kjNxKaet4tRlfqWR9OWDb1XQZ6imbfBE4tsgQ/S42sQtlVPyepM4wsAAACZAZ5fdEJ/AAADAFzv/y/2ngbGk6a7jMcjPKSAEh+opSCK+l0yvtzG/4Ul1ntCWUJCSoK80o1c7L6+xXFJ3/YKZg/gxC1HXfXd+8OfAD4gaigRoXsIi0q/RuWRjQIIozasmQ/G4HVphtUyoJ2WGSuW4FFQFeaIKZGTVely7XbcMTue+GXQEU2OIDweS3vCmmGvNE0oCWCmWE8fAAAAfgGeQWpCfwAAAwBdI+1Zzf1zvFTGVwioYi2ChPrTOicxnJpzbwAATnqL2VrGbazV24tntrScBqY5PUd0W7yfnmD+U1JNbuBf3bW+6bsTMvQAJSXqlStqG/WT4TrGl74VGDmklwWlyLZ2AyWJH023pXA82DkxUuL9XVvw7NjAgQAAARJBmkZJqEFomUwIb//+p4QAAAMAWP+j6F7vWYJOxlmz4tiYVRnAs5HDe2zw3VzrQ0BkVZIibYHlqE7RN7ErdLf6zOLiUdYEf/M8bKSMu5e9mWa05GoMIEvTq7Fu7dniveMb73xjfkB1WMcmoCIXoMqlH3nethXMz2/LFAQ4tLagFbdYVTTF5ANj3PAA1bFMlpH1N6+uH61CP0PkbBWKEIcKxZEjOulVK/gstPvUQVsVNq/zZ99fGbBbpW4PgLe4oRtv0jzMrqtnk4FikDNBq0RTlo3IPN8rY/21U9YvnHkWIleOmN+GPHmgxYZ7Mns9J47u+jD6YcBBWWDNX72qGQMLqw69ammVd46gDvA5jsGm7PifAAAAsEGeZEURLCv/AAADAEdgHdiIAAjHMB6tw+VZo/qwK/q8ROGMDLvqwFpMEgAmPoDCfHdUSyluCHES5e8GJBDBXSoKjNDJD/q0llb8c5enlrFbJZXh2I5jFB20pEFghXPZnNaBshJS8G2HbI4PepwhK9byNUO9+J9dmv3bjCSQTvtVqwzRT+5L0qnQ8tjs/u5vXduB4lSUGG02mZd+T6GTd/MDH2H3rxs00pkVoP/Kow2fAAAAiAGeg3RCfwAAAwBdMJTYu/S7UEMIO5lXVPr9SiQkbVfuOt7KgBpRepZ8uwRGL6xgAtTMltwSXCSaHzaAZ6kFicBtkibuQJQw6MUrDa5sexchT/ux4ixIW2AIa5ODCGicuT/jdyq+hygLVkE5OuyHmsu7Wrv/Y/5U1kaF0TeWYieMv8DxZOhFlggAAACTAZ6FakJ/AAADAF079SISvlNl68LKxzQSh7bQt/UIGRBwe+yGR0hOLW3gBDt5E4mvKbYTadMbUODefwi4XvDuAM8bjaHGGeNx07ejj/IUjoAhBuOqwMVyNlzRZ6qPgDCG2/+KE/t6Esn1SDj/G22y4xcQAsqWELaEaGOCBkewin/iOVrhbYSHKl6YasBT1T2jKWCBAAABOUGaikmoQWyZTAhv//6nhAAAAwBWuZdo5vbejfXvel4AH8kJ1/P/EhrnKCwKKY5Q6Gy9+p1R+duvuhN7sqx1fSFVd2Eg+oilVypw3eqv1X6eNVasXB9tXywGCAb6eOWChrnhi4H1Gfp9COL//v/nUR0dqlRBAbwvP6acu4whIaa7ut1CmuLt8dD+NkvrvyIpWGIFKxoNFMpiiPSZoKPpHfzU8hKDAlH742BD8nfI7VFqdU4P3g+VSmLwpKDKKEJVN8kGeMjiVENPQyQYdk34kbN0znDzqIx7B+Os17LrJKcMNvzXamKtt83p9rJ6eTc+ydLX0hZBsfAmCvLtBFa1pJ/GlcQ4nsDyXYsmr7hSsqsReCuiCSr7NF/dPT72TZcB814jg0gAL0IOIKa6twgmtsV0BWZcROmBwNMAAACkQZ6oRRUsK/8AAAMARWQnosJkRoJgJlbSEYzPdafrUJTjiQFza8TXER8eTYQAlkXHlBKUxTCcKXUT/7n7xjcwd8Asf1awZBYo/SNu7HXnJHZ2T2YU53yBY3L/TlZx1+kafydYdGbpajkCxZXVwTNNew9VJi7yDki5r81/AU7qEkQHKUowS+0nwC1jOEFzP/sZf0dk27+V7iAxzqXn0UyZ1AbqY28AAACBAZ7HdEJ/AAADAFrRTznvOOD0DThaACdsmRGL1J5J9FjhYGBMEM0fOaV+EqKse7ZrvUuTCrf1jR8IyRvDL+AI6LeCLoCN3D30bnNQb2TDr/lZQIumCBTkuLzOZgixAta+homRoiE2qMGHgcZXJ8S0x/fjk6+tbTvMMB5VGW9fdR/gAAAAdgGeyWpCfwAAAwAipebFJrn9GqHGeuvUk70x7QAdkEMjrs6UU85PAjQ6hmM4SuLxlkOiyves9uXQ4ZpZy0ja4F1Q7pzH2dwyPyMiAfe43ZWz1rACq8jc8tlarypgJxt+XFM14u8703IjEBdoSwrL7/pXj4oSrYEAAADxQZrOSahBbJlMCG///qeEAAADACCdsVnlYYAbgPcjPk5BxcSMxeDAd9QBEypfU0mFgY59ZwbO7fBcg1cxBhlaJszCBsgSDAbfNgze7gmAWupd9ioYLJB4tIJyhIl+vIYcgOWqn36dDeyCRGQYaFVHUBj4eiiafbYvGKK1wrz6p2jb9/Yb+bidav9iFeVK/KmWk/uUBmaNvT7aWrRWxkgH8eWk0Qwv99cOT9xYrmTTXy27njVOBAXmUslBghF/Wvci5WuoSGOMJqMhxKTWQ8ueP6HjidcN/YON8DfQeJp4R4xWK7Tu8qsnPKdUOAU74mlZQQAAAH5BnuxFFSwr/wAAAwAdCvhMC8g0bmZwtTdgUlka+JkuQNM6naneWeGAATiFj0Z2Wxek8i9G5iV8BxgIb/9Y/NFS2Sb1Gs7yE1cSV4SSikaWjuW6BYMlwFzUwxfwSwIn7q59pl2D7NeWpwyXTbS/jrqG+2K+0BuK3T9YDy9ljF8AAACVAZ8LdEJ/AAADACKl6Ga43bfhjMgJ8hUAA9tiLRLg/2pE0bc05s6tS5rty0EmjBl7qH0HNbNWEhO6/8Q3HcPV+LAXG4QrilSFMGWU8PtQ/gNp8qTMCJcUtA2anFw4IfggrjE3Jz+D3Q1Z5PqeGJ0VtkLgXLXRbkbF8IT3HC9K9cUlueDiyPsThYEcJ+w8Sbnv3ee3l20AAABoAZ8NakJ/AAADACK+JulB4RSDCLACpfda5R1HPv//iEceOm5i95vgudAEMwrt7w6DUwcxPjeftt+zuyJiufrxkDR02uybdx1YvePaw/8hBgx8pffXH00j2HanfH+zZcILxMK3oBYLu2AAAAElQZsRSahBbJlMCG///qeEAAADACHdN6/bwjSFdK3h8BiqebyNkUb1xpaby2uaWaNh8JlCE4Pie9ep2kqC+SYts+TndCCZQe71HnKUyuCcr56MCHKvK0Tn5iAkfHeQYPanPEK+xDQi9EoZTpOY/pEdNXxIJ1yb45rBeMjY3zMP7DeMSxpuLF0WannJ2DzQaQC0xi0GOS5JxpnB0YyrKGRdwJQpMyokLYuOjg6+mEtQKOdNDj9Q1vK1M8iUjPtx9ZDfbHaHmz5SzXo4AhOZmP3EUfZWzmCah1Fj7GBAncxr3dy29jAlsGk2IL/eG8QpKt/+qV3ymN1aXMq9g3Vshm/cId2s7W+LTYTRdUc195znXu2jG1SmNId2Qnxj74FAKSftpsE0rKAAAABkQZ8vRRUsK/8AAAMAHQr4YG+11eJY9UDXnM0yJ3EuJ123jup1CJW/9iwF66FZzkTxV3oHfPZdwKQCpwAg73Lkaps25sB4OgISIP3/EhkbWTbd6w4m4b15OFgLixNvH5UqbR5egQAAAH0Bn1BqQn8AAAMAIj98tgGO8eVxn2ZczQboACAr3t9AJvAbRwFfmQrN5YqEfXOcT+IWvcWPW7ijWeIK5yGaZxpw8KD3gNJK4WqgWf9CT2/+aOzH79uqIVihCeFbazWEseFltKPcxwchaWaVk48Q7x4EXTF8Zci0gsIIQtnBUAAAATBBm1VJqEFsmUwIb//+p4QAAAMAIN/dMLnGmZKt0KdRNsMP8CSw0TgFAp91KDRQeqQZICbOxLyzUPjvGX2I1sFWPFC053hv1zEMON9IC2XiBLnfEMf3CmZRDiMyvAlmPJhtIi5ogRx7eM90l4YfO/lGS5+/Uym980tdjyQAsZkl4b/poX6YaXTLFtl3g6Fw/shjaCIJv99gAZTd2m+BriQRDxvH7uczv3VPyyBLNhwZfgJvKSvUv92RL+hFjNtjMQUTe0FKgAABEP+nQXOwBc/cym8A587/ezRn2aoQarIQzIwVPLCcKtcNHUbMlfH/RXcYD2q++1tusT+BokiQQp+xKdThpH4U2/9TzIv813m/cvOppdhuqD39WpaD3gWl1JT53wvzSfATy2KktGxlTSsoAAAAjUGfc0UVLCv/AAADAB0K+MQ2XF2TJnhtzNm1zXDt05aFR4zwAEpGUMz3zjCWeF92kmew0ZqTDIkRjC/E6V1hyWwcfgSvbwFomtepyHGvWCnXGn/GFjsSXLzFgHCZZ4XycrF9TFzY0VDU9FdHJTRVAEDpR6/iavDanJw7dkFEo7mCxTx/irzvM4bDcN5egQAAAHEBn5J0Qn8AAAMAIqvojlZeCEczSGF3/n/hvhUAGdYSpzWDwpOmzJ2KWe0xsVAk1GU2g/7va1vk9NLe6VHeS4CSOh7sCwnGDlzpyXfQFsCpuwihsGgkUjgNbv9EZtK2te5Ue5CLNzLUOrOfycNcyYQdJQAAAG8Bn5RqQn8AAAMAIrEYibz600ANwxyrz3M277n3RSf/qbOXs4jFQasqwrpkVfD0gZP05WnEt9zOfL68Wg/hTh/GmUfYcya/Eb2qGghUNG6J4ApGP2+IOf+PwJ2etz5gGJKqZqOJVbUtIJI01Cgej00AAAD+QZuZSahBbJlMCG///qeEAAADACDdN7UQed9a7im1GAK1rRyDvKg2mLIPNqGtT13Jc4MCBnOdv5tschP9jqgQciWK0caUSNqyDoYwmEqoq4SEP4hvdI0wXO1DOvKVR7u2UlxqUVYHc4Amjmi+W4PPlTETehVOoBpXj7rjEeMoKqOtvL0FRuXxeiGNo60Qr/bIWkD9I9UwXWcn2hcc1fZJF0l2gSiScl6cC4HhL+4J8g7WvRnS8yteHeVP5Zb1gtYhyl/0l15r7n4yryIPfvrNHtms6vHowjGgKlBq+6LsotNelfV+jgtza3/UZSefZD//09GYd3l7dOinaRfIp1cAAACNQZ+3RRUsK/8AAAMAHQr4ySDFbqrXtoAiOJ27dXDwiauGAtwWSd+ptl4uyNloQHGq3nvgSrJ625a7i7ftYcpNxOo7RPJWtPNHN+ibo+uvCfMv7iiJgYP0FrfQxp6N/T8AxCCe3ewPBNbNmoD0NNfAMpINZOTqMOR+/Tce6FvJXKH13rJYuGBHHUBHHhYCAAAAXwGf1nRCfwAAAwANd8fzAdlpgHDcc7byDpSxkAUw7CwzOKsK8qF8zlDGUP8X33rdW189ZXY9yxJ9ZcCqJgsBaSyLgCMnlbkdD/isXY4aV+7liROEW/u1HWI/xQUuLDuBAAAAcwGf2GpCfwAAAwANfJ9P23xkww11gwkud3CxgATnDeH90uLKzqs2IfZBJjnrVh084SPLmQbucbE4t+Xvk/N/yK3IrRZpaUqqtn58fAgIgAM5D6oWgShZuaV00KSqSz191V24HgKmwM6Hwm0f3YLZa8eRC/4AAAFFQZvdSahBbJlMCG///qeEAAADACW0K3kmnL0v4SYEwAG1Wm+0SbI3o5nJWhouQ8F19/OsDFEf7KDiXuh/RO+EzVEoplGrG5BnIZrybMIAVslT9t4wNHxGWiSPyP6YI9tNVy7VWSG6QQ8JCLnvmfGw7D2A+m1ZudcNaXi9xR8PlfnIMPNbbbdLw6pgJFhKV53DW6AQeyOo7nbhWt6z3dch0naD8cBltgA2bQGXt4wuYcOxoWb7/DFl5e06EEkf0LDNgT2+WsQovUswX/Kht6+etQZbtSooL0AKC2fxQic1wv6J+R0unzK3sqXsmQKJRcUXPb821o++03Cgekmo3FekRVugBOJUwTg0w+nRU4zLDtYz+ZwlGXLTPmaXhO5Feago4k8Cjw+sh7A3ZM94+RGf+WcmQX0sWFJRA8ln5jxHWv+O3fBKtgAAAIZBn/tFFSwr/wAAAwAdCvjJIQcZTmxBRCsoInTuAeOpGSd1yJcRrLEIKsX1FDWaPMp7ktal8AB0NVPbZxOd34ivCztmGe2L6NrM2FXRaEcuUaYob1zV0nuZqxG/0Y+GsGkDbP8VYIX1NvAZJ4sUlfnFzII2TPzUEGYyZGB64RKiqNIP8cg44QAAAF8Bnhp0Qn8AAAMADYQWkXc16gA/I6Sop+4YxQO1NEATY1u96NFJESMYX41HFPWWx9ROimwjYbA37yASEUoQZ77aew5j1PaKkTPsIdiwfGuUOiEUZ1zgJV8i9/uaxyTxwAAAAG0BnhxqQn8AAAMADdO5ciKpAeLra1YqSu+PCACatF0H5sNQwV0qa+xIAsBoMTCRNj5cuNFAbsEjjv/hHbmdMXZBbIeRwg18kzpdUTiBHiNZckv18qMboGOtRL2GbuyDP9Y49ju94uZMt4NmVVdTAAABoEGaAUmoQWyZTAhv//6nhAAAAwAkpfNwByuuIn77m4kjSdH05jJL7kesyRVhj791p0e486HQEebm/LRmvF/Z93AA6s5HjLNR5e0j60NfoRwXNoe3avDtqSjloX+4cSYq0CdUAAva/1XBUtYDSPJ4/nIvAkoBCZVwpTXDJxIakESMr3jVZSEn7dGnifzMg4Q7HY+V5TFde4ivwb/waiz4pFjDKqSlCq/wpsw/9eZkpBp7oS4ixA9b45yfcsRHnoItEm8ZeydgEpXFBhwOJd63DqverFFjdwelAaIreSreh54h74qgQyBdZiTw5jruSnOhhd4ocnafW9irGklez8fJjl7MaPVWzNB2wMoG84qzPzklT1TvRDvI1tjOCfQrig8E+Q7R4hYujVP4cjW4UTg03Wzw2Ywpr7G5elhRI0HCIwWY9w4mdtr5t+yfWghN3gyio3qFAYh44zMe6QFg+TOcc67ckudORFS0rDpZNgteAqy62TmznhndJpfr5WEX8comt9XXTJLTbuXTF0+6yyTOtWYIjlSrKV7msE/WPGyZo2cpAAAAekGeP0UVLCv/AAADABiCGOaFF0D5MeIwHYuyAFvCWvqI1Xjyc3Db5Zpf6Jr1o3AtftAJiKCn/N4L5HjRH12Pm9FjDzdbz9bymRxfg5DBR73xqcPmsOBtB+nE9rGloNOHBJgBT35of6M4QHVX3ra2GdGGTEEFQOVq6BRgAAAAhAGeXnRCfwAAAwAOND/gCJjplIXrfxZD3MliNGCyZLts+/NbwbNowsXM4PGQNN53Ck73xxAwBffe4eebIJBYDN6pKIoB0PeBJCW44iNkTFOF14hNjhSeriMRvxM7qPcipvfT3+dnNpPo2AzFuRcrRgIcUW61I0zUcJ6nIeo3jC9bLbtmSQAAAF4BnkBqQn8AAAMAD4vAWsbcKhfX/4lMADix8BIPPGjzVfTrUQP5f5ca9h4bFvMozMrvNBUp0AfN0ZojdCNEX2n0IICQsI4T5KRuqTAgeqrxpfHjBjC4juJCegUeQ8s+AAABK0GaRUmoQWyZTAhv//6nhAAAAwANzag5Pith207hAFA7RJ//n9tdTlPpGWunoIUmA/D5R0NXeTrsb0w028vta+d//h2PVZ+HHpLBrrc2Bo2uR1e0NVKo8kjO3HKbc1emNXPkOiOfoMk2R6m/4dkl9a3FvrFemBy1q9wZgPWayHkw5fQh7KA3xryV0KL4dd8YTYPjm5uUXyHoe/8WsP5zu9/6fRSg18aaXuO/gxwV+rmkMtAGjJBcGctg0s5XLA5Q/o0IQU6rLAilg66Niv3XiyKZ/sOU8BTNKiKVR2cFD9P//ShFf0SJwAIkMIZ9LBQeQsVNWA31J2Ss8EF4VUU3NdnHysCRUJQUjU5V30eqvg64aCF+WCf74kpohyk7hDMFCMWeJ7ZHKQq96wmBAAAAkUGeY0UVLCv/AAADAAxFhKsDltUGgA5w/81cWQ3f9UqEIp6g68UawsOzCzOzKqqgO0riSdq8ZMY2tgVOoATa/sPNn78Oodkr9ZdRVgEAX2cdg/FpcdXlJsGKd6XbIiu8bC+byA7U2wVN4se4cG9X/S5RX47BHCYgZlLRpzD/QOPXbPV7TYcJjmTI5NJUa8y8Rx0AAACGAZ6CdEJ/AAADAA+GpZAmo/ACEq1v+Jhmq+kTZvz7uQdv8n/7n75o3N0K+3NzXBEkNF2Ekg41+r1xKZkNxIJDqtT0mpUcZ7/z/NL/9myods6J3AZ2AdIDd/qlYlePGTQRJYdu1B83bcJmLWz9DACMG48JYiO1D6/C7Ma+yOYG1zkkmutihqQAAACFAZ6EakJ/AAADAA+Ui6AHQIa9VD610fPPWQFriInSHAY5u0bhYmGwPUc3a6+1bwbZYSfSNKCHrjj4kWWTW++HdNIHV0+F9rOyv2HBf0m2FEQfpbrYuzHp+Ro6haaa/mnymguI0bIzYSaCEaa++SsUsGKnvMOliBl0M8C0w+2Df1f7OV/58AAAAThBmolJqEFsmUwIb//+p4QAAAMAJbPiFIAvQhPOKkIQByi/I5baOdK9wZLXIF8iyhL2/6g9/cjGfv8mPhN62sl0qXa8qEkg3ltLD17jHfur4GTb88o/bc2Nn/mwYtCIoE7A7EuZHoOJMUsAaTzn2tlH3M9OjCAP8XfcDkLreL6JwZQMyYyQ97hZk1MjdMHbrmUV1RjZSzvdJkBsP9Aa3SfKHNzLT70z5u5pvTqe0LIp6LJIkrK6ymGZ/zYuWXr0rgF08GaFkj7pLdpintP/s+1w3rcGNmKg/Sj7xXrG4A8gYyHHqMn1i0p69IV5TuWR71KE/r45c9Lx/m6du78vI3aueiRoliSDKe4hZ28lQLpbRRtNp94bYafVjPAYLmHC4EZCF+EL017tAbVQxnbRuizGzXcsOF6AEYEAAABRQZ6nRRUsK/8AAAMADEWEzsKsH2HCTdU/o0nrAB/FdTAM1PUrdhd60zyzyuDc39f7ApA7zuptz+DhE6gqGlj1UyPV75su5JkkKUHj+cbbmnHAAAAAYgGexnRCfwAAAwAPhr6cjYbE2STbE6zewByige8Ik/2HOVuepJhgKl8NKed27oPkYSF6zlWHEpYfRiK//y87mU8FsPfGyDwxDLLLGwa/LlkauZN1Yom55xMLhXIp9F6hEZSBAAAAPQGeyGpCfwAAAwAPi80fLSxPJzQByYalLDhX5ZCXSOpYMecmji6P5Z0F0yMkm48vUkZZ8pvlk66DtrQIXTgAAADXQZrNSahBbJlMCG///qeEAAADACWz4C4A4x3p8rAogBpCnvS9/0y7enEpH80tmOUxD8ioz62zRyAHpTtg66IXVLIZAZlRg4m0h7x/3RA55OEVOZ4bBRvufs8fVjdiQB4OotA8WcoRYJugtmph6G6/wd+xQJGMQqieN6nB+Bt53g6dZa/pzyw8aWYaxGOkP1JuCUwV8c7alPpfhenQ3lZejgOaVhpTDIAjTS/r3emAK+4nNUu3A3eI6jFa648ueyr1A7Wj1koPJMiCMKESZX/SHHd2Cl+dW0EAAAA0QZ7rRRUsK/8AAAMAHmAde7BF5fWZHjwaUM8Rumr8blnr5JgoOGQngiyocpjPghrGN/WGwQAAACIBnwp0Qn8AAAMAJq0nrtty02sKQ2hhaN0vSoKE+JU1Ly2hAAAAHgGfDGpCfwAAAwAPi80fLS/1J5dHp6r/K0i14nMBnwAAAEVBmxFJqEFsmUwIb//+p4QAAAMADNxckAG47bYA7h4El2ha1RfHGuNcckfj4gnubmvVfLukag/7W385ZOwo6nqJUAw7u9AAAAAiQZ8vRRUsK/8AAAMADEWHq7hcIlKUdi7Kp3sMvcvOOK3LgAAAAB0Bn050Qn8AAAMAD4bWgSOA1HSFagKKejR4IK/JgQAAABoBn1BqQn8AAAMAD4vMf0HBiBPgWHCZ9LgKuAAAAKlBm1VJqEFsmUwIb//+p4QAAAMADOI1giTgAq5aA0+tD86XHnkE4Xa6N3kN5Jr7tonFDn1UV1bOK7GdHfpmYOHzcyEozkItsSJ90P72iuzyV/+j8lcq9BYeZ0gtoKamyBxWCizNGLmSOw9RdH1l2tm6VJydYBDho9ekvPpYuGUrtubxUrf03FSn2n3XPSTcTI0XVUJiS5k0JNKHKO8oy1SL3QaWSPG3xabgAAAAJkGfc0UVLCv/AAADAAxFh6u1f0FURV57tmapYWdNVRLNBaLKvxWxAAAAHAGfknRCfwAAAwAPhtaBI4DUdIVqBITA3l+AwoEAAAAaAZ+UakJ/AAADAA+LzH8kYPl65V1uQ3kNrPkAAAB8QZuZSahBbJlMCG///qeEAAADAA0/CeUxuJ629gAXVU6xitKMLy73Ew5Kw9eAAfkZ21HbdwIYKFka5Js2DiRKA4VpnQsKMoSzYmG7sA8HJ6zMIm1du0e5AcfpAEX/NGxjV7hZSGZ3ZtOnya/LUEjfR8GrsF2ysjuMskDycAAAACBBn7dFFSwr/wAAAwAMRYepGj8RxuKTF+s5kIvihWMSQAAAABoBn9Z0Qn8AAAMAD4bWgXSGZxe0bjYYG74TZwAAABQBn9hqQn8AAAMAD4vF63TOpi3juAAAAIJBm91JqEFsmUwIb//+p4QAAAMADOAvr97RAF+7bur8xg/1ugs2J92j7T3NmzSkJ8mmm0gvEZQlPbR+z8UvUFub3WdWzEJiHqJmdOo+MdxlfYrZbtF45t+aNvR3/juyfz5WiStpS2mqtvtEILYY+OrEGPeisEr+GlQlfgI+fdRFYNEjAAAAIUGf+0UVLCv/AAADAAxFh33J3JIVIIDBoQwRTWZakgPfgQAAABcBnhp0Qn8AAAMAD4bVs2koj2Xf3SmmBAAAABoBnhxqQn8AAAMAD4vGTNE9msgw2WcD4Rq3WQAAAIRBmgFJqEFsmUwIb//+p4QAAAMADNm/3J5YAFCy6dxcQD3rtViz+Nez2e+ykvnt3MDWW/1Bh208DN2v29Bx/+zqvqppPW2n2tqdgNNvktOH28JxMTFh53Tb7Dh+Ex4U/qwXUgUCR8dAj+XgHPCsSJz/vhTw+t+QvHqPWDPlld7OmNYAg6cAAAAeQZ4/RRUsK/8AAAMADEWHW8QLMsanW5kpvtNc9YxYAAAAGAGeXnRCfwAAAwAPhsw/R6YRbUgsb6xJwQAAABcBnkBqQn8AAAMAD4vF63ULZCGbl01VBAAAADhBmkVJqEFsmUwIb//+p4QAAAMADNm/2BnEAbT0TX3RsQqKOQF/wQq9fvffEIavHpxGcKSWXvSggQAAABxBnmNFFSwr/wAAAwAMRYeMIXGZS19grDZyd2LLAAAAFgGegnRCfwAAAwAPhsupLTXGX4OVZ8AAAAAWAZ6EakJ/AAADAA+Lxet1C2IMM6fwYAAAABxBmolJqEFsmUwIb//+p4QAAAMABLVQyn8rRRdxAAAAGUGep0UVLCv/AAADAAxFhk0t0+RKWYH6toAAAAAWAZ7GdEJ/AAADAA+Gy6ktNcZfg5VnwQAAABQBnshqQn8AAAMAD4vF63TOpi3juAAAABhBms1JqEFsmUwIb//+p4QAAAMAAAMA1IEAAAAXQZ7rRRUsK/8AAAMADEWGTS3QtLB4NmEAAAAUAZ8KdEJ/AAADAA+Gy6ksvUOE6/EAAAAUAZ8MakJ/AAADAA+Lxet0zqYt47kAAAAYQZsRSahBbJlMCG///qeEAAADAAADANSAAAAAF0GfL0UVLCv/AAADAAxFhk0t0LSweDZgAAAAFAGfTnRCfwAAAwAPhsupLL1DhOvxAAAAFAGfUGpCfwAAAwAPi8XrdM6mLeO4AAAAF0GbVUmoQWyZTAhn//6eEAAAAwAAAwM+AAAAF0Gfc0UVLCv/AAADAAxFhk0t0LSweDZhAAAAFAGfknRCfwAAAwAPhsupLL1DhOvxAAAAFAGflGpCfwAAAwAPi8XrdM6mLeO5AAAAF0GbmUmoQWyZTAhf//6MsAAAAwAAAwNCAAAAF0Gft0UVLCv/AAADAAxFhk0t0LSweDZgAAAAFAGf1nRCfwAAAwAPhsupLL1DhOvxAAAAFAGf2GpCfwAAAwAPi8XrdM6mLeO4AAAAGEGb20moQWyZTBRMJ//98QAAAwAAAwAekAAAABUBn/pqQn8AAAMAD43u6lyp1Pqjr8EAABSVbW9vdgAAAGxtdmhkAAAAAAAAAAAAAAAAAAAD6AAAMLMAAQAAAQAAAAAAAAAAAAAAAAEAAAAAAAAAAAAAAAAAAAABAAAAAAAAAAAAAAAAAABAAAAAAAAAAAAAAAAAAAAAAAAAAAAAAAAAAAAAAAAAAgAAE8B0cmFrAAAAXHRraGQAAAADAAAAAAAAAAAAAAABAAAAAAAAMLMAAAAAAAAAAAAAAAAAAAAAAAEAAAAAAAAAAAAAAAAAAAABAAAAAAAAAAAAAAAAAABAAAAAAmAAAAGQAAAAAAAkZWR0cwAAABxlbHN0AAAAAAAAAAEAADCzAAAEAAABAAAAABM4bWRpYQAAACBtZGhkAAAAAAAAAAAAAAAAAAA8AAAC7ABVxAAAAAAALWhkbHIAAAAAAAAAAHZpZGUAAAAAAAAAAAAAAABWaWRlb0hhbmRsZXIAAAAS421pbmYAAAAUdm1oZAAAAAEAAAAAAAAAAAAAACRkaW5mAAAAHGRyZWYAAAAAAAAAAQAAAAx1cmwgAAAAAQAAEqNzdGJsAAAAr3N0c2QAAAAAAAAAAQAAAJ9hdmMxAAAAAAAAAAEAAAAAAAAAAAAAAAAAAAAAAmABkABIAAAASAAAAAAAAAABFExhdmM2MS4zLjEwMCBsaWJ4MjY0AAAAAAAAAAAAAAAAGP//AAAANWF2Y0MBZAAe/+EAGGdkAB6s2UCYM6EAAAMAAQAAAwA8DxYtlgEABmjr48siwP34+AAAAAAUYnRydAAAAAAAAKMjAACjIwAAABhzdHRzAAAAAAAAAAEAAAF2AAACAAAAABhzdHNzAAAAAAAAAAIAAAABAAAA+wAAC6BjdHRzAAAAAAAAAXIAAAABAAAEAAAAAAEAAAoAAAAAAQAABAAAAAABAAAAAAAAAAEAAAIAAAAAAQAACgAAAAABAAAEAAAAAAEAAAAAAAAAAQAAAgAAAAABAAAKAAAAAAEAAAQAAAAAAQAAAAAAAAABAAACAAAAAAEAAAoAAAAAAQAABAAAAAABAAAAAAAAAAEAAAIAAAAAAQAABgAAAAABAAACAAAAAAEAAAoAAAAAAQAABAAAAAABAAAAAAAAAAEAAAIAAAAAAQAACgAAAAABAAAEAAAAAAEAAAAAAAAAAQAAAgAAAAABAAAKAAAAAAEAAAQAAAAAAQAAAAAAAAABAAACAAAAAAEAAAoAAAAAAQAABAAAAAABAAAAAAAAAAEAAAIAAAAAAQAACAAAAAACAAACAAAAAAEAAAoAAAAAAQAABAAAAAABAAAAAAAAAAEAAAIAAAAAAQAABgAAAAABAAACAAAAAAEAAAoAAAAAAQAABAAAAAABAAAAAAAAAAEAAAIAAAAAAQAACgAAAAABAAAEAAAAAAEAAAAAAAAAAQAAAgAAAAABAAAKAAAAAAEAAAQAAAAAAQAAAAAAAAABAAACAAAAAAEAAAoAAAAAAQAABAAAAAABAAAAAAAAAAEAAAIAAAAAAQAACgAAAAABAAAEAAAAAAEAAAAAAAAAAQAAAgAAAAABAAAKAAAAAAEAAAQAAAAAAQAAAAAAAAABAAACAAAAAAEAAAoAAAAAAQAABAAAAAABAAAAAAAAAAEAAAIAAAAAAQAACgAAAAABAAAEAAAAAAEAAAAAAAAAAQAAAgAAAAABAAAKAAAAAAEAAAQAAAAAAQAAAAAAAAABAAACAAAAAAEAAAoAAAAAAQAABAAAAAABAAAAAAAAAAEAAAIAAAAAAQAACgAAAAABAAAEAAAAAAEAAAAAAAAAAQAAAgAAAAABAAAKAAAAAAEAAAQAAAAAAQAAAAAAAAABAAACAAAAAAEAAAoAAAAAAQAABAAAAAABAAAAAAAAAAEAAAIAAAAAAQAACgAAAAABAAAEAAAAAAEAAAAAAAAAAQAAAgAAAAABAAAKAAAAAAEAAAQAAAAAAQAAAAAAAAABAAACAAAAAAEAAAgAAAAAAgAAAgAAAAABAAAKAAAAAAEAAAQAAAAAAQAAAAAAAAABAAACAAAAAAEAAAoAAAAAAQAABAAAAAABAAAAAAAAAAEAAAIAAAAAAQAACgAAAAABAAAEAAAAAAEAAAAAAAAAAQAAAgAAAAABAAAKAAAAAAEAAAQAAAAAAQAAAAAAAAABAAACAAAAAAEAAAoAAAAAAQAABAAAAAABAAAAAAAAAAEAAAIAAAAAAQAACgAAAAABAAAEAAAAAAEAAAAAAAAAAQAAAgAAAAABAAAKAAAAAAEAAAQAAAAAAQAAAAAAAAABAAACAAAAAAEAAAoAAAAAAQAABAAAAAABAAAAAAAAAAEAAAIAAAAAAQAACgAAAAABAAAEAAAAAAEAAAAAAAAAAQAAAgAAAAABAAAKAAAAAAEAAAQAAAAAAQAAAAAAAAABAAACAAAAAAEAAAoAAAAAAQAABAAAAAABAAAAAAAAAAEAAAIAAAAAAQAACgAAAAABAAAEAAAAAAEAAAAAAAAAAQAAAgAAAAABAAAKAAAAAAEAAAQAAAAAAQAAAAAAAAABAAACAAAAAAEAAAoAAAAAAQAABAAAAAABAAAAAAAAAAEAAAIAAAAAAQAACgAAAAABAAAEAAAAAAEAAAAAAAAAAQAAAgAAAAABAAAKAAAAAAEAAAQAAAAAAQAAAAAAAAABAAACAAAAAAEAAAoAAAAAAQAABAAAAAABAAAAAAAAAAEAAAIAAAAAAQAACgAAAAABAAAEAAAAAAEAAAAAAAAAAQAAAgAAAAABAAAKAAAAAAEAAAQAAAAAAQAAAAAAAAABAAACAAAAAAEAAAgAAAAAAgAAAgAAAAABAAAKAAAAAAEAAAQAAAAAAQAAAAAAAAABAAACAAAAAAEAAAoAAAAAAQAABAAAAAABAAAAAAAAAAEAAAIAAAAAAQAACgAAAAABAAAEAAAAAAEAAAAAAAAAAQAAAgAAAAABAAAKAAAAAAEAAAQAAAAAAQAAAAAAAAABAAACAAAAAAEAAAoAAAAAAQAABAAAAAABAAAAAAAAAAEAAAIAAAAAAQAACgAAAAABAAAEAAAAAAEAAAAAAAAAAQAAAgAAAAABAAAKAAAAAAEAAAQAAAAAAQAAAAAAAAABAAACAAAAAAEAAAoAAAAAAQAABAAAAAABAAAAAAAAAAEAAAIAAAAAAQAACgAAAAABAAAEAAAAAAEAAAAAAAAAAQAAAgAAAAABAAAKAAAAAAEAAAQAAAAAAQAAAAAAAAABAAACAAAAAAEAAAoAAAAAAQAABAAAAAABAAAAAAAAAAEAAAIAAAAAAQAACgAAAAABAAAEAAAAAAEAAAAAAAAAAQAAAgAAAAABAAAGAAAAAAEAAAIAAAAAAQAACgAAAAABAAAEAAAAAAEAAAAAAAAAAQAAAgAAAAABAAAKAAAAAAEAAAQAAAAAAQAAAAAAAAABAAACAAAAAAEAAAoAAAAAAQAABAAAAAABAAAAAAAAAAEAAAIAAAAAAQAABgAAAAABAAACAAAAAAEAAAQAAAAAAQAACgAAAAABAAAEAAAAAAEAAAAAAAAAAQAAAgAAAAABAAAKAAAAAAEAAAQAAAAAAQAAAAAAAAABAAACAAAAAAEAAAoAAAAAAQAABAAAAAABAAAAAAAAAAEAAAIAAAAAAQAACgAAAAABAAAEAAAAAAEAAAAAAAAAAQAAAgAAAAABAAAKAAAAAAEAAAQAAAAAAQAAAAAAAAABAAACAAAAAAEAAAoAAAAAAQAABAAAAAABAAAAAAAAAAEAAAIAAAAAAQAACgAAAAABAAAEAAAAAAEAAAAAAAAAAQAAAgAAAAABAAAGAAAAAAEAAAIAAAAAAQAACgAAAAABAAAEAAAAAAEAAAAAAAAAAQAAAgAAAAABAAAKAAAAAAEAAAQAAAAAAQAAAAAAAAABAAACAAAAAAEAAAoAAAAAAQAABAAAAAABAAAAAAAAAAEAAAIAAAAAAQAACgAAAAABAAAEAAAAAAEAAAAAAAAAAQAAAgAAAAABAAAIAAAAAAIAAAIAAAAAAQAACgAAAAABAAAEAAAAAAEAAAAAAAAAAQAAAgAAAAABAAAKAAAAAAEAAAQAAAAAAQAAAAAAAAABAAACAAAAAAEAAAoAAAAAAQAABAAAAAABAAAAAAAAAAEAAAIAAAAAAQAACgAAAAABAAAEAAAAAAEAAAAAAAAAAQAAAgAAAAABAAAKAAAAAAEAAAQAAAAAAQAAAAAAAAABAAACAAAAAAEAAAoAAAAAAQAABAAAAAABAAAAAAAAAAEAAAIAAAAAAQAACgAAAAABAAAEAAAAAAEAAAAAAAAAAQAAAgAAAAABAAAKAAAAAAEAAAQAAAAAAQAAAAAAAAABAAACAAAAAAEAAAoAAAAAAQAABAAAAAABAAAAAAAAAAEAAAIAAAAAAQAACgAAAAABAAAEAAAAAAEAAAAAAAAAAQAAAgAAAAABAAAKAAAAAAEAAAQAAAAAAQAAAAAAAAABAAACAAAAAAEAAAoAAAAAAQAABAAAAAABAAAAAAAAAAEAAAIAAAAAAQAACgAAAAABAAAEAAAAAAEAAAAAAAAAAQAAAgAAAAABAAAKAAAAAAEAAAQAAAAAAQAAAAAAAAABAAACAAAAAAEAAAoAAAAAAQAABAAAAAABAAAAAAAAAAEAAAIAAAAAAQAACgAAAAABAAAEAAAAAAEAAAAAAAAAAQAAAgAAAAABAAAKAAAAAAEAAAQAAAAAAQAAAAAAAAABAAACAAAAAAEAAAoAAAAAAQAABAAAAAABAAAAAAAAAAEAAAIAAAAAAQAABgAAAAABAAACAAAAABxzdHNjAAAAAAAAAAEAAAABAAABdgAAAAEAAAXsc3RzegAAAAAAAAAAAAABdgAACfEAAAEVAAAASgAAADUAAAA1AAAArgAAAEwAAAAnAAAAIwAAAMUAAABGAAAAJQAAAC4AAADMAAAASwAAADYAAAAzAAAAwgAAADYAAAFwAAAAkQAAAGAAAACQAAABOwAAALYAAACXAAAAkAAAARkAAACtAAAAuAAAAIQAAAFOAAAAvAAAAKoAAACiAAAA6QAAAL0AAACMAAABEgAAAJAAAAC/AAAAjwAAAO8AAACgAAABGAAAANgAAACdAAAAjQAAAPcAAAB1AAAAkwAAAIoAAADvAAAAfwAAAHkAAACNAAAA/wAAAI0AAAB7AAAAcwAAANoAAABaAAAAiAAAAHMAAADZAAAAeQAAAGcAAACIAAAA2wAAAIQAAAB3AAAAZgAAAPoAAABpAAAAWwAAAGwAAADeAAAAcQAAAGYAAABcAAABRQAAAKUAAAB8AAAAgwAAASkAAACrAAAAjwAAAIAAAAElAAAAeQAAAJgAAAB0AAABcgAAAJQAAADAAAAAuwAAATkAAADEAAAAsQAAAKAAAAE/AAAA9QAAAMUAAADVAAABMAAAAMEAAADAAAABLQAAANIAAAClAAAA1AAAARAAAACZAAAA2AAAALUAAAF2AAAA9AAAANMAAACzAAAA1gAAAOoAAADmAAAAnAAAASkAAACWAAAApAAAAJIAAADpAAAArAAAALwAAACDAAABAwAAAIoAAACIAAAAnAAAASEAAACkAAAAswAAAG0AAAD8AAAA4QAAAIEAAAC8AAABHQAAALsAAAC2AAAAvwAAATsAAADZAAAAsAAAAJoAAAELAAAA4QAAALwAAACgAAAA1wAAAJ0AAAB0AAAAgwAAAQYAAACMAAAAlwAAAHsAAAEfAAAAswAAAKgAAAC6AAAA5QAAALYAAACbAAAAqAAAATQAAAD1AAAAsgAAAKkAAADnAAAA6wAAALsAAACMAAAA8AAAANoAAADMAAAAogAAANYAAADGAAAApQAAAQgAAACwAAAAeAAAAJcAAADxAAAAogAAAJcAAACAAAABWAAAAN8AAACJAAAAoAAAAUEAAADcAAAArwAAAKAAAAEMAAAAuAAAALMAAACPAAAA9wAAALUAAACfAAAAnAAAATAAAACYAAAAlgAAAIIAAADVAAAAtAAAAIMAAACSAAABBQAAAI4AAAB8AAAAfQAAAMwAAACdAAAAhwAAAJwAAAEEAAAAuAAAAIMAAAB2AAABOAAAAL4AAAB4AAAAowAAAPcAAAB9AAABEgAAAKwAAACJAAAAZwAAAOEAAACAAAAAbAAAAHEAAAECAAAAcgAAAIAAAACaAAAAsQAAAJsAAAnOAAABgwAAALkAAACSAAAAvwAAAO4AAACvAAAAhgAAAJAAAAEHAAAArQAAAHkAAACFAAAAwAAAAK4AAAB8AAAAbAAAAPYAAACbAAAAewAAAIIAAAEfAAAAmgAAAKAAAACJAAABCwAAAL8AAACbAAAAgwAAAPkAAACGAAABPwAAAMMAAACdAAAAggAAARYAAAC0AAAAjAAAAJcAAAE9AAAAqAAAAIUAAAB6AAAA9QAAAIIAAACZAAAAbAAAASkAAABoAAAAgQAAATQAAACRAAAAdQAAAHMAAAECAAAAkQAAAGMAAAB3AAABSQAAAIoAAABjAAAAcQAAAaQAAAB+AAAAiAAAAGIAAAEvAAAAlQAAAIoAAACJAAABPAAAAFUAAABmAAAAQQAAANsAAAA4AAAAJgAAACIAAABJAAAAJgAAACEAAAAeAAAArQAAACoAAAAgAAAAHgAAAIAAAAAkAAAAHgAAABgAAACGAAAAJQAAABsAAAAeAAAAiAAAACIAAAAcAAAAGwAAADwAAAAgAAAAGgAAABoAAAAgAAAAHQAAABoAAAAYAAAAHAAAABsAAAAYAAAAGAAAABwAAAAbAAAAGAAAABgAAAAbAAAAGwAAABgAAAAYAAAAGwAAABsAAAAYAAAAGAAAABwAAAAZAAAAFHN0Y28AAAAAAAAAAQAAADAAAABhdWR0YQAAAFltZXRhAAAAAAAAACFoZGxyAAAAAAAAAABtZGlyYXBwbAAAAAAAAAAAAAAAACxpbHN0AAAAJKl0b28AAAAcZGF0YQAAAAEAAAAATGF2ZjYxLjEuMTAw\" type=\"video/mp4\" />\n",
              "             </video>"
            ]
          },
          "metadata": {}
        }
      ],
      "source": [
        "import glob\n",
        "import io\n",
        "import base64\n",
        "import imageio\n",
        "from IPython.display import HTML, display\n",
        "\n",
        "def show_video_of_model(agent, env_name):\n",
        "    env = gym.make(env_name, render_mode='rgb_array')\n",
        "    state, _ = env.reset()\n",
        "    done = False\n",
        "    frames = []\n",
        "    while not done:\n",
        "        frame = env.render()\n",
        "        frames.append(frame)\n",
        "        action = agent.act(state)\n",
        "        state, reward, done, _, _ = env.step(action.item())\n",
        "    env.close()\n",
        "    imageio.mimsave('video.mp4', frames, fps=30)\n",
        "\n",
        "show_video_of_model(agent, 'LunarLander-v3')\n",
        "\n",
        "def show_video():\n",
        "    mp4list = glob.glob('*.mp4')\n",
        "    if len(mp4list) > 0:\n",
        "        mp4 = mp4list[0]\n",
        "        video = io.open(mp4, 'r+b').read()\n",
        "        encoded = base64.b64encode(video)\n",
        "        display(HTML(data='''<video alt=\"test\" autoplay\n",
        "                loop controls style=\"height: 400px;\">\n",
        "                <source src=\"data:video/mp4;base64,{0}\" type=\"video/mp4\" />\n",
        "             </video>'''.format(encoded.decode('ascii'))))\n",
        "    else:\n",
        "        print(\"Could not find video\")\n",
        "\n",
        "show_video()"
      ]
    }
  ],
  "metadata": {
    "colab": {
      "provenance": [],
      "gpuType": "T4",
      "include_colab_link": true
    },
    "kernelspec": {
      "display_name": "Python 3",
      "name": "python3"
    },
    "language_info": {
      "name": "python"
    },
    "accelerator": "GPU"
  },
  "nbformat": 4,
  "nbformat_minor": 0
}